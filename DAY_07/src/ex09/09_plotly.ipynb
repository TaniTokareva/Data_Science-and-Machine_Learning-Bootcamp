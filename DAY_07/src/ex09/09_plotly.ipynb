{
 "cells": [
  {
   "cell_type": "code",
   "execution_count": 1,
   "metadata": {},
   "outputs": [],
   "source": [
    "import pandas as pd\n",
    "import sqlite3\n",
    "import plotly.graph_objects as go\n",
    "import numpy as np"
   ]
  },
  {
   "cell_type": "markdown",
   "metadata": {},
   "source": [
    "Подключение к ДБ"
   ]
  },
  {
   "cell_type": "code",
   "execution_count": 2,
   "metadata": {},
   "outputs": [],
   "source": [
    "db = sqlite3.connect('../data/checking-logs.sqlite')\n"
   ]
  },
  {
   "cell_type": "code",
   "execution_count": 3,
   "metadata": {},
   "outputs": [
    {
     "data": {
      "text/html": [
       "<div>\n",
       "<style scoped>\n",
       "    .dataframe tbody tr th:only-of-type {\n",
       "        vertical-align: middle;\n",
       "    }\n",
       "\n",
       "    .dataframe tbody tr th {\n",
       "        vertical-align: top;\n",
       "    }\n",
       "\n",
       "    .dataframe thead th {\n",
       "        text-align: right;\n",
       "    }\n",
       "</style>\n",
       "<table border=\"1\" class=\"dataframe\">\n",
       "  <thead>\n",
       "    <tr style=\"text-align: right;\">\n",
       "      <th></th>\n",
       "      <th>uid</th>\n",
       "      <th>numTrials</th>\n",
       "      <th>date</th>\n",
       "    </tr>\n",
       "  </thead>\n",
       "  <tbody>\n",
       "    <tr>\n",
       "      <th>0</th>\n",
       "      <td>user_4</td>\n",
       "      <td>1</td>\n",
       "      <td>2020-04-17</td>\n",
       "    </tr>\n",
       "    <tr>\n",
       "      <th>1</th>\n",
       "      <td>user_4</td>\n",
       "      <td>2</td>\n",
       "      <td>2020-04-17</td>\n",
       "    </tr>\n",
       "    <tr>\n",
       "      <th>2</th>\n",
       "      <td>user_4</td>\n",
       "      <td>3</td>\n",
       "      <td>2020-04-17</td>\n",
       "    </tr>\n",
       "    <tr>\n",
       "      <th>3</th>\n",
       "      <td>user_4</td>\n",
       "      <td>4</td>\n",
       "      <td>2020-04-17</td>\n",
       "    </tr>\n",
       "    <tr>\n",
       "      <th>4</th>\n",
       "      <td>user_4</td>\n",
       "      <td>5</td>\n",
       "      <td>2020-04-17</td>\n",
       "    </tr>\n",
       "    <tr>\n",
       "      <th>...</th>\n",
       "      <td>...</td>\n",
       "      <td>...</td>\n",
       "      <td>...</td>\n",
       "    </tr>\n",
       "    <tr>\n",
       "      <th>946</th>\n",
       "      <td>user_19</td>\n",
       "      <td>26</td>\n",
       "      <td>2020-05-15</td>\n",
       "    </tr>\n",
       "    <tr>\n",
       "      <th>947</th>\n",
       "      <td>user_19</td>\n",
       "      <td>27</td>\n",
       "      <td>2020-05-15</td>\n",
       "    </tr>\n",
       "    <tr>\n",
       "      <th>948</th>\n",
       "      <td>user_19</td>\n",
       "      <td>28</td>\n",
       "      <td>2020-05-15</td>\n",
       "    </tr>\n",
       "    <tr>\n",
       "      <th>949</th>\n",
       "      <td>user_28</td>\n",
       "      <td>27</td>\n",
       "      <td>2020-05-15</td>\n",
       "    </tr>\n",
       "    <tr>\n",
       "      <th>950</th>\n",
       "      <td>user_19</td>\n",
       "      <td>29</td>\n",
       "      <td>2020-05-15</td>\n",
       "    </tr>\n",
       "  </tbody>\n",
       "</table>\n",
       "<p>951 rows × 3 columns</p>\n",
       "</div>"
      ],
      "text/plain": [
       "         uid  numTrials        date\n",
       "0     user_4          1  2020-04-17\n",
       "1     user_4          2  2020-04-17\n",
       "2     user_4          3  2020-04-17\n",
       "3     user_4          4  2020-04-17\n",
       "4     user_4          5  2020-04-17\n",
       "..       ...        ...         ...\n",
       "946  user_19         26  2020-05-15\n",
       "947  user_19         27  2020-05-15\n",
       "948  user_19         28  2020-05-15\n",
       "949  user_28         27  2020-05-15\n",
       "950  user_19         29  2020-05-15\n",
       "\n",
       "[951 rows x 3 columns]"
      ]
     },
     "execution_count": 3,
     "metadata": {},
     "output_type": "execute_result"
    }
   ],
   "source": [
    "query = \"\"\"\n",
    "SELECT uid, numTrials, DATE(timestamp) AS date\n",
    "FROM checker\n",
    "WHERE status ='ready'\n",
    "AND uid LIKE 'user_%'\n",
    "AND labname = 'project1'\n",
    "ORDER BY date\n",
    "\"\"\"\n",
    "\n",
    "data = pd.io.sql.read_sql(query, db, parse_dates=['timestamp'])\n",
    "data"
   ]
  },
  {
   "cell_type": "markdown",
   "metadata": {},
   "source": [
    "Преобразование наших данных в таблицу uid - date. \n",
    "Таблица содержит максимальные значение numTrials"
   ]
  },
  {
   "cell_type": "code",
   "execution_count": 4,
   "metadata": {},
   "outputs": [
    {
     "name": "stderr",
     "output_type": "stream",
     "text": [
      "/tmp/ipykernel_6403/3445623477.py:5: FutureWarning: DataFrame.fillna with 'method' is deprecated and will raise in a future version. Use obj.ffill() or obj.bfill() instead.\n",
      "  df = df.fillna(method='pad', axis=0) #Остальные значения заполняются предыдщими ненулевыми значениями (pad)\n"
     ]
    },
    {
     "data": {
      "text/html": [
       "<div>\n",
       "<style scoped>\n",
       "    .dataframe tbody tr th:only-of-type {\n",
       "        vertical-align: middle;\n",
       "    }\n",
       "\n",
       "    .dataframe tbody tr th {\n",
       "        vertical-align: top;\n",
       "    }\n",
       "\n",
       "    .dataframe thead th {\n",
       "        text-align: right;\n",
       "    }\n",
       "</style>\n",
       "<table border=\"1\" class=\"dataframe\">\n",
       "  <thead>\n",
       "    <tr style=\"text-align: right;\">\n",
       "      <th></th>\n",
       "      <th>0</th>\n",
       "      <th>1</th>\n",
       "      <th>2</th>\n",
       "      <th>3</th>\n",
       "      <th>4</th>\n",
       "      <th>5</th>\n",
       "      <th>6</th>\n",
       "      <th>7</th>\n",
       "      <th>8</th>\n",
       "      <th>9</th>\n",
       "      <th>10</th>\n",
       "      <th>11</th>\n",
       "      <th>12</th>\n",
       "      <th>13</th>\n",
       "      <th>14</th>\n",
       "      <th>15</th>\n",
       "      <th>16</th>\n",
       "      <th>17</th>\n",
       "      <th>18</th>\n",
       "    </tr>\n",
       "    <tr>\n",
       "      <th>uid</th>\n",
       "      <th></th>\n",
       "      <th></th>\n",
       "      <th></th>\n",
       "      <th></th>\n",
       "      <th></th>\n",
       "      <th></th>\n",
       "      <th></th>\n",
       "      <th></th>\n",
       "      <th></th>\n",
       "      <th></th>\n",
       "      <th></th>\n",
       "      <th></th>\n",
       "      <th></th>\n",
       "      <th></th>\n",
       "      <th></th>\n",
       "      <th></th>\n",
       "      <th></th>\n",
       "      <th></th>\n",
       "      <th></th>\n",
       "    </tr>\n",
       "  </thead>\n",
       "  <tbody>\n",
       "    <tr>\n",
       "      <th>user_1</th>\n",
       "      <td>0.0</td>\n",
       "      <td>0.0</td>\n",
       "      <td>0.0</td>\n",
       "      <td>0.0</td>\n",
       "      <td>0.0</td>\n",
       "      <td>0.0</td>\n",
       "      <td>0.0</td>\n",
       "      <td>0.0</td>\n",
       "      <td>0.0</td>\n",
       "      <td>0.0</td>\n",
       "      <td>0.0</td>\n",
       "      <td>0.0</td>\n",
       "      <td>0.0</td>\n",
       "      <td>0.0</td>\n",
       "      <td>0.0</td>\n",
       "      <td>0.0</td>\n",
       "      <td>0.0</td>\n",
       "      <td>11.0</td>\n",
       "      <td>11.0</td>\n",
       "    </tr>\n",
       "    <tr>\n",
       "      <th>user_10</th>\n",
       "      <td>0.0</td>\n",
       "      <td>0.0</td>\n",
       "      <td>0.0</td>\n",
       "      <td>0.0</td>\n",
       "      <td>0.0</td>\n",
       "      <td>0.0</td>\n",
       "      <td>0.0</td>\n",
       "      <td>0.0</td>\n",
       "      <td>0.0</td>\n",
       "      <td>0.0</td>\n",
       "      <td>0.0</td>\n",
       "      <td>0.0</td>\n",
       "      <td>0.0</td>\n",
       "      <td>0.0</td>\n",
       "      <td>0.0</td>\n",
       "      <td>7.0</td>\n",
       "      <td>21.0</td>\n",
       "      <td>59.0</td>\n",
       "      <td>59.0</td>\n",
       "    </tr>\n",
       "    <tr>\n",
       "      <th>user_11</th>\n",
       "      <td>0.0</td>\n",
       "      <td>0.0</td>\n",
       "      <td>0.0</td>\n",
       "      <td>0.0</td>\n",
       "      <td>0.0</td>\n",
       "      <td>0.0</td>\n",
       "      <td>1.0</td>\n",
       "      <td>1.0</td>\n",
       "      <td>1.0</td>\n",
       "      <td>1.0</td>\n",
       "      <td>1.0</td>\n",
       "      <td>1.0</td>\n",
       "      <td>1.0</td>\n",
       "      <td>1.0</td>\n",
       "      <td>1.0</td>\n",
       "      <td>1.0</td>\n",
       "      <td>1.0</td>\n",
       "      <td>1.0</td>\n",
       "      <td>1.0</td>\n",
       "    </tr>\n",
       "    <tr>\n",
       "      <th>user_12</th>\n",
       "      <td>0.0</td>\n",
       "      <td>0.0</td>\n",
       "      <td>0.0</td>\n",
       "      <td>0.0</td>\n",
       "      <td>0.0</td>\n",
       "      <td>0.0</td>\n",
       "      <td>0.0</td>\n",
       "      <td>0.0</td>\n",
       "      <td>0.0</td>\n",
       "      <td>0.0</td>\n",
       "      <td>0.0</td>\n",
       "      <td>0.0</td>\n",
       "      <td>0.0</td>\n",
       "      <td>0.0</td>\n",
       "      <td>0.0</td>\n",
       "      <td>0.0</td>\n",
       "      <td>0.0</td>\n",
       "      <td>4.0</td>\n",
       "      <td>4.0</td>\n",
       "    </tr>\n",
       "    <tr>\n",
       "      <th>user_13</th>\n",
       "      <td>0.0</td>\n",
       "      <td>0.0</td>\n",
       "      <td>0.0</td>\n",
       "      <td>0.0</td>\n",
       "      <td>0.0</td>\n",
       "      <td>0.0</td>\n",
       "      <td>0.0</td>\n",
       "      <td>0.0</td>\n",
       "      <td>0.0</td>\n",
       "      <td>0.0</td>\n",
       "      <td>0.0</td>\n",
       "      <td>0.0</td>\n",
       "      <td>0.0</td>\n",
       "      <td>0.0</td>\n",
       "      <td>2.0</td>\n",
       "      <td>30.0</td>\n",
       "      <td>30.0</td>\n",
       "      <td>32.0</td>\n",
       "      <td>32.0</td>\n",
       "    </tr>\n",
       "    <tr>\n",
       "      <th>user_14</th>\n",
       "      <td>0.0</td>\n",
       "      <td>0.0</td>\n",
       "      <td>0.0</td>\n",
       "      <td>0.0</td>\n",
       "      <td>0.0</td>\n",
       "      <td>0.0</td>\n",
       "      <td>0.0</td>\n",
       "      <td>0.0</td>\n",
       "      <td>1.0</td>\n",
       "      <td>1.0</td>\n",
       "      <td>1.0</td>\n",
       "      <td>1.0</td>\n",
       "      <td>18.0</td>\n",
       "      <td>25.0</td>\n",
       "      <td>49.0</td>\n",
       "      <td>92.0</td>\n",
       "      <td>92.0</td>\n",
       "      <td>99.0</td>\n",
       "      <td>99.0</td>\n",
       "    </tr>\n",
       "    <tr>\n",
       "      <th>user_15</th>\n",
       "      <td>0.0</td>\n",
       "      <td>0.0</td>\n",
       "      <td>0.0</td>\n",
       "      <td>0.0</td>\n",
       "      <td>0.0</td>\n",
       "      <td>0.0</td>\n",
       "      <td>0.0</td>\n",
       "      <td>0.0</td>\n",
       "      <td>0.0</td>\n",
       "      <td>0.0</td>\n",
       "      <td>0.0</td>\n",
       "      <td>0.0</td>\n",
       "      <td>0.0</td>\n",
       "      <td>0.0</td>\n",
       "      <td>0.0</td>\n",
       "      <td>0.0</td>\n",
       "      <td>0.0</td>\n",
       "      <td>3.0</td>\n",
       "      <td>3.0</td>\n",
       "    </tr>\n",
       "    <tr>\n",
       "      <th>user_16</th>\n",
       "      <td>0.0</td>\n",
       "      <td>0.0</td>\n",
       "      <td>0.0</td>\n",
       "      <td>0.0</td>\n",
       "      <td>0.0</td>\n",
       "      <td>0.0</td>\n",
       "      <td>0.0</td>\n",
       "      <td>0.0</td>\n",
       "      <td>0.0</td>\n",
       "      <td>0.0</td>\n",
       "      <td>0.0</td>\n",
       "      <td>0.0</td>\n",
       "      <td>0.0</td>\n",
       "      <td>0.0</td>\n",
       "      <td>0.0</td>\n",
       "      <td>3.0</td>\n",
       "      <td>3.0</td>\n",
       "      <td>10.0</td>\n",
       "      <td>10.0</td>\n",
       "    </tr>\n",
       "    <tr>\n",
       "      <th>user_17</th>\n",
       "      <td>0.0</td>\n",
       "      <td>1.0</td>\n",
       "      <td>1.0</td>\n",
       "      <td>1.0</td>\n",
       "      <td>1.0</td>\n",
       "      <td>1.0</td>\n",
       "      <td>1.0</td>\n",
       "      <td>1.0</td>\n",
       "      <td>1.0</td>\n",
       "      <td>1.0</td>\n",
       "      <td>1.0</td>\n",
       "      <td>1.0</td>\n",
       "      <td>1.0</td>\n",
       "      <td>1.0</td>\n",
       "      <td>1.0</td>\n",
       "      <td>3.0</td>\n",
       "      <td>3.0</td>\n",
       "      <td>6.0</td>\n",
       "      <td>6.0</td>\n",
       "    </tr>\n",
       "    <tr>\n",
       "      <th>user_18</th>\n",
       "      <td>0.0</td>\n",
       "      <td>0.0</td>\n",
       "      <td>0.0</td>\n",
       "      <td>0.0</td>\n",
       "      <td>0.0</td>\n",
       "      <td>0.0</td>\n",
       "      <td>0.0</td>\n",
       "      <td>0.0</td>\n",
       "      <td>0.0</td>\n",
       "      <td>0.0</td>\n",
       "      <td>0.0</td>\n",
       "      <td>0.0</td>\n",
       "      <td>0.0</td>\n",
       "      <td>0.0</td>\n",
       "      <td>7.0</td>\n",
       "      <td>7.0</td>\n",
       "      <td>8.0</td>\n",
       "      <td>31.0</td>\n",
       "      <td>31.0</td>\n",
       "    </tr>\n",
       "    <tr>\n",
       "      <th>user_19</th>\n",
       "      <td>0.0</td>\n",
       "      <td>0.0</td>\n",
       "      <td>0.0</td>\n",
       "      <td>0.0</td>\n",
       "      <td>0.0</td>\n",
       "      <td>0.0</td>\n",
       "      <td>0.0</td>\n",
       "      <td>0.0</td>\n",
       "      <td>0.0</td>\n",
       "      <td>0.0</td>\n",
       "      <td>0.0</td>\n",
       "      <td>0.0</td>\n",
       "      <td>0.0</td>\n",
       "      <td>0.0</td>\n",
       "      <td>0.0</td>\n",
       "      <td>0.0</td>\n",
       "      <td>0.0</td>\n",
       "      <td>25.0</td>\n",
       "      <td>29.0</td>\n",
       "    </tr>\n",
       "    <tr>\n",
       "      <th>user_2</th>\n",
       "      <td>0.0</td>\n",
       "      <td>0.0</td>\n",
       "      <td>0.0</td>\n",
       "      <td>0.0</td>\n",
       "      <td>0.0</td>\n",
       "      <td>0.0</td>\n",
       "      <td>0.0</td>\n",
       "      <td>0.0</td>\n",
       "      <td>57.0</td>\n",
       "      <td>58.0</td>\n",
       "      <td>58.0</td>\n",
       "      <td>58.0</td>\n",
       "      <td>58.0</td>\n",
       "      <td>62.0</td>\n",
       "      <td>74.0</td>\n",
       "      <td>78.0</td>\n",
       "      <td>93.0</td>\n",
       "      <td>95.0</td>\n",
       "      <td>95.0</td>\n",
       "    </tr>\n",
       "    <tr>\n",
       "      <th>user_20</th>\n",
       "      <td>0.0</td>\n",
       "      <td>0.0</td>\n",
       "      <td>0.0</td>\n",
       "      <td>0.0</td>\n",
       "      <td>0.0</td>\n",
       "      <td>0.0</td>\n",
       "      <td>0.0</td>\n",
       "      <td>0.0</td>\n",
       "      <td>0.0</td>\n",
       "      <td>0.0</td>\n",
       "      <td>0.0</td>\n",
       "      <td>0.0</td>\n",
       "      <td>0.0</td>\n",
       "      <td>0.0</td>\n",
       "      <td>11.0</td>\n",
       "      <td>11.0</td>\n",
       "      <td>11.0</td>\n",
       "      <td>54.0</td>\n",
       "      <td>54.0</td>\n",
       "    </tr>\n",
       "    <tr>\n",
       "      <th>user_21</th>\n",
       "      <td>0.0</td>\n",
       "      <td>0.0</td>\n",
       "      <td>0.0</td>\n",
       "      <td>0.0</td>\n",
       "      <td>0.0</td>\n",
       "      <td>0.0</td>\n",
       "      <td>0.0</td>\n",
       "      <td>0.0</td>\n",
       "      <td>0.0</td>\n",
       "      <td>0.0</td>\n",
       "      <td>0.0</td>\n",
       "      <td>0.0</td>\n",
       "      <td>0.0</td>\n",
       "      <td>7.0</td>\n",
       "      <td>7.0</td>\n",
       "      <td>7.0</td>\n",
       "      <td>7.0</td>\n",
       "      <td>9.0</td>\n",
       "      <td>9.0</td>\n",
       "    </tr>\n",
       "    <tr>\n",
       "      <th>user_22</th>\n",
       "      <td>0.0</td>\n",
       "      <td>0.0</td>\n",
       "      <td>0.0</td>\n",
       "      <td>0.0</td>\n",
       "      <td>0.0</td>\n",
       "      <td>0.0</td>\n",
       "      <td>1.0</td>\n",
       "      <td>1.0</td>\n",
       "      <td>1.0</td>\n",
       "      <td>1.0</td>\n",
       "      <td>1.0</td>\n",
       "      <td>1.0</td>\n",
       "      <td>1.0</td>\n",
       "      <td>1.0</td>\n",
       "      <td>1.0</td>\n",
       "      <td>1.0</td>\n",
       "      <td>1.0</td>\n",
       "      <td>2.0</td>\n",
       "      <td>2.0</td>\n",
       "    </tr>\n",
       "    <tr>\n",
       "      <th>user_24</th>\n",
       "      <td>0.0</td>\n",
       "      <td>0.0</td>\n",
       "      <td>0.0</td>\n",
       "      <td>0.0</td>\n",
       "      <td>0.0</td>\n",
       "      <td>0.0</td>\n",
       "      <td>0.0</td>\n",
       "      <td>0.0</td>\n",
       "      <td>0.0</td>\n",
       "      <td>0.0</td>\n",
       "      <td>0.0</td>\n",
       "      <td>0.0</td>\n",
       "      <td>0.0</td>\n",
       "      <td>0.0</td>\n",
       "      <td>0.0</td>\n",
       "      <td>0.0</td>\n",
       "      <td>9.0</td>\n",
       "      <td>34.0</td>\n",
       "      <td>34.0</td>\n",
       "    </tr>\n",
       "    <tr>\n",
       "      <th>user_25</th>\n",
       "      <td>0.0</td>\n",
       "      <td>0.0</td>\n",
       "      <td>0.0</td>\n",
       "      <td>0.0</td>\n",
       "      <td>0.0</td>\n",
       "      <td>0.0</td>\n",
       "      <td>0.0</td>\n",
       "      <td>0.0</td>\n",
       "      <td>0.0</td>\n",
       "      <td>0.0</td>\n",
       "      <td>0.0</td>\n",
       "      <td>5.0</td>\n",
       "      <td>27.0</td>\n",
       "      <td>29.0</td>\n",
       "      <td>33.0</td>\n",
       "      <td>54.0</td>\n",
       "      <td>57.0</td>\n",
       "      <td>77.0</td>\n",
       "      <td>77.0</td>\n",
       "    </tr>\n",
       "    <tr>\n",
       "      <th>user_26</th>\n",
       "      <td>0.0</td>\n",
       "      <td>0.0</td>\n",
       "      <td>0.0</td>\n",
       "      <td>0.0</td>\n",
       "      <td>0.0</td>\n",
       "      <td>0.0</td>\n",
       "      <td>0.0</td>\n",
       "      <td>0.0</td>\n",
       "      <td>0.0</td>\n",
       "      <td>0.0</td>\n",
       "      <td>0.0</td>\n",
       "      <td>0.0</td>\n",
       "      <td>0.0</td>\n",
       "      <td>35.0</td>\n",
       "      <td>35.0</td>\n",
       "      <td>35.0</td>\n",
       "      <td>52.0</td>\n",
       "      <td>67.0</td>\n",
       "      <td>67.0</td>\n",
       "    </tr>\n",
       "    <tr>\n",
       "      <th>user_27</th>\n",
       "      <td>0.0</td>\n",
       "      <td>0.0</td>\n",
       "      <td>0.0</td>\n",
       "      <td>0.0</td>\n",
       "      <td>0.0</td>\n",
       "      <td>0.0</td>\n",
       "      <td>0.0</td>\n",
       "      <td>0.0</td>\n",
       "      <td>0.0</td>\n",
       "      <td>0.0</td>\n",
       "      <td>0.0</td>\n",
       "      <td>0.0</td>\n",
       "      <td>0.0</td>\n",
       "      <td>0.0</td>\n",
       "      <td>0.0</td>\n",
       "      <td>0.0</td>\n",
       "      <td>0.0</td>\n",
       "      <td>8.0</td>\n",
       "      <td>8.0</td>\n",
       "    </tr>\n",
       "    <tr>\n",
       "      <th>user_28</th>\n",
       "      <td>0.0</td>\n",
       "      <td>0.0</td>\n",
       "      <td>0.0</td>\n",
       "      <td>0.0</td>\n",
       "      <td>0.0</td>\n",
       "      <td>0.0</td>\n",
       "      <td>0.0</td>\n",
       "      <td>0.0</td>\n",
       "      <td>0.0</td>\n",
       "      <td>0.0</td>\n",
       "      <td>0.0</td>\n",
       "      <td>0.0</td>\n",
       "      <td>0.0</td>\n",
       "      <td>0.0</td>\n",
       "      <td>0.0</td>\n",
       "      <td>2.0</td>\n",
       "      <td>20.0</td>\n",
       "      <td>26.0</td>\n",
       "      <td>27.0</td>\n",
       "    </tr>\n",
       "    <tr>\n",
       "      <th>user_29</th>\n",
       "      <td>0.0</td>\n",
       "      <td>0.0</td>\n",
       "      <td>0.0</td>\n",
       "      <td>0.0</td>\n",
       "      <td>0.0</td>\n",
       "      <td>0.0</td>\n",
       "      <td>0.0</td>\n",
       "      <td>0.0</td>\n",
       "      <td>0.0</td>\n",
       "      <td>0.0</td>\n",
       "      <td>0.0</td>\n",
       "      <td>0.0</td>\n",
       "      <td>0.0</td>\n",
       "      <td>0.0</td>\n",
       "      <td>5.0</td>\n",
       "      <td>18.0</td>\n",
       "      <td>34.0</td>\n",
       "      <td>35.0</td>\n",
       "      <td>35.0</td>\n",
       "    </tr>\n",
       "    <tr>\n",
       "      <th>user_3</th>\n",
       "      <td>0.0</td>\n",
       "      <td>0.0</td>\n",
       "      <td>0.0</td>\n",
       "      <td>0.0</td>\n",
       "      <td>0.0</td>\n",
       "      <td>0.0</td>\n",
       "      <td>0.0</td>\n",
       "      <td>0.0</td>\n",
       "      <td>0.0</td>\n",
       "      <td>0.0</td>\n",
       "      <td>1.0</td>\n",
       "      <td>28.0</td>\n",
       "      <td>29.0</td>\n",
       "      <td>31.0</td>\n",
       "      <td>54.0</td>\n",
       "      <td>56.0</td>\n",
       "      <td>56.0</td>\n",
       "      <td>58.0</td>\n",
       "      <td>58.0</td>\n",
       "    </tr>\n",
       "    <tr>\n",
       "      <th>user_30</th>\n",
       "      <td>0.0</td>\n",
       "      <td>0.0</td>\n",
       "      <td>0.0</td>\n",
       "      <td>1.0</td>\n",
       "      <td>2.0</td>\n",
       "      <td>2.0</td>\n",
       "      <td>4.0</td>\n",
       "      <td>5.0</td>\n",
       "      <td>5.0</td>\n",
       "      <td>5.0</td>\n",
       "      <td>12.0</td>\n",
       "      <td>12.0</td>\n",
       "      <td>12.0</td>\n",
       "      <td>17.0</td>\n",
       "      <td>17.0</td>\n",
       "      <td>17.0</td>\n",
       "      <td>17.0</td>\n",
       "      <td>19.0</td>\n",
       "      <td>19.0</td>\n",
       "    </tr>\n",
       "    <tr>\n",
       "      <th>user_31</th>\n",
       "      <td>0.0</td>\n",
       "      <td>0.0</td>\n",
       "      <td>0.0</td>\n",
       "      <td>0.0</td>\n",
       "      <td>0.0</td>\n",
       "      <td>0.0</td>\n",
       "      <td>0.0</td>\n",
       "      <td>0.0</td>\n",
       "      <td>0.0</td>\n",
       "      <td>0.0</td>\n",
       "      <td>1.0</td>\n",
       "      <td>1.0</td>\n",
       "      <td>4.0</td>\n",
       "      <td>4.0</td>\n",
       "      <td>6.0</td>\n",
       "      <td>6.0</td>\n",
       "      <td>6.0</td>\n",
       "      <td>8.0</td>\n",
       "      <td>8.0</td>\n",
       "    </tr>\n",
       "    <tr>\n",
       "      <th>user_4</th>\n",
       "      <td>7.0</td>\n",
       "      <td>7.0</td>\n",
       "      <td>11.0</td>\n",
       "      <td>11.0</td>\n",
       "      <td>20.0</td>\n",
       "      <td>27.0</td>\n",
       "      <td>35.0</td>\n",
       "      <td>48.0</td>\n",
       "      <td>53.0</td>\n",
       "      <td>53.0</td>\n",
       "      <td>71.0</td>\n",
       "      <td>83.0</td>\n",
       "      <td>83.0</td>\n",
       "      <td>83.0</td>\n",
       "      <td>87.0</td>\n",
       "      <td>125.0</td>\n",
       "      <td>137.0</td>\n",
       "      <td>164.0</td>\n",
       "      <td>164.0</td>\n",
       "    </tr>\n",
       "    <tr>\n",
       "      <th>user_6</th>\n",
       "      <td>0.0</td>\n",
       "      <td>0.0</td>\n",
       "      <td>0.0</td>\n",
       "      <td>0.0</td>\n",
       "      <td>0.0</td>\n",
       "      <td>0.0</td>\n",
       "      <td>0.0</td>\n",
       "      <td>0.0</td>\n",
       "      <td>0.0</td>\n",
       "      <td>0.0</td>\n",
       "      <td>0.0</td>\n",
       "      <td>0.0</td>\n",
       "      <td>0.0</td>\n",
       "      <td>0.0</td>\n",
       "      <td>0.0</td>\n",
       "      <td>0.0</td>\n",
       "      <td>1.0</td>\n",
       "      <td>2.0</td>\n",
       "      <td>2.0</td>\n",
       "    </tr>\n",
       "    <tr>\n",
       "      <th>user_8</th>\n",
       "      <td>0.0</td>\n",
       "      <td>0.0</td>\n",
       "      <td>0.0</td>\n",
       "      <td>0.0</td>\n",
       "      <td>0.0</td>\n",
       "      <td>0.0</td>\n",
       "      <td>0.0</td>\n",
       "      <td>0.0</td>\n",
       "      <td>0.0</td>\n",
       "      <td>0.0</td>\n",
       "      <td>0.0</td>\n",
       "      <td>0.0</td>\n",
       "      <td>0.0</td>\n",
       "      <td>0.0</td>\n",
       "      <td>0.0</td>\n",
       "      <td>0.0</td>\n",
       "      <td>0.0</td>\n",
       "      <td>8.0</td>\n",
       "      <td>8.0</td>\n",
       "    </tr>\n",
       "  </tbody>\n",
       "</table>\n",
       "</div>"
      ],
      "text/plain": [
       "          0    1     2     3     4     5     6     7     8     9     10    11  \\\n",
       "uid                                                                             \n",
       "user_1   0.0  0.0   0.0   0.0   0.0   0.0   0.0   0.0   0.0   0.0   0.0   0.0   \n",
       "user_10  0.0  0.0   0.0   0.0   0.0   0.0   0.0   0.0   0.0   0.0   0.0   0.0   \n",
       "user_11  0.0  0.0   0.0   0.0   0.0   0.0   1.0   1.0   1.0   1.0   1.0   1.0   \n",
       "user_12  0.0  0.0   0.0   0.0   0.0   0.0   0.0   0.0   0.0   0.0   0.0   0.0   \n",
       "user_13  0.0  0.0   0.0   0.0   0.0   0.0   0.0   0.0   0.0   0.0   0.0   0.0   \n",
       "user_14  0.0  0.0   0.0   0.0   0.0   0.0   0.0   0.0   1.0   1.0   1.0   1.0   \n",
       "user_15  0.0  0.0   0.0   0.0   0.0   0.0   0.0   0.0   0.0   0.0   0.0   0.0   \n",
       "user_16  0.0  0.0   0.0   0.0   0.0   0.0   0.0   0.0   0.0   0.0   0.0   0.0   \n",
       "user_17  0.0  1.0   1.0   1.0   1.0   1.0   1.0   1.0   1.0   1.0   1.0   1.0   \n",
       "user_18  0.0  0.0   0.0   0.0   0.0   0.0   0.0   0.0   0.0   0.0   0.0   0.0   \n",
       "user_19  0.0  0.0   0.0   0.0   0.0   0.0   0.0   0.0   0.0   0.0   0.0   0.0   \n",
       "user_2   0.0  0.0   0.0   0.0   0.0   0.0   0.0   0.0  57.0  58.0  58.0  58.0   \n",
       "user_20  0.0  0.0   0.0   0.0   0.0   0.0   0.0   0.0   0.0   0.0   0.0   0.0   \n",
       "user_21  0.0  0.0   0.0   0.0   0.0   0.0   0.0   0.0   0.0   0.0   0.0   0.0   \n",
       "user_22  0.0  0.0   0.0   0.0   0.0   0.0   1.0   1.0   1.0   1.0   1.0   1.0   \n",
       "user_24  0.0  0.0   0.0   0.0   0.0   0.0   0.0   0.0   0.0   0.0   0.0   0.0   \n",
       "user_25  0.0  0.0   0.0   0.0   0.0   0.0   0.0   0.0   0.0   0.0   0.0   5.0   \n",
       "user_26  0.0  0.0   0.0   0.0   0.0   0.0   0.0   0.0   0.0   0.0   0.0   0.0   \n",
       "user_27  0.0  0.0   0.0   0.0   0.0   0.0   0.0   0.0   0.0   0.0   0.0   0.0   \n",
       "user_28  0.0  0.0   0.0   0.0   0.0   0.0   0.0   0.0   0.0   0.0   0.0   0.0   \n",
       "user_29  0.0  0.0   0.0   0.0   0.0   0.0   0.0   0.0   0.0   0.0   0.0   0.0   \n",
       "user_3   0.0  0.0   0.0   0.0   0.0   0.0   0.0   0.0   0.0   0.0   1.0  28.0   \n",
       "user_30  0.0  0.0   0.0   1.0   2.0   2.0   4.0   5.0   5.0   5.0  12.0  12.0   \n",
       "user_31  0.0  0.0   0.0   0.0   0.0   0.0   0.0   0.0   0.0   0.0   1.0   1.0   \n",
       "user_4   7.0  7.0  11.0  11.0  20.0  27.0  35.0  48.0  53.0  53.0  71.0  83.0   \n",
       "user_6   0.0  0.0   0.0   0.0   0.0   0.0   0.0   0.0   0.0   0.0   0.0   0.0   \n",
       "user_8   0.0  0.0   0.0   0.0   0.0   0.0   0.0   0.0   0.0   0.0   0.0   0.0   \n",
       "\n",
       "           12    13    14     15     16     17     18  \n",
       "uid                                                    \n",
       "user_1    0.0   0.0   0.0    0.0    0.0   11.0   11.0  \n",
       "user_10   0.0   0.0   0.0    7.0   21.0   59.0   59.0  \n",
       "user_11   1.0   1.0   1.0    1.0    1.0    1.0    1.0  \n",
       "user_12   0.0   0.0   0.0    0.0    0.0    4.0    4.0  \n",
       "user_13   0.0   0.0   2.0   30.0   30.0   32.0   32.0  \n",
       "user_14  18.0  25.0  49.0   92.0   92.0   99.0   99.0  \n",
       "user_15   0.0   0.0   0.0    0.0    0.0    3.0    3.0  \n",
       "user_16   0.0   0.0   0.0    3.0    3.0   10.0   10.0  \n",
       "user_17   1.0   1.0   1.0    3.0    3.0    6.0    6.0  \n",
       "user_18   0.0   0.0   7.0    7.0    8.0   31.0   31.0  \n",
       "user_19   0.0   0.0   0.0    0.0    0.0   25.0   29.0  \n",
       "user_2   58.0  62.0  74.0   78.0   93.0   95.0   95.0  \n",
       "user_20   0.0   0.0  11.0   11.0   11.0   54.0   54.0  \n",
       "user_21   0.0   7.0   7.0    7.0    7.0    9.0    9.0  \n",
       "user_22   1.0   1.0   1.0    1.0    1.0    2.0    2.0  \n",
       "user_24   0.0   0.0   0.0    0.0    9.0   34.0   34.0  \n",
       "user_25  27.0  29.0  33.0   54.0   57.0   77.0   77.0  \n",
       "user_26   0.0  35.0  35.0   35.0   52.0   67.0   67.0  \n",
       "user_27   0.0   0.0   0.0    0.0    0.0    8.0    8.0  \n",
       "user_28   0.0   0.0   0.0    2.0   20.0   26.0   27.0  \n",
       "user_29   0.0   0.0   5.0   18.0   34.0   35.0   35.0  \n",
       "user_3   29.0  31.0  54.0   56.0   56.0   58.0   58.0  \n",
       "user_30  12.0  17.0  17.0   17.0   17.0   19.0   19.0  \n",
       "user_31   4.0   4.0   6.0    6.0    6.0    8.0    8.0  \n",
       "user_4   83.0  83.0  87.0  125.0  137.0  164.0  164.0  \n",
       "user_6    0.0   0.0   0.0    0.0    1.0    2.0    2.0  \n",
       "user_8    0.0   0.0   0.0    0.0    0.0    8.0    8.0  "
      ]
     },
     "execution_count": 4,
     "metadata": {},
     "output_type": "execute_result"
    }
   ],
   "source": [
    "df = data.groupby(['date', 'uid'])\n",
    "df = df.max()['numTrials'].unstack()\n",
    "df.index = np.arange(len(df.index)) # Индексы строк заменяются последовательными числами от 0 до длины df.\n",
    "df.iloc[0] = df.iloc[0].fillna(0) #Для первой строки (iloc[0]) пропуски (NaN) заменяются на 0. Для дальнейших вычислений\n",
    "df = df.fillna(method='pad', axis=0) #Остальные значения заполняются предыдщими ненулевыми значениями (pad)\n",
    "df = df.transpose()\n",
    "df"
   ]
  },
  {
   "cell_type": "markdown",
   "metadata": {},
   "source": [
    "Общая информация о данных:"
   ]
  },
  {
   "cell_type": "code",
   "execution_count": 5,
   "metadata": {},
   "outputs": [],
   "source": [
    "numOfRows = df.shape[0] # No of Countries\n",
    "numOfCols = df.shape[1] # No of years + one column for a country\n",
    "numOfFrames = numOfCols - 1\n",
    "xaxis_range = [0,numOfFrames + 2]"
   ]
  },
  {
   "cell_type": "code",
   "execution_count": 6,
   "metadata": {},
   "outputs": [],
   "source": [
    "df.max()\n",
    "yaxis_range = [0, round(max(df.max()) + 2)]"
   ]
  },
  {
   "cell_type": "markdown",
   "metadata": {},
   "source": [
    "## Начальные данные для графика"
   ]
  },
  {
   "cell_type": "markdown",
   "metadata": {},
   "source": [
    "1. Создается список пустых графиков Scatter для каждого пользователя (df.index).\n",
    "2. Эти графики заполнятся данными во время анимации."
   ]
  },
  {
   "cell_type": "code",
   "execution_count": 7,
   "metadata": {},
   "outputs": [],
   "source": [
    "initial_data = [go.Scatter(x=np.array([]), y=np.array([]), mode='lines+markers', \n",
    "                           name=name) for name in df.index]"
   ]
  },
  {
   "cell_type": "markdown",
   "metadata": {},
   "source": [
    "## Создание кадров"
   ]
  },
  {
   "cell_type": "markdown",
   "metadata": {},
   "source": [
    "frames:\n",
    "Создается список кадров для анимации.\n",
    "Для каждого времени (i) генерируется кадр:\n",
    "- x: Номера дат от 0 до текущей даты (np.arange(i + 1)).\n",
    "- y: Значения numTrials для всех пользователей от начала до текущей даты.\n",
    "\n",
    "Каждый кадр содержит набор графиков для всех пользователей."
   ]
  },
  {
   "cell_type": "code",
   "execution_count": 8,
   "metadata": {},
   "outputs": [],
   "source": [
    "frames = []\n",
    "for i in range (numOfFrames+1):\n",
    "    x_axis=np.arange(i+1)\n",
    "    curr_data=[]\n",
    "    for j in range(len(df.index)):\n",
    "        y_axis = np.array(df.iloc[j, :i + 1])\n",
    "\n",
    "        curr_data.append(go.Scatter(x = x_axis, y = y_axis, mode='lines+markers', name=df.index[j]))\n",
    "    curr_frame = go.Frame(data = curr_data, layout = {\"title\":'Dynamic of commits per user in project1'})\n",
    "    frames.append(curr_frame)\n"
   ]
  },
  {
   "cell_type": "markdown",
   "metadata": {},
   "source": [
    "## Построение графика"
   ]
  },
  {
   "cell_type": "markdown",
   "metadata": {},
   "source": [
    "go.Figure:\n",
    "1. data: начальные данные (пустые графики).\n",
    "2. layout: параметры графика:\n",
    "- Размеры (width и height).\n",
    "- Заголовок (title).\n",
    "- Настройки оси x (диапазон и шаг).\n",
    "- Настройки оси y (диапазон вычисляется динамически).\n",
    "- Кнопка для запуска анимации.\n",
    "3. frames: добавляются кадры для анимации.\n",
    "4. fig.show(): Отображает график с анимацией."
   ]
  },
  {
   "cell_type": "code",
   "execution_count": 9,
   "metadata": {},
   "outputs": [
    {
     "data": {
      "application/vnd.plotly.v1+json": {
       "config": {
        "plotlyServerURL": "https://plot.ly"
       },
       "data": [
        {
         "mode": "lines+markers",
         "name": "user_1",
         "type": "scatter",
         "x": [],
         "y": []
        },
        {
         "mode": "lines+markers",
         "name": "user_10",
         "type": "scatter",
         "x": [],
         "y": []
        },
        {
         "mode": "lines+markers",
         "name": "user_11",
         "type": "scatter",
         "x": [],
         "y": []
        },
        {
         "mode": "lines+markers",
         "name": "user_12",
         "type": "scatter",
         "x": [],
         "y": []
        },
        {
         "mode": "lines+markers",
         "name": "user_13",
         "type": "scatter",
         "x": [],
         "y": []
        },
        {
         "mode": "lines+markers",
         "name": "user_14",
         "type": "scatter",
         "x": [],
         "y": []
        },
        {
         "mode": "lines+markers",
         "name": "user_15",
         "type": "scatter",
         "x": [],
         "y": []
        },
        {
         "mode": "lines+markers",
         "name": "user_16",
         "type": "scatter",
         "x": [],
         "y": []
        },
        {
         "mode": "lines+markers",
         "name": "user_17",
         "type": "scatter",
         "x": [],
         "y": []
        },
        {
         "mode": "lines+markers",
         "name": "user_18",
         "type": "scatter",
         "x": [],
         "y": []
        },
        {
         "mode": "lines+markers",
         "name": "user_19",
         "type": "scatter",
         "x": [],
         "y": []
        },
        {
         "mode": "lines+markers",
         "name": "user_2",
         "type": "scatter",
         "x": [],
         "y": []
        },
        {
         "mode": "lines+markers",
         "name": "user_20",
         "type": "scatter",
         "x": [],
         "y": []
        },
        {
         "mode": "lines+markers",
         "name": "user_21",
         "type": "scatter",
         "x": [],
         "y": []
        },
        {
         "mode": "lines+markers",
         "name": "user_22",
         "type": "scatter",
         "x": [],
         "y": []
        },
        {
         "mode": "lines+markers",
         "name": "user_24",
         "type": "scatter",
         "x": [],
         "y": []
        },
        {
         "mode": "lines+markers",
         "name": "user_25",
         "type": "scatter",
         "x": [],
         "y": []
        },
        {
         "mode": "lines+markers",
         "name": "user_26",
         "type": "scatter",
         "x": [],
         "y": []
        },
        {
         "mode": "lines+markers",
         "name": "user_27",
         "type": "scatter",
         "x": [],
         "y": []
        },
        {
         "mode": "lines+markers",
         "name": "user_28",
         "type": "scatter",
         "x": [],
         "y": []
        },
        {
         "mode": "lines+markers",
         "name": "user_29",
         "type": "scatter",
         "x": [],
         "y": []
        },
        {
         "mode": "lines+markers",
         "name": "user_3",
         "type": "scatter",
         "x": [],
         "y": []
        },
        {
         "mode": "lines+markers",
         "name": "user_30",
         "type": "scatter",
         "x": [],
         "y": []
        },
        {
         "mode": "lines+markers",
         "name": "user_31",
         "type": "scatter",
         "x": [],
         "y": []
        },
        {
         "mode": "lines+markers",
         "name": "user_4",
         "type": "scatter",
         "x": [],
         "y": []
        },
        {
         "mode": "lines+markers",
         "name": "user_6",
         "type": "scatter",
         "x": [],
         "y": []
        },
        {
         "mode": "lines+markers",
         "name": "user_8",
         "type": "scatter",
         "x": [],
         "y": []
        }
       ],
       "frames": [
        {
         "data": [
          {
           "mode": "lines+markers",
           "name": "user_1",
           "type": "scatter",
           "x": [
            0
           ],
           "y": [
            0
           ]
          },
          {
           "mode": "lines+markers",
           "name": "user_10",
           "type": "scatter",
           "x": [
            0
           ],
           "y": [
            0
           ]
          },
          {
           "mode": "lines+markers",
           "name": "user_11",
           "type": "scatter",
           "x": [
            0
           ],
           "y": [
            0
           ]
          },
          {
           "mode": "lines+markers",
           "name": "user_12",
           "type": "scatter",
           "x": [
            0
           ],
           "y": [
            0
           ]
          },
          {
           "mode": "lines+markers",
           "name": "user_13",
           "type": "scatter",
           "x": [
            0
           ],
           "y": [
            0
           ]
          },
          {
           "mode": "lines+markers",
           "name": "user_14",
           "type": "scatter",
           "x": [
            0
           ],
           "y": [
            0
           ]
          },
          {
           "mode": "lines+markers",
           "name": "user_15",
           "type": "scatter",
           "x": [
            0
           ],
           "y": [
            0
           ]
          },
          {
           "mode": "lines+markers",
           "name": "user_16",
           "type": "scatter",
           "x": [
            0
           ],
           "y": [
            0
           ]
          },
          {
           "mode": "lines+markers",
           "name": "user_17",
           "type": "scatter",
           "x": [
            0
           ],
           "y": [
            0
           ]
          },
          {
           "mode": "lines+markers",
           "name": "user_18",
           "type": "scatter",
           "x": [
            0
           ],
           "y": [
            0
           ]
          },
          {
           "mode": "lines+markers",
           "name": "user_19",
           "type": "scatter",
           "x": [
            0
           ],
           "y": [
            0
           ]
          },
          {
           "mode": "lines+markers",
           "name": "user_2",
           "type": "scatter",
           "x": [
            0
           ],
           "y": [
            0
           ]
          },
          {
           "mode": "lines+markers",
           "name": "user_20",
           "type": "scatter",
           "x": [
            0
           ],
           "y": [
            0
           ]
          },
          {
           "mode": "lines+markers",
           "name": "user_21",
           "type": "scatter",
           "x": [
            0
           ],
           "y": [
            0
           ]
          },
          {
           "mode": "lines+markers",
           "name": "user_22",
           "type": "scatter",
           "x": [
            0
           ],
           "y": [
            0
           ]
          },
          {
           "mode": "lines+markers",
           "name": "user_24",
           "type": "scatter",
           "x": [
            0
           ],
           "y": [
            0
           ]
          },
          {
           "mode": "lines+markers",
           "name": "user_25",
           "type": "scatter",
           "x": [
            0
           ],
           "y": [
            0
           ]
          },
          {
           "mode": "lines+markers",
           "name": "user_26",
           "type": "scatter",
           "x": [
            0
           ],
           "y": [
            0
           ]
          },
          {
           "mode": "lines+markers",
           "name": "user_27",
           "type": "scatter",
           "x": [
            0
           ],
           "y": [
            0
           ]
          },
          {
           "mode": "lines+markers",
           "name": "user_28",
           "type": "scatter",
           "x": [
            0
           ],
           "y": [
            0
           ]
          },
          {
           "mode": "lines+markers",
           "name": "user_29",
           "type": "scatter",
           "x": [
            0
           ],
           "y": [
            0
           ]
          },
          {
           "mode": "lines+markers",
           "name": "user_3",
           "type": "scatter",
           "x": [
            0
           ],
           "y": [
            0
           ]
          },
          {
           "mode": "lines+markers",
           "name": "user_30",
           "type": "scatter",
           "x": [
            0
           ],
           "y": [
            0
           ]
          },
          {
           "mode": "lines+markers",
           "name": "user_31",
           "type": "scatter",
           "x": [
            0
           ],
           "y": [
            0
           ]
          },
          {
           "mode": "lines+markers",
           "name": "user_4",
           "type": "scatter",
           "x": [
            0
           ],
           "y": [
            7
           ]
          },
          {
           "mode": "lines+markers",
           "name": "user_6",
           "type": "scatter",
           "x": [
            0
           ],
           "y": [
            0
           ]
          },
          {
           "mode": "lines+markers",
           "name": "user_8",
           "type": "scatter",
           "x": [
            0
           ],
           "y": [
            0
           ]
          }
         ],
         "layout": {
          "title": {
           "text": "Dynamic of commits per user in project1"
          }
         }
        },
        {
         "data": [
          {
           "mode": "lines+markers",
           "name": "user_1",
           "type": "scatter",
           "x": [
            0,
            1
           ],
           "y": [
            0,
            0
           ]
          },
          {
           "mode": "lines+markers",
           "name": "user_10",
           "type": "scatter",
           "x": [
            0,
            1
           ],
           "y": [
            0,
            0
           ]
          },
          {
           "mode": "lines+markers",
           "name": "user_11",
           "type": "scatter",
           "x": [
            0,
            1
           ],
           "y": [
            0,
            0
           ]
          },
          {
           "mode": "lines+markers",
           "name": "user_12",
           "type": "scatter",
           "x": [
            0,
            1
           ],
           "y": [
            0,
            0
           ]
          },
          {
           "mode": "lines+markers",
           "name": "user_13",
           "type": "scatter",
           "x": [
            0,
            1
           ],
           "y": [
            0,
            0
           ]
          },
          {
           "mode": "lines+markers",
           "name": "user_14",
           "type": "scatter",
           "x": [
            0,
            1
           ],
           "y": [
            0,
            0
           ]
          },
          {
           "mode": "lines+markers",
           "name": "user_15",
           "type": "scatter",
           "x": [
            0,
            1
           ],
           "y": [
            0,
            0
           ]
          },
          {
           "mode": "lines+markers",
           "name": "user_16",
           "type": "scatter",
           "x": [
            0,
            1
           ],
           "y": [
            0,
            0
           ]
          },
          {
           "mode": "lines+markers",
           "name": "user_17",
           "type": "scatter",
           "x": [
            0,
            1
           ],
           "y": [
            0,
            1
           ]
          },
          {
           "mode": "lines+markers",
           "name": "user_18",
           "type": "scatter",
           "x": [
            0,
            1
           ],
           "y": [
            0,
            0
           ]
          },
          {
           "mode": "lines+markers",
           "name": "user_19",
           "type": "scatter",
           "x": [
            0,
            1
           ],
           "y": [
            0,
            0
           ]
          },
          {
           "mode": "lines+markers",
           "name": "user_2",
           "type": "scatter",
           "x": [
            0,
            1
           ],
           "y": [
            0,
            0
           ]
          },
          {
           "mode": "lines+markers",
           "name": "user_20",
           "type": "scatter",
           "x": [
            0,
            1
           ],
           "y": [
            0,
            0
           ]
          },
          {
           "mode": "lines+markers",
           "name": "user_21",
           "type": "scatter",
           "x": [
            0,
            1
           ],
           "y": [
            0,
            0
           ]
          },
          {
           "mode": "lines+markers",
           "name": "user_22",
           "type": "scatter",
           "x": [
            0,
            1
           ],
           "y": [
            0,
            0
           ]
          },
          {
           "mode": "lines+markers",
           "name": "user_24",
           "type": "scatter",
           "x": [
            0,
            1
           ],
           "y": [
            0,
            0
           ]
          },
          {
           "mode": "lines+markers",
           "name": "user_25",
           "type": "scatter",
           "x": [
            0,
            1
           ],
           "y": [
            0,
            0
           ]
          },
          {
           "mode": "lines+markers",
           "name": "user_26",
           "type": "scatter",
           "x": [
            0,
            1
           ],
           "y": [
            0,
            0
           ]
          },
          {
           "mode": "lines+markers",
           "name": "user_27",
           "type": "scatter",
           "x": [
            0,
            1
           ],
           "y": [
            0,
            0
           ]
          },
          {
           "mode": "lines+markers",
           "name": "user_28",
           "type": "scatter",
           "x": [
            0,
            1
           ],
           "y": [
            0,
            0
           ]
          },
          {
           "mode": "lines+markers",
           "name": "user_29",
           "type": "scatter",
           "x": [
            0,
            1
           ],
           "y": [
            0,
            0
           ]
          },
          {
           "mode": "lines+markers",
           "name": "user_3",
           "type": "scatter",
           "x": [
            0,
            1
           ],
           "y": [
            0,
            0
           ]
          },
          {
           "mode": "lines+markers",
           "name": "user_30",
           "type": "scatter",
           "x": [
            0,
            1
           ],
           "y": [
            0,
            0
           ]
          },
          {
           "mode": "lines+markers",
           "name": "user_31",
           "type": "scatter",
           "x": [
            0,
            1
           ],
           "y": [
            0,
            0
           ]
          },
          {
           "mode": "lines+markers",
           "name": "user_4",
           "type": "scatter",
           "x": [
            0,
            1
           ],
           "y": [
            7,
            7
           ]
          },
          {
           "mode": "lines+markers",
           "name": "user_6",
           "type": "scatter",
           "x": [
            0,
            1
           ],
           "y": [
            0,
            0
           ]
          },
          {
           "mode": "lines+markers",
           "name": "user_8",
           "type": "scatter",
           "x": [
            0,
            1
           ],
           "y": [
            0,
            0
           ]
          }
         ],
         "layout": {
          "title": {
           "text": "Dynamic of commits per user in project1"
          }
         }
        },
        {
         "data": [
          {
           "mode": "lines+markers",
           "name": "user_1",
           "type": "scatter",
           "x": [
            0,
            1,
            2
           ],
           "y": [
            0,
            0,
            0
           ]
          },
          {
           "mode": "lines+markers",
           "name": "user_10",
           "type": "scatter",
           "x": [
            0,
            1,
            2
           ],
           "y": [
            0,
            0,
            0
           ]
          },
          {
           "mode": "lines+markers",
           "name": "user_11",
           "type": "scatter",
           "x": [
            0,
            1,
            2
           ],
           "y": [
            0,
            0,
            0
           ]
          },
          {
           "mode": "lines+markers",
           "name": "user_12",
           "type": "scatter",
           "x": [
            0,
            1,
            2
           ],
           "y": [
            0,
            0,
            0
           ]
          },
          {
           "mode": "lines+markers",
           "name": "user_13",
           "type": "scatter",
           "x": [
            0,
            1,
            2
           ],
           "y": [
            0,
            0,
            0
           ]
          },
          {
           "mode": "lines+markers",
           "name": "user_14",
           "type": "scatter",
           "x": [
            0,
            1,
            2
           ],
           "y": [
            0,
            0,
            0
           ]
          },
          {
           "mode": "lines+markers",
           "name": "user_15",
           "type": "scatter",
           "x": [
            0,
            1,
            2
           ],
           "y": [
            0,
            0,
            0
           ]
          },
          {
           "mode": "lines+markers",
           "name": "user_16",
           "type": "scatter",
           "x": [
            0,
            1,
            2
           ],
           "y": [
            0,
            0,
            0
           ]
          },
          {
           "mode": "lines+markers",
           "name": "user_17",
           "type": "scatter",
           "x": [
            0,
            1,
            2
           ],
           "y": [
            0,
            1,
            1
           ]
          },
          {
           "mode": "lines+markers",
           "name": "user_18",
           "type": "scatter",
           "x": [
            0,
            1,
            2
           ],
           "y": [
            0,
            0,
            0
           ]
          },
          {
           "mode": "lines+markers",
           "name": "user_19",
           "type": "scatter",
           "x": [
            0,
            1,
            2
           ],
           "y": [
            0,
            0,
            0
           ]
          },
          {
           "mode": "lines+markers",
           "name": "user_2",
           "type": "scatter",
           "x": [
            0,
            1,
            2
           ],
           "y": [
            0,
            0,
            0
           ]
          },
          {
           "mode": "lines+markers",
           "name": "user_20",
           "type": "scatter",
           "x": [
            0,
            1,
            2
           ],
           "y": [
            0,
            0,
            0
           ]
          },
          {
           "mode": "lines+markers",
           "name": "user_21",
           "type": "scatter",
           "x": [
            0,
            1,
            2
           ],
           "y": [
            0,
            0,
            0
           ]
          },
          {
           "mode": "lines+markers",
           "name": "user_22",
           "type": "scatter",
           "x": [
            0,
            1,
            2
           ],
           "y": [
            0,
            0,
            0
           ]
          },
          {
           "mode": "lines+markers",
           "name": "user_24",
           "type": "scatter",
           "x": [
            0,
            1,
            2
           ],
           "y": [
            0,
            0,
            0
           ]
          },
          {
           "mode": "lines+markers",
           "name": "user_25",
           "type": "scatter",
           "x": [
            0,
            1,
            2
           ],
           "y": [
            0,
            0,
            0
           ]
          },
          {
           "mode": "lines+markers",
           "name": "user_26",
           "type": "scatter",
           "x": [
            0,
            1,
            2
           ],
           "y": [
            0,
            0,
            0
           ]
          },
          {
           "mode": "lines+markers",
           "name": "user_27",
           "type": "scatter",
           "x": [
            0,
            1,
            2
           ],
           "y": [
            0,
            0,
            0
           ]
          },
          {
           "mode": "lines+markers",
           "name": "user_28",
           "type": "scatter",
           "x": [
            0,
            1,
            2
           ],
           "y": [
            0,
            0,
            0
           ]
          },
          {
           "mode": "lines+markers",
           "name": "user_29",
           "type": "scatter",
           "x": [
            0,
            1,
            2
           ],
           "y": [
            0,
            0,
            0
           ]
          },
          {
           "mode": "lines+markers",
           "name": "user_3",
           "type": "scatter",
           "x": [
            0,
            1,
            2
           ],
           "y": [
            0,
            0,
            0
           ]
          },
          {
           "mode": "lines+markers",
           "name": "user_30",
           "type": "scatter",
           "x": [
            0,
            1,
            2
           ],
           "y": [
            0,
            0,
            0
           ]
          },
          {
           "mode": "lines+markers",
           "name": "user_31",
           "type": "scatter",
           "x": [
            0,
            1,
            2
           ],
           "y": [
            0,
            0,
            0
           ]
          },
          {
           "mode": "lines+markers",
           "name": "user_4",
           "type": "scatter",
           "x": [
            0,
            1,
            2
           ],
           "y": [
            7,
            7,
            11
           ]
          },
          {
           "mode": "lines+markers",
           "name": "user_6",
           "type": "scatter",
           "x": [
            0,
            1,
            2
           ],
           "y": [
            0,
            0,
            0
           ]
          },
          {
           "mode": "lines+markers",
           "name": "user_8",
           "type": "scatter",
           "x": [
            0,
            1,
            2
           ],
           "y": [
            0,
            0,
            0
           ]
          }
         ],
         "layout": {
          "title": {
           "text": "Dynamic of commits per user in project1"
          }
         }
        },
        {
         "data": [
          {
           "mode": "lines+markers",
           "name": "user_1",
           "type": "scatter",
           "x": [
            0,
            1,
            2,
            3
           ],
           "y": [
            0,
            0,
            0,
            0
           ]
          },
          {
           "mode": "lines+markers",
           "name": "user_10",
           "type": "scatter",
           "x": [
            0,
            1,
            2,
            3
           ],
           "y": [
            0,
            0,
            0,
            0
           ]
          },
          {
           "mode": "lines+markers",
           "name": "user_11",
           "type": "scatter",
           "x": [
            0,
            1,
            2,
            3
           ],
           "y": [
            0,
            0,
            0,
            0
           ]
          },
          {
           "mode": "lines+markers",
           "name": "user_12",
           "type": "scatter",
           "x": [
            0,
            1,
            2,
            3
           ],
           "y": [
            0,
            0,
            0,
            0
           ]
          },
          {
           "mode": "lines+markers",
           "name": "user_13",
           "type": "scatter",
           "x": [
            0,
            1,
            2,
            3
           ],
           "y": [
            0,
            0,
            0,
            0
           ]
          },
          {
           "mode": "lines+markers",
           "name": "user_14",
           "type": "scatter",
           "x": [
            0,
            1,
            2,
            3
           ],
           "y": [
            0,
            0,
            0,
            0
           ]
          },
          {
           "mode": "lines+markers",
           "name": "user_15",
           "type": "scatter",
           "x": [
            0,
            1,
            2,
            3
           ],
           "y": [
            0,
            0,
            0,
            0
           ]
          },
          {
           "mode": "lines+markers",
           "name": "user_16",
           "type": "scatter",
           "x": [
            0,
            1,
            2,
            3
           ],
           "y": [
            0,
            0,
            0,
            0
           ]
          },
          {
           "mode": "lines+markers",
           "name": "user_17",
           "type": "scatter",
           "x": [
            0,
            1,
            2,
            3
           ],
           "y": [
            0,
            1,
            1,
            1
           ]
          },
          {
           "mode": "lines+markers",
           "name": "user_18",
           "type": "scatter",
           "x": [
            0,
            1,
            2,
            3
           ],
           "y": [
            0,
            0,
            0,
            0
           ]
          },
          {
           "mode": "lines+markers",
           "name": "user_19",
           "type": "scatter",
           "x": [
            0,
            1,
            2,
            3
           ],
           "y": [
            0,
            0,
            0,
            0
           ]
          },
          {
           "mode": "lines+markers",
           "name": "user_2",
           "type": "scatter",
           "x": [
            0,
            1,
            2,
            3
           ],
           "y": [
            0,
            0,
            0,
            0
           ]
          },
          {
           "mode": "lines+markers",
           "name": "user_20",
           "type": "scatter",
           "x": [
            0,
            1,
            2,
            3
           ],
           "y": [
            0,
            0,
            0,
            0
           ]
          },
          {
           "mode": "lines+markers",
           "name": "user_21",
           "type": "scatter",
           "x": [
            0,
            1,
            2,
            3
           ],
           "y": [
            0,
            0,
            0,
            0
           ]
          },
          {
           "mode": "lines+markers",
           "name": "user_22",
           "type": "scatter",
           "x": [
            0,
            1,
            2,
            3
           ],
           "y": [
            0,
            0,
            0,
            0
           ]
          },
          {
           "mode": "lines+markers",
           "name": "user_24",
           "type": "scatter",
           "x": [
            0,
            1,
            2,
            3
           ],
           "y": [
            0,
            0,
            0,
            0
           ]
          },
          {
           "mode": "lines+markers",
           "name": "user_25",
           "type": "scatter",
           "x": [
            0,
            1,
            2,
            3
           ],
           "y": [
            0,
            0,
            0,
            0
           ]
          },
          {
           "mode": "lines+markers",
           "name": "user_26",
           "type": "scatter",
           "x": [
            0,
            1,
            2,
            3
           ],
           "y": [
            0,
            0,
            0,
            0
           ]
          },
          {
           "mode": "lines+markers",
           "name": "user_27",
           "type": "scatter",
           "x": [
            0,
            1,
            2,
            3
           ],
           "y": [
            0,
            0,
            0,
            0
           ]
          },
          {
           "mode": "lines+markers",
           "name": "user_28",
           "type": "scatter",
           "x": [
            0,
            1,
            2,
            3
           ],
           "y": [
            0,
            0,
            0,
            0
           ]
          },
          {
           "mode": "lines+markers",
           "name": "user_29",
           "type": "scatter",
           "x": [
            0,
            1,
            2,
            3
           ],
           "y": [
            0,
            0,
            0,
            0
           ]
          },
          {
           "mode": "lines+markers",
           "name": "user_3",
           "type": "scatter",
           "x": [
            0,
            1,
            2,
            3
           ],
           "y": [
            0,
            0,
            0,
            0
           ]
          },
          {
           "mode": "lines+markers",
           "name": "user_30",
           "type": "scatter",
           "x": [
            0,
            1,
            2,
            3
           ],
           "y": [
            0,
            0,
            0,
            1
           ]
          },
          {
           "mode": "lines+markers",
           "name": "user_31",
           "type": "scatter",
           "x": [
            0,
            1,
            2,
            3
           ],
           "y": [
            0,
            0,
            0,
            0
           ]
          },
          {
           "mode": "lines+markers",
           "name": "user_4",
           "type": "scatter",
           "x": [
            0,
            1,
            2,
            3
           ],
           "y": [
            7,
            7,
            11,
            11
           ]
          },
          {
           "mode": "lines+markers",
           "name": "user_6",
           "type": "scatter",
           "x": [
            0,
            1,
            2,
            3
           ],
           "y": [
            0,
            0,
            0,
            0
           ]
          },
          {
           "mode": "lines+markers",
           "name": "user_8",
           "type": "scatter",
           "x": [
            0,
            1,
            2,
            3
           ],
           "y": [
            0,
            0,
            0,
            0
           ]
          }
         ],
         "layout": {
          "title": {
           "text": "Dynamic of commits per user in project1"
          }
         }
        },
        {
         "data": [
          {
           "mode": "lines+markers",
           "name": "user_1",
           "type": "scatter",
           "x": [
            0,
            1,
            2,
            3,
            4
           ],
           "y": [
            0,
            0,
            0,
            0,
            0
           ]
          },
          {
           "mode": "lines+markers",
           "name": "user_10",
           "type": "scatter",
           "x": [
            0,
            1,
            2,
            3,
            4
           ],
           "y": [
            0,
            0,
            0,
            0,
            0
           ]
          },
          {
           "mode": "lines+markers",
           "name": "user_11",
           "type": "scatter",
           "x": [
            0,
            1,
            2,
            3,
            4
           ],
           "y": [
            0,
            0,
            0,
            0,
            0
           ]
          },
          {
           "mode": "lines+markers",
           "name": "user_12",
           "type": "scatter",
           "x": [
            0,
            1,
            2,
            3,
            4
           ],
           "y": [
            0,
            0,
            0,
            0,
            0
           ]
          },
          {
           "mode": "lines+markers",
           "name": "user_13",
           "type": "scatter",
           "x": [
            0,
            1,
            2,
            3,
            4
           ],
           "y": [
            0,
            0,
            0,
            0,
            0
           ]
          },
          {
           "mode": "lines+markers",
           "name": "user_14",
           "type": "scatter",
           "x": [
            0,
            1,
            2,
            3,
            4
           ],
           "y": [
            0,
            0,
            0,
            0,
            0
           ]
          },
          {
           "mode": "lines+markers",
           "name": "user_15",
           "type": "scatter",
           "x": [
            0,
            1,
            2,
            3,
            4
           ],
           "y": [
            0,
            0,
            0,
            0,
            0
           ]
          },
          {
           "mode": "lines+markers",
           "name": "user_16",
           "type": "scatter",
           "x": [
            0,
            1,
            2,
            3,
            4
           ],
           "y": [
            0,
            0,
            0,
            0,
            0
           ]
          },
          {
           "mode": "lines+markers",
           "name": "user_17",
           "type": "scatter",
           "x": [
            0,
            1,
            2,
            3,
            4
           ],
           "y": [
            0,
            1,
            1,
            1,
            1
           ]
          },
          {
           "mode": "lines+markers",
           "name": "user_18",
           "type": "scatter",
           "x": [
            0,
            1,
            2,
            3,
            4
           ],
           "y": [
            0,
            0,
            0,
            0,
            0
           ]
          },
          {
           "mode": "lines+markers",
           "name": "user_19",
           "type": "scatter",
           "x": [
            0,
            1,
            2,
            3,
            4
           ],
           "y": [
            0,
            0,
            0,
            0,
            0
           ]
          },
          {
           "mode": "lines+markers",
           "name": "user_2",
           "type": "scatter",
           "x": [
            0,
            1,
            2,
            3,
            4
           ],
           "y": [
            0,
            0,
            0,
            0,
            0
           ]
          },
          {
           "mode": "lines+markers",
           "name": "user_20",
           "type": "scatter",
           "x": [
            0,
            1,
            2,
            3,
            4
           ],
           "y": [
            0,
            0,
            0,
            0,
            0
           ]
          },
          {
           "mode": "lines+markers",
           "name": "user_21",
           "type": "scatter",
           "x": [
            0,
            1,
            2,
            3,
            4
           ],
           "y": [
            0,
            0,
            0,
            0,
            0
           ]
          },
          {
           "mode": "lines+markers",
           "name": "user_22",
           "type": "scatter",
           "x": [
            0,
            1,
            2,
            3,
            4
           ],
           "y": [
            0,
            0,
            0,
            0,
            0
           ]
          },
          {
           "mode": "lines+markers",
           "name": "user_24",
           "type": "scatter",
           "x": [
            0,
            1,
            2,
            3,
            4
           ],
           "y": [
            0,
            0,
            0,
            0,
            0
           ]
          },
          {
           "mode": "lines+markers",
           "name": "user_25",
           "type": "scatter",
           "x": [
            0,
            1,
            2,
            3,
            4
           ],
           "y": [
            0,
            0,
            0,
            0,
            0
           ]
          },
          {
           "mode": "lines+markers",
           "name": "user_26",
           "type": "scatter",
           "x": [
            0,
            1,
            2,
            3,
            4
           ],
           "y": [
            0,
            0,
            0,
            0,
            0
           ]
          },
          {
           "mode": "lines+markers",
           "name": "user_27",
           "type": "scatter",
           "x": [
            0,
            1,
            2,
            3,
            4
           ],
           "y": [
            0,
            0,
            0,
            0,
            0
           ]
          },
          {
           "mode": "lines+markers",
           "name": "user_28",
           "type": "scatter",
           "x": [
            0,
            1,
            2,
            3,
            4
           ],
           "y": [
            0,
            0,
            0,
            0,
            0
           ]
          },
          {
           "mode": "lines+markers",
           "name": "user_29",
           "type": "scatter",
           "x": [
            0,
            1,
            2,
            3,
            4
           ],
           "y": [
            0,
            0,
            0,
            0,
            0
           ]
          },
          {
           "mode": "lines+markers",
           "name": "user_3",
           "type": "scatter",
           "x": [
            0,
            1,
            2,
            3,
            4
           ],
           "y": [
            0,
            0,
            0,
            0,
            0
           ]
          },
          {
           "mode": "lines+markers",
           "name": "user_30",
           "type": "scatter",
           "x": [
            0,
            1,
            2,
            3,
            4
           ],
           "y": [
            0,
            0,
            0,
            1,
            2
           ]
          },
          {
           "mode": "lines+markers",
           "name": "user_31",
           "type": "scatter",
           "x": [
            0,
            1,
            2,
            3,
            4
           ],
           "y": [
            0,
            0,
            0,
            0,
            0
           ]
          },
          {
           "mode": "lines+markers",
           "name": "user_4",
           "type": "scatter",
           "x": [
            0,
            1,
            2,
            3,
            4
           ],
           "y": [
            7,
            7,
            11,
            11,
            20
           ]
          },
          {
           "mode": "lines+markers",
           "name": "user_6",
           "type": "scatter",
           "x": [
            0,
            1,
            2,
            3,
            4
           ],
           "y": [
            0,
            0,
            0,
            0,
            0
           ]
          },
          {
           "mode": "lines+markers",
           "name": "user_8",
           "type": "scatter",
           "x": [
            0,
            1,
            2,
            3,
            4
           ],
           "y": [
            0,
            0,
            0,
            0,
            0
           ]
          }
         ],
         "layout": {
          "title": {
           "text": "Dynamic of commits per user in project1"
          }
         }
        },
        {
         "data": [
          {
           "mode": "lines+markers",
           "name": "user_1",
           "type": "scatter",
           "x": [
            0,
            1,
            2,
            3,
            4,
            5
           ],
           "y": [
            0,
            0,
            0,
            0,
            0,
            0
           ]
          },
          {
           "mode": "lines+markers",
           "name": "user_10",
           "type": "scatter",
           "x": [
            0,
            1,
            2,
            3,
            4,
            5
           ],
           "y": [
            0,
            0,
            0,
            0,
            0,
            0
           ]
          },
          {
           "mode": "lines+markers",
           "name": "user_11",
           "type": "scatter",
           "x": [
            0,
            1,
            2,
            3,
            4,
            5
           ],
           "y": [
            0,
            0,
            0,
            0,
            0,
            0
           ]
          },
          {
           "mode": "lines+markers",
           "name": "user_12",
           "type": "scatter",
           "x": [
            0,
            1,
            2,
            3,
            4,
            5
           ],
           "y": [
            0,
            0,
            0,
            0,
            0,
            0
           ]
          },
          {
           "mode": "lines+markers",
           "name": "user_13",
           "type": "scatter",
           "x": [
            0,
            1,
            2,
            3,
            4,
            5
           ],
           "y": [
            0,
            0,
            0,
            0,
            0,
            0
           ]
          },
          {
           "mode": "lines+markers",
           "name": "user_14",
           "type": "scatter",
           "x": [
            0,
            1,
            2,
            3,
            4,
            5
           ],
           "y": [
            0,
            0,
            0,
            0,
            0,
            0
           ]
          },
          {
           "mode": "lines+markers",
           "name": "user_15",
           "type": "scatter",
           "x": [
            0,
            1,
            2,
            3,
            4,
            5
           ],
           "y": [
            0,
            0,
            0,
            0,
            0,
            0
           ]
          },
          {
           "mode": "lines+markers",
           "name": "user_16",
           "type": "scatter",
           "x": [
            0,
            1,
            2,
            3,
            4,
            5
           ],
           "y": [
            0,
            0,
            0,
            0,
            0,
            0
           ]
          },
          {
           "mode": "lines+markers",
           "name": "user_17",
           "type": "scatter",
           "x": [
            0,
            1,
            2,
            3,
            4,
            5
           ],
           "y": [
            0,
            1,
            1,
            1,
            1,
            1
           ]
          },
          {
           "mode": "lines+markers",
           "name": "user_18",
           "type": "scatter",
           "x": [
            0,
            1,
            2,
            3,
            4,
            5
           ],
           "y": [
            0,
            0,
            0,
            0,
            0,
            0
           ]
          },
          {
           "mode": "lines+markers",
           "name": "user_19",
           "type": "scatter",
           "x": [
            0,
            1,
            2,
            3,
            4,
            5
           ],
           "y": [
            0,
            0,
            0,
            0,
            0,
            0
           ]
          },
          {
           "mode": "lines+markers",
           "name": "user_2",
           "type": "scatter",
           "x": [
            0,
            1,
            2,
            3,
            4,
            5
           ],
           "y": [
            0,
            0,
            0,
            0,
            0,
            0
           ]
          },
          {
           "mode": "lines+markers",
           "name": "user_20",
           "type": "scatter",
           "x": [
            0,
            1,
            2,
            3,
            4,
            5
           ],
           "y": [
            0,
            0,
            0,
            0,
            0,
            0
           ]
          },
          {
           "mode": "lines+markers",
           "name": "user_21",
           "type": "scatter",
           "x": [
            0,
            1,
            2,
            3,
            4,
            5
           ],
           "y": [
            0,
            0,
            0,
            0,
            0,
            0
           ]
          },
          {
           "mode": "lines+markers",
           "name": "user_22",
           "type": "scatter",
           "x": [
            0,
            1,
            2,
            3,
            4,
            5
           ],
           "y": [
            0,
            0,
            0,
            0,
            0,
            0
           ]
          },
          {
           "mode": "lines+markers",
           "name": "user_24",
           "type": "scatter",
           "x": [
            0,
            1,
            2,
            3,
            4,
            5
           ],
           "y": [
            0,
            0,
            0,
            0,
            0,
            0
           ]
          },
          {
           "mode": "lines+markers",
           "name": "user_25",
           "type": "scatter",
           "x": [
            0,
            1,
            2,
            3,
            4,
            5
           ],
           "y": [
            0,
            0,
            0,
            0,
            0,
            0
           ]
          },
          {
           "mode": "lines+markers",
           "name": "user_26",
           "type": "scatter",
           "x": [
            0,
            1,
            2,
            3,
            4,
            5
           ],
           "y": [
            0,
            0,
            0,
            0,
            0,
            0
           ]
          },
          {
           "mode": "lines+markers",
           "name": "user_27",
           "type": "scatter",
           "x": [
            0,
            1,
            2,
            3,
            4,
            5
           ],
           "y": [
            0,
            0,
            0,
            0,
            0,
            0
           ]
          },
          {
           "mode": "lines+markers",
           "name": "user_28",
           "type": "scatter",
           "x": [
            0,
            1,
            2,
            3,
            4,
            5
           ],
           "y": [
            0,
            0,
            0,
            0,
            0,
            0
           ]
          },
          {
           "mode": "lines+markers",
           "name": "user_29",
           "type": "scatter",
           "x": [
            0,
            1,
            2,
            3,
            4,
            5
           ],
           "y": [
            0,
            0,
            0,
            0,
            0,
            0
           ]
          },
          {
           "mode": "lines+markers",
           "name": "user_3",
           "type": "scatter",
           "x": [
            0,
            1,
            2,
            3,
            4,
            5
           ],
           "y": [
            0,
            0,
            0,
            0,
            0,
            0
           ]
          },
          {
           "mode": "lines+markers",
           "name": "user_30",
           "type": "scatter",
           "x": [
            0,
            1,
            2,
            3,
            4,
            5
           ],
           "y": [
            0,
            0,
            0,
            1,
            2,
            2
           ]
          },
          {
           "mode": "lines+markers",
           "name": "user_31",
           "type": "scatter",
           "x": [
            0,
            1,
            2,
            3,
            4,
            5
           ],
           "y": [
            0,
            0,
            0,
            0,
            0,
            0
           ]
          },
          {
           "mode": "lines+markers",
           "name": "user_4",
           "type": "scatter",
           "x": [
            0,
            1,
            2,
            3,
            4,
            5
           ],
           "y": [
            7,
            7,
            11,
            11,
            20,
            27
           ]
          },
          {
           "mode": "lines+markers",
           "name": "user_6",
           "type": "scatter",
           "x": [
            0,
            1,
            2,
            3,
            4,
            5
           ],
           "y": [
            0,
            0,
            0,
            0,
            0,
            0
           ]
          },
          {
           "mode": "lines+markers",
           "name": "user_8",
           "type": "scatter",
           "x": [
            0,
            1,
            2,
            3,
            4,
            5
           ],
           "y": [
            0,
            0,
            0,
            0,
            0,
            0
           ]
          }
         ],
         "layout": {
          "title": {
           "text": "Dynamic of commits per user in project1"
          }
         }
        },
        {
         "data": [
          {
           "mode": "lines+markers",
           "name": "user_1",
           "type": "scatter",
           "x": [
            0,
            1,
            2,
            3,
            4,
            5,
            6
           ],
           "y": [
            0,
            0,
            0,
            0,
            0,
            0,
            0
           ]
          },
          {
           "mode": "lines+markers",
           "name": "user_10",
           "type": "scatter",
           "x": [
            0,
            1,
            2,
            3,
            4,
            5,
            6
           ],
           "y": [
            0,
            0,
            0,
            0,
            0,
            0,
            0
           ]
          },
          {
           "mode": "lines+markers",
           "name": "user_11",
           "type": "scatter",
           "x": [
            0,
            1,
            2,
            3,
            4,
            5,
            6
           ],
           "y": [
            0,
            0,
            0,
            0,
            0,
            0,
            1
           ]
          },
          {
           "mode": "lines+markers",
           "name": "user_12",
           "type": "scatter",
           "x": [
            0,
            1,
            2,
            3,
            4,
            5,
            6
           ],
           "y": [
            0,
            0,
            0,
            0,
            0,
            0,
            0
           ]
          },
          {
           "mode": "lines+markers",
           "name": "user_13",
           "type": "scatter",
           "x": [
            0,
            1,
            2,
            3,
            4,
            5,
            6
           ],
           "y": [
            0,
            0,
            0,
            0,
            0,
            0,
            0
           ]
          },
          {
           "mode": "lines+markers",
           "name": "user_14",
           "type": "scatter",
           "x": [
            0,
            1,
            2,
            3,
            4,
            5,
            6
           ],
           "y": [
            0,
            0,
            0,
            0,
            0,
            0,
            0
           ]
          },
          {
           "mode": "lines+markers",
           "name": "user_15",
           "type": "scatter",
           "x": [
            0,
            1,
            2,
            3,
            4,
            5,
            6
           ],
           "y": [
            0,
            0,
            0,
            0,
            0,
            0,
            0
           ]
          },
          {
           "mode": "lines+markers",
           "name": "user_16",
           "type": "scatter",
           "x": [
            0,
            1,
            2,
            3,
            4,
            5,
            6
           ],
           "y": [
            0,
            0,
            0,
            0,
            0,
            0,
            0
           ]
          },
          {
           "mode": "lines+markers",
           "name": "user_17",
           "type": "scatter",
           "x": [
            0,
            1,
            2,
            3,
            4,
            5,
            6
           ],
           "y": [
            0,
            1,
            1,
            1,
            1,
            1,
            1
           ]
          },
          {
           "mode": "lines+markers",
           "name": "user_18",
           "type": "scatter",
           "x": [
            0,
            1,
            2,
            3,
            4,
            5,
            6
           ],
           "y": [
            0,
            0,
            0,
            0,
            0,
            0,
            0
           ]
          },
          {
           "mode": "lines+markers",
           "name": "user_19",
           "type": "scatter",
           "x": [
            0,
            1,
            2,
            3,
            4,
            5,
            6
           ],
           "y": [
            0,
            0,
            0,
            0,
            0,
            0,
            0
           ]
          },
          {
           "mode": "lines+markers",
           "name": "user_2",
           "type": "scatter",
           "x": [
            0,
            1,
            2,
            3,
            4,
            5,
            6
           ],
           "y": [
            0,
            0,
            0,
            0,
            0,
            0,
            0
           ]
          },
          {
           "mode": "lines+markers",
           "name": "user_20",
           "type": "scatter",
           "x": [
            0,
            1,
            2,
            3,
            4,
            5,
            6
           ],
           "y": [
            0,
            0,
            0,
            0,
            0,
            0,
            0
           ]
          },
          {
           "mode": "lines+markers",
           "name": "user_21",
           "type": "scatter",
           "x": [
            0,
            1,
            2,
            3,
            4,
            5,
            6
           ],
           "y": [
            0,
            0,
            0,
            0,
            0,
            0,
            0
           ]
          },
          {
           "mode": "lines+markers",
           "name": "user_22",
           "type": "scatter",
           "x": [
            0,
            1,
            2,
            3,
            4,
            5,
            6
           ],
           "y": [
            0,
            0,
            0,
            0,
            0,
            0,
            1
           ]
          },
          {
           "mode": "lines+markers",
           "name": "user_24",
           "type": "scatter",
           "x": [
            0,
            1,
            2,
            3,
            4,
            5,
            6
           ],
           "y": [
            0,
            0,
            0,
            0,
            0,
            0,
            0
           ]
          },
          {
           "mode": "lines+markers",
           "name": "user_25",
           "type": "scatter",
           "x": [
            0,
            1,
            2,
            3,
            4,
            5,
            6
           ],
           "y": [
            0,
            0,
            0,
            0,
            0,
            0,
            0
           ]
          },
          {
           "mode": "lines+markers",
           "name": "user_26",
           "type": "scatter",
           "x": [
            0,
            1,
            2,
            3,
            4,
            5,
            6
           ],
           "y": [
            0,
            0,
            0,
            0,
            0,
            0,
            0
           ]
          },
          {
           "mode": "lines+markers",
           "name": "user_27",
           "type": "scatter",
           "x": [
            0,
            1,
            2,
            3,
            4,
            5,
            6
           ],
           "y": [
            0,
            0,
            0,
            0,
            0,
            0,
            0
           ]
          },
          {
           "mode": "lines+markers",
           "name": "user_28",
           "type": "scatter",
           "x": [
            0,
            1,
            2,
            3,
            4,
            5,
            6
           ],
           "y": [
            0,
            0,
            0,
            0,
            0,
            0,
            0
           ]
          },
          {
           "mode": "lines+markers",
           "name": "user_29",
           "type": "scatter",
           "x": [
            0,
            1,
            2,
            3,
            4,
            5,
            6
           ],
           "y": [
            0,
            0,
            0,
            0,
            0,
            0,
            0
           ]
          },
          {
           "mode": "lines+markers",
           "name": "user_3",
           "type": "scatter",
           "x": [
            0,
            1,
            2,
            3,
            4,
            5,
            6
           ],
           "y": [
            0,
            0,
            0,
            0,
            0,
            0,
            0
           ]
          },
          {
           "mode": "lines+markers",
           "name": "user_30",
           "type": "scatter",
           "x": [
            0,
            1,
            2,
            3,
            4,
            5,
            6
           ],
           "y": [
            0,
            0,
            0,
            1,
            2,
            2,
            4
           ]
          },
          {
           "mode": "lines+markers",
           "name": "user_31",
           "type": "scatter",
           "x": [
            0,
            1,
            2,
            3,
            4,
            5,
            6
           ],
           "y": [
            0,
            0,
            0,
            0,
            0,
            0,
            0
           ]
          },
          {
           "mode": "lines+markers",
           "name": "user_4",
           "type": "scatter",
           "x": [
            0,
            1,
            2,
            3,
            4,
            5,
            6
           ],
           "y": [
            7,
            7,
            11,
            11,
            20,
            27,
            35
           ]
          },
          {
           "mode": "lines+markers",
           "name": "user_6",
           "type": "scatter",
           "x": [
            0,
            1,
            2,
            3,
            4,
            5,
            6
           ],
           "y": [
            0,
            0,
            0,
            0,
            0,
            0,
            0
           ]
          },
          {
           "mode": "lines+markers",
           "name": "user_8",
           "type": "scatter",
           "x": [
            0,
            1,
            2,
            3,
            4,
            5,
            6
           ],
           "y": [
            0,
            0,
            0,
            0,
            0,
            0,
            0
           ]
          }
         ],
         "layout": {
          "title": {
           "text": "Dynamic of commits per user in project1"
          }
         }
        },
        {
         "data": [
          {
           "mode": "lines+markers",
           "name": "user_1",
           "type": "scatter",
           "x": [
            0,
            1,
            2,
            3,
            4,
            5,
            6,
            7
           ],
           "y": [
            0,
            0,
            0,
            0,
            0,
            0,
            0,
            0
           ]
          },
          {
           "mode": "lines+markers",
           "name": "user_10",
           "type": "scatter",
           "x": [
            0,
            1,
            2,
            3,
            4,
            5,
            6,
            7
           ],
           "y": [
            0,
            0,
            0,
            0,
            0,
            0,
            0,
            0
           ]
          },
          {
           "mode": "lines+markers",
           "name": "user_11",
           "type": "scatter",
           "x": [
            0,
            1,
            2,
            3,
            4,
            5,
            6,
            7
           ],
           "y": [
            0,
            0,
            0,
            0,
            0,
            0,
            1,
            1
           ]
          },
          {
           "mode": "lines+markers",
           "name": "user_12",
           "type": "scatter",
           "x": [
            0,
            1,
            2,
            3,
            4,
            5,
            6,
            7
           ],
           "y": [
            0,
            0,
            0,
            0,
            0,
            0,
            0,
            0
           ]
          },
          {
           "mode": "lines+markers",
           "name": "user_13",
           "type": "scatter",
           "x": [
            0,
            1,
            2,
            3,
            4,
            5,
            6,
            7
           ],
           "y": [
            0,
            0,
            0,
            0,
            0,
            0,
            0,
            0
           ]
          },
          {
           "mode": "lines+markers",
           "name": "user_14",
           "type": "scatter",
           "x": [
            0,
            1,
            2,
            3,
            4,
            5,
            6,
            7
           ],
           "y": [
            0,
            0,
            0,
            0,
            0,
            0,
            0,
            0
           ]
          },
          {
           "mode": "lines+markers",
           "name": "user_15",
           "type": "scatter",
           "x": [
            0,
            1,
            2,
            3,
            4,
            5,
            6,
            7
           ],
           "y": [
            0,
            0,
            0,
            0,
            0,
            0,
            0,
            0
           ]
          },
          {
           "mode": "lines+markers",
           "name": "user_16",
           "type": "scatter",
           "x": [
            0,
            1,
            2,
            3,
            4,
            5,
            6,
            7
           ],
           "y": [
            0,
            0,
            0,
            0,
            0,
            0,
            0,
            0
           ]
          },
          {
           "mode": "lines+markers",
           "name": "user_17",
           "type": "scatter",
           "x": [
            0,
            1,
            2,
            3,
            4,
            5,
            6,
            7
           ],
           "y": [
            0,
            1,
            1,
            1,
            1,
            1,
            1,
            1
           ]
          },
          {
           "mode": "lines+markers",
           "name": "user_18",
           "type": "scatter",
           "x": [
            0,
            1,
            2,
            3,
            4,
            5,
            6,
            7
           ],
           "y": [
            0,
            0,
            0,
            0,
            0,
            0,
            0,
            0
           ]
          },
          {
           "mode": "lines+markers",
           "name": "user_19",
           "type": "scatter",
           "x": [
            0,
            1,
            2,
            3,
            4,
            5,
            6,
            7
           ],
           "y": [
            0,
            0,
            0,
            0,
            0,
            0,
            0,
            0
           ]
          },
          {
           "mode": "lines+markers",
           "name": "user_2",
           "type": "scatter",
           "x": [
            0,
            1,
            2,
            3,
            4,
            5,
            6,
            7
           ],
           "y": [
            0,
            0,
            0,
            0,
            0,
            0,
            0,
            0
           ]
          },
          {
           "mode": "lines+markers",
           "name": "user_20",
           "type": "scatter",
           "x": [
            0,
            1,
            2,
            3,
            4,
            5,
            6,
            7
           ],
           "y": [
            0,
            0,
            0,
            0,
            0,
            0,
            0,
            0
           ]
          },
          {
           "mode": "lines+markers",
           "name": "user_21",
           "type": "scatter",
           "x": [
            0,
            1,
            2,
            3,
            4,
            5,
            6,
            7
           ],
           "y": [
            0,
            0,
            0,
            0,
            0,
            0,
            0,
            0
           ]
          },
          {
           "mode": "lines+markers",
           "name": "user_22",
           "type": "scatter",
           "x": [
            0,
            1,
            2,
            3,
            4,
            5,
            6,
            7
           ],
           "y": [
            0,
            0,
            0,
            0,
            0,
            0,
            1,
            1
           ]
          },
          {
           "mode": "lines+markers",
           "name": "user_24",
           "type": "scatter",
           "x": [
            0,
            1,
            2,
            3,
            4,
            5,
            6,
            7
           ],
           "y": [
            0,
            0,
            0,
            0,
            0,
            0,
            0,
            0
           ]
          },
          {
           "mode": "lines+markers",
           "name": "user_25",
           "type": "scatter",
           "x": [
            0,
            1,
            2,
            3,
            4,
            5,
            6,
            7
           ],
           "y": [
            0,
            0,
            0,
            0,
            0,
            0,
            0,
            0
           ]
          },
          {
           "mode": "lines+markers",
           "name": "user_26",
           "type": "scatter",
           "x": [
            0,
            1,
            2,
            3,
            4,
            5,
            6,
            7
           ],
           "y": [
            0,
            0,
            0,
            0,
            0,
            0,
            0,
            0
           ]
          },
          {
           "mode": "lines+markers",
           "name": "user_27",
           "type": "scatter",
           "x": [
            0,
            1,
            2,
            3,
            4,
            5,
            6,
            7
           ],
           "y": [
            0,
            0,
            0,
            0,
            0,
            0,
            0,
            0
           ]
          },
          {
           "mode": "lines+markers",
           "name": "user_28",
           "type": "scatter",
           "x": [
            0,
            1,
            2,
            3,
            4,
            5,
            6,
            7
           ],
           "y": [
            0,
            0,
            0,
            0,
            0,
            0,
            0,
            0
           ]
          },
          {
           "mode": "lines+markers",
           "name": "user_29",
           "type": "scatter",
           "x": [
            0,
            1,
            2,
            3,
            4,
            5,
            6,
            7
           ],
           "y": [
            0,
            0,
            0,
            0,
            0,
            0,
            0,
            0
           ]
          },
          {
           "mode": "lines+markers",
           "name": "user_3",
           "type": "scatter",
           "x": [
            0,
            1,
            2,
            3,
            4,
            5,
            6,
            7
           ],
           "y": [
            0,
            0,
            0,
            0,
            0,
            0,
            0,
            0
           ]
          },
          {
           "mode": "lines+markers",
           "name": "user_30",
           "type": "scatter",
           "x": [
            0,
            1,
            2,
            3,
            4,
            5,
            6,
            7
           ],
           "y": [
            0,
            0,
            0,
            1,
            2,
            2,
            4,
            5
           ]
          },
          {
           "mode": "lines+markers",
           "name": "user_31",
           "type": "scatter",
           "x": [
            0,
            1,
            2,
            3,
            4,
            5,
            6,
            7
           ],
           "y": [
            0,
            0,
            0,
            0,
            0,
            0,
            0,
            0
           ]
          },
          {
           "mode": "lines+markers",
           "name": "user_4",
           "type": "scatter",
           "x": [
            0,
            1,
            2,
            3,
            4,
            5,
            6,
            7
           ],
           "y": [
            7,
            7,
            11,
            11,
            20,
            27,
            35,
            48
           ]
          },
          {
           "mode": "lines+markers",
           "name": "user_6",
           "type": "scatter",
           "x": [
            0,
            1,
            2,
            3,
            4,
            5,
            6,
            7
           ],
           "y": [
            0,
            0,
            0,
            0,
            0,
            0,
            0,
            0
           ]
          },
          {
           "mode": "lines+markers",
           "name": "user_8",
           "type": "scatter",
           "x": [
            0,
            1,
            2,
            3,
            4,
            5,
            6,
            7
           ],
           "y": [
            0,
            0,
            0,
            0,
            0,
            0,
            0,
            0
           ]
          }
         ],
         "layout": {
          "title": {
           "text": "Dynamic of commits per user in project1"
          }
         }
        },
        {
         "data": [
          {
           "mode": "lines+markers",
           "name": "user_1",
           "type": "scatter",
           "x": [
            0,
            1,
            2,
            3,
            4,
            5,
            6,
            7,
            8
           ],
           "y": [
            0,
            0,
            0,
            0,
            0,
            0,
            0,
            0,
            0
           ]
          },
          {
           "mode": "lines+markers",
           "name": "user_10",
           "type": "scatter",
           "x": [
            0,
            1,
            2,
            3,
            4,
            5,
            6,
            7,
            8
           ],
           "y": [
            0,
            0,
            0,
            0,
            0,
            0,
            0,
            0,
            0
           ]
          },
          {
           "mode": "lines+markers",
           "name": "user_11",
           "type": "scatter",
           "x": [
            0,
            1,
            2,
            3,
            4,
            5,
            6,
            7,
            8
           ],
           "y": [
            0,
            0,
            0,
            0,
            0,
            0,
            1,
            1,
            1
           ]
          },
          {
           "mode": "lines+markers",
           "name": "user_12",
           "type": "scatter",
           "x": [
            0,
            1,
            2,
            3,
            4,
            5,
            6,
            7,
            8
           ],
           "y": [
            0,
            0,
            0,
            0,
            0,
            0,
            0,
            0,
            0
           ]
          },
          {
           "mode": "lines+markers",
           "name": "user_13",
           "type": "scatter",
           "x": [
            0,
            1,
            2,
            3,
            4,
            5,
            6,
            7,
            8
           ],
           "y": [
            0,
            0,
            0,
            0,
            0,
            0,
            0,
            0,
            0
           ]
          },
          {
           "mode": "lines+markers",
           "name": "user_14",
           "type": "scatter",
           "x": [
            0,
            1,
            2,
            3,
            4,
            5,
            6,
            7,
            8
           ],
           "y": [
            0,
            0,
            0,
            0,
            0,
            0,
            0,
            0,
            1
           ]
          },
          {
           "mode": "lines+markers",
           "name": "user_15",
           "type": "scatter",
           "x": [
            0,
            1,
            2,
            3,
            4,
            5,
            6,
            7,
            8
           ],
           "y": [
            0,
            0,
            0,
            0,
            0,
            0,
            0,
            0,
            0
           ]
          },
          {
           "mode": "lines+markers",
           "name": "user_16",
           "type": "scatter",
           "x": [
            0,
            1,
            2,
            3,
            4,
            5,
            6,
            7,
            8
           ],
           "y": [
            0,
            0,
            0,
            0,
            0,
            0,
            0,
            0,
            0
           ]
          },
          {
           "mode": "lines+markers",
           "name": "user_17",
           "type": "scatter",
           "x": [
            0,
            1,
            2,
            3,
            4,
            5,
            6,
            7,
            8
           ],
           "y": [
            0,
            1,
            1,
            1,
            1,
            1,
            1,
            1,
            1
           ]
          },
          {
           "mode": "lines+markers",
           "name": "user_18",
           "type": "scatter",
           "x": [
            0,
            1,
            2,
            3,
            4,
            5,
            6,
            7,
            8
           ],
           "y": [
            0,
            0,
            0,
            0,
            0,
            0,
            0,
            0,
            0
           ]
          },
          {
           "mode": "lines+markers",
           "name": "user_19",
           "type": "scatter",
           "x": [
            0,
            1,
            2,
            3,
            4,
            5,
            6,
            7,
            8
           ],
           "y": [
            0,
            0,
            0,
            0,
            0,
            0,
            0,
            0,
            0
           ]
          },
          {
           "mode": "lines+markers",
           "name": "user_2",
           "type": "scatter",
           "x": [
            0,
            1,
            2,
            3,
            4,
            5,
            6,
            7,
            8
           ],
           "y": [
            0,
            0,
            0,
            0,
            0,
            0,
            0,
            0,
            57
           ]
          },
          {
           "mode": "lines+markers",
           "name": "user_20",
           "type": "scatter",
           "x": [
            0,
            1,
            2,
            3,
            4,
            5,
            6,
            7,
            8
           ],
           "y": [
            0,
            0,
            0,
            0,
            0,
            0,
            0,
            0,
            0
           ]
          },
          {
           "mode": "lines+markers",
           "name": "user_21",
           "type": "scatter",
           "x": [
            0,
            1,
            2,
            3,
            4,
            5,
            6,
            7,
            8
           ],
           "y": [
            0,
            0,
            0,
            0,
            0,
            0,
            0,
            0,
            0
           ]
          },
          {
           "mode": "lines+markers",
           "name": "user_22",
           "type": "scatter",
           "x": [
            0,
            1,
            2,
            3,
            4,
            5,
            6,
            7,
            8
           ],
           "y": [
            0,
            0,
            0,
            0,
            0,
            0,
            1,
            1,
            1
           ]
          },
          {
           "mode": "lines+markers",
           "name": "user_24",
           "type": "scatter",
           "x": [
            0,
            1,
            2,
            3,
            4,
            5,
            6,
            7,
            8
           ],
           "y": [
            0,
            0,
            0,
            0,
            0,
            0,
            0,
            0,
            0
           ]
          },
          {
           "mode": "lines+markers",
           "name": "user_25",
           "type": "scatter",
           "x": [
            0,
            1,
            2,
            3,
            4,
            5,
            6,
            7,
            8
           ],
           "y": [
            0,
            0,
            0,
            0,
            0,
            0,
            0,
            0,
            0
           ]
          },
          {
           "mode": "lines+markers",
           "name": "user_26",
           "type": "scatter",
           "x": [
            0,
            1,
            2,
            3,
            4,
            5,
            6,
            7,
            8
           ],
           "y": [
            0,
            0,
            0,
            0,
            0,
            0,
            0,
            0,
            0
           ]
          },
          {
           "mode": "lines+markers",
           "name": "user_27",
           "type": "scatter",
           "x": [
            0,
            1,
            2,
            3,
            4,
            5,
            6,
            7,
            8
           ],
           "y": [
            0,
            0,
            0,
            0,
            0,
            0,
            0,
            0,
            0
           ]
          },
          {
           "mode": "lines+markers",
           "name": "user_28",
           "type": "scatter",
           "x": [
            0,
            1,
            2,
            3,
            4,
            5,
            6,
            7,
            8
           ],
           "y": [
            0,
            0,
            0,
            0,
            0,
            0,
            0,
            0,
            0
           ]
          },
          {
           "mode": "lines+markers",
           "name": "user_29",
           "type": "scatter",
           "x": [
            0,
            1,
            2,
            3,
            4,
            5,
            6,
            7,
            8
           ],
           "y": [
            0,
            0,
            0,
            0,
            0,
            0,
            0,
            0,
            0
           ]
          },
          {
           "mode": "lines+markers",
           "name": "user_3",
           "type": "scatter",
           "x": [
            0,
            1,
            2,
            3,
            4,
            5,
            6,
            7,
            8
           ],
           "y": [
            0,
            0,
            0,
            0,
            0,
            0,
            0,
            0,
            0
           ]
          },
          {
           "mode": "lines+markers",
           "name": "user_30",
           "type": "scatter",
           "x": [
            0,
            1,
            2,
            3,
            4,
            5,
            6,
            7,
            8
           ],
           "y": [
            0,
            0,
            0,
            1,
            2,
            2,
            4,
            5,
            5
           ]
          },
          {
           "mode": "lines+markers",
           "name": "user_31",
           "type": "scatter",
           "x": [
            0,
            1,
            2,
            3,
            4,
            5,
            6,
            7,
            8
           ],
           "y": [
            0,
            0,
            0,
            0,
            0,
            0,
            0,
            0,
            0
           ]
          },
          {
           "mode": "lines+markers",
           "name": "user_4",
           "type": "scatter",
           "x": [
            0,
            1,
            2,
            3,
            4,
            5,
            6,
            7,
            8
           ],
           "y": [
            7,
            7,
            11,
            11,
            20,
            27,
            35,
            48,
            53
           ]
          },
          {
           "mode": "lines+markers",
           "name": "user_6",
           "type": "scatter",
           "x": [
            0,
            1,
            2,
            3,
            4,
            5,
            6,
            7,
            8
           ],
           "y": [
            0,
            0,
            0,
            0,
            0,
            0,
            0,
            0,
            0
           ]
          },
          {
           "mode": "lines+markers",
           "name": "user_8",
           "type": "scatter",
           "x": [
            0,
            1,
            2,
            3,
            4,
            5,
            6,
            7,
            8
           ],
           "y": [
            0,
            0,
            0,
            0,
            0,
            0,
            0,
            0,
            0
           ]
          }
         ],
         "layout": {
          "title": {
           "text": "Dynamic of commits per user in project1"
          }
         }
        },
        {
         "data": [
          {
           "mode": "lines+markers",
           "name": "user_1",
           "type": "scatter",
           "x": [
            0,
            1,
            2,
            3,
            4,
            5,
            6,
            7,
            8,
            9
           ],
           "y": [
            0,
            0,
            0,
            0,
            0,
            0,
            0,
            0,
            0,
            0
           ]
          },
          {
           "mode": "lines+markers",
           "name": "user_10",
           "type": "scatter",
           "x": [
            0,
            1,
            2,
            3,
            4,
            5,
            6,
            7,
            8,
            9
           ],
           "y": [
            0,
            0,
            0,
            0,
            0,
            0,
            0,
            0,
            0,
            0
           ]
          },
          {
           "mode": "lines+markers",
           "name": "user_11",
           "type": "scatter",
           "x": [
            0,
            1,
            2,
            3,
            4,
            5,
            6,
            7,
            8,
            9
           ],
           "y": [
            0,
            0,
            0,
            0,
            0,
            0,
            1,
            1,
            1,
            1
           ]
          },
          {
           "mode": "lines+markers",
           "name": "user_12",
           "type": "scatter",
           "x": [
            0,
            1,
            2,
            3,
            4,
            5,
            6,
            7,
            8,
            9
           ],
           "y": [
            0,
            0,
            0,
            0,
            0,
            0,
            0,
            0,
            0,
            0
           ]
          },
          {
           "mode": "lines+markers",
           "name": "user_13",
           "type": "scatter",
           "x": [
            0,
            1,
            2,
            3,
            4,
            5,
            6,
            7,
            8,
            9
           ],
           "y": [
            0,
            0,
            0,
            0,
            0,
            0,
            0,
            0,
            0,
            0
           ]
          },
          {
           "mode": "lines+markers",
           "name": "user_14",
           "type": "scatter",
           "x": [
            0,
            1,
            2,
            3,
            4,
            5,
            6,
            7,
            8,
            9
           ],
           "y": [
            0,
            0,
            0,
            0,
            0,
            0,
            0,
            0,
            1,
            1
           ]
          },
          {
           "mode": "lines+markers",
           "name": "user_15",
           "type": "scatter",
           "x": [
            0,
            1,
            2,
            3,
            4,
            5,
            6,
            7,
            8,
            9
           ],
           "y": [
            0,
            0,
            0,
            0,
            0,
            0,
            0,
            0,
            0,
            0
           ]
          },
          {
           "mode": "lines+markers",
           "name": "user_16",
           "type": "scatter",
           "x": [
            0,
            1,
            2,
            3,
            4,
            5,
            6,
            7,
            8,
            9
           ],
           "y": [
            0,
            0,
            0,
            0,
            0,
            0,
            0,
            0,
            0,
            0
           ]
          },
          {
           "mode": "lines+markers",
           "name": "user_17",
           "type": "scatter",
           "x": [
            0,
            1,
            2,
            3,
            4,
            5,
            6,
            7,
            8,
            9
           ],
           "y": [
            0,
            1,
            1,
            1,
            1,
            1,
            1,
            1,
            1,
            1
           ]
          },
          {
           "mode": "lines+markers",
           "name": "user_18",
           "type": "scatter",
           "x": [
            0,
            1,
            2,
            3,
            4,
            5,
            6,
            7,
            8,
            9
           ],
           "y": [
            0,
            0,
            0,
            0,
            0,
            0,
            0,
            0,
            0,
            0
           ]
          },
          {
           "mode": "lines+markers",
           "name": "user_19",
           "type": "scatter",
           "x": [
            0,
            1,
            2,
            3,
            4,
            5,
            6,
            7,
            8,
            9
           ],
           "y": [
            0,
            0,
            0,
            0,
            0,
            0,
            0,
            0,
            0,
            0
           ]
          },
          {
           "mode": "lines+markers",
           "name": "user_2",
           "type": "scatter",
           "x": [
            0,
            1,
            2,
            3,
            4,
            5,
            6,
            7,
            8,
            9
           ],
           "y": [
            0,
            0,
            0,
            0,
            0,
            0,
            0,
            0,
            57,
            58
           ]
          },
          {
           "mode": "lines+markers",
           "name": "user_20",
           "type": "scatter",
           "x": [
            0,
            1,
            2,
            3,
            4,
            5,
            6,
            7,
            8,
            9
           ],
           "y": [
            0,
            0,
            0,
            0,
            0,
            0,
            0,
            0,
            0,
            0
           ]
          },
          {
           "mode": "lines+markers",
           "name": "user_21",
           "type": "scatter",
           "x": [
            0,
            1,
            2,
            3,
            4,
            5,
            6,
            7,
            8,
            9
           ],
           "y": [
            0,
            0,
            0,
            0,
            0,
            0,
            0,
            0,
            0,
            0
           ]
          },
          {
           "mode": "lines+markers",
           "name": "user_22",
           "type": "scatter",
           "x": [
            0,
            1,
            2,
            3,
            4,
            5,
            6,
            7,
            8,
            9
           ],
           "y": [
            0,
            0,
            0,
            0,
            0,
            0,
            1,
            1,
            1,
            1
           ]
          },
          {
           "mode": "lines+markers",
           "name": "user_24",
           "type": "scatter",
           "x": [
            0,
            1,
            2,
            3,
            4,
            5,
            6,
            7,
            8,
            9
           ],
           "y": [
            0,
            0,
            0,
            0,
            0,
            0,
            0,
            0,
            0,
            0
           ]
          },
          {
           "mode": "lines+markers",
           "name": "user_25",
           "type": "scatter",
           "x": [
            0,
            1,
            2,
            3,
            4,
            5,
            6,
            7,
            8,
            9
           ],
           "y": [
            0,
            0,
            0,
            0,
            0,
            0,
            0,
            0,
            0,
            0
           ]
          },
          {
           "mode": "lines+markers",
           "name": "user_26",
           "type": "scatter",
           "x": [
            0,
            1,
            2,
            3,
            4,
            5,
            6,
            7,
            8,
            9
           ],
           "y": [
            0,
            0,
            0,
            0,
            0,
            0,
            0,
            0,
            0,
            0
           ]
          },
          {
           "mode": "lines+markers",
           "name": "user_27",
           "type": "scatter",
           "x": [
            0,
            1,
            2,
            3,
            4,
            5,
            6,
            7,
            8,
            9
           ],
           "y": [
            0,
            0,
            0,
            0,
            0,
            0,
            0,
            0,
            0,
            0
           ]
          },
          {
           "mode": "lines+markers",
           "name": "user_28",
           "type": "scatter",
           "x": [
            0,
            1,
            2,
            3,
            4,
            5,
            6,
            7,
            8,
            9
           ],
           "y": [
            0,
            0,
            0,
            0,
            0,
            0,
            0,
            0,
            0,
            0
           ]
          },
          {
           "mode": "lines+markers",
           "name": "user_29",
           "type": "scatter",
           "x": [
            0,
            1,
            2,
            3,
            4,
            5,
            6,
            7,
            8,
            9
           ],
           "y": [
            0,
            0,
            0,
            0,
            0,
            0,
            0,
            0,
            0,
            0
           ]
          },
          {
           "mode": "lines+markers",
           "name": "user_3",
           "type": "scatter",
           "x": [
            0,
            1,
            2,
            3,
            4,
            5,
            6,
            7,
            8,
            9
           ],
           "y": [
            0,
            0,
            0,
            0,
            0,
            0,
            0,
            0,
            0,
            0
           ]
          },
          {
           "mode": "lines+markers",
           "name": "user_30",
           "type": "scatter",
           "x": [
            0,
            1,
            2,
            3,
            4,
            5,
            6,
            7,
            8,
            9
           ],
           "y": [
            0,
            0,
            0,
            1,
            2,
            2,
            4,
            5,
            5,
            5
           ]
          },
          {
           "mode": "lines+markers",
           "name": "user_31",
           "type": "scatter",
           "x": [
            0,
            1,
            2,
            3,
            4,
            5,
            6,
            7,
            8,
            9
           ],
           "y": [
            0,
            0,
            0,
            0,
            0,
            0,
            0,
            0,
            0,
            0
           ]
          },
          {
           "mode": "lines+markers",
           "name": "user_4",
           "type": "scatter",
           "x": [
            0,
            1,
            2,
            3,
            4,
            5,
            6,
            7,
            8,
            9
           ],
           "y": [
            7,
            7,
            11,
            11,
            20,
            27,
            35,
            48,
            53,
            53
           ]
          },
          {
           "mode": "lines+markers",
           "name": "user_6",
           "type": "scatter",
           "x": [
            0,
            1,
            2,
            3,
            4,
            5,
            6,
            7,
            8,
            9
           ],
           "y": [
            0,
            0,
            0,
            0,
            0,
            0,
            0,
            0,
            0,
            0
           ]
          },
          {
           "mode": "lines+markers",
           "name": "user_8",
           "type": "scatter",
           "x": [
            0,
            1,
            2,
            3,
            4,
            5,
            6,
            7,
            8,
            9
           ],
           "y": [
            0,
            0,
            0,
            0,
            0,
            0,
            0,
            0,
            0,
            0
           ]
          }
         ],
         "layout": {
          "title": {
           "text": "Dynamic of commits per user in project1"
          }
         }
        },
        {
         "data": [
          {
           "mode": "lines+markers",
           "name": "user_1",
           "type": "scatter",
           "x": [
            0,
            1,
            2,
            3,
            4,
            5,
            6,
            7,
            8,
            9,
            10
           ],
           "y": [
            0,
            0,
            0,
            0,
            0,
            0,
            0,
            0,
            0,
            0,
            0
           ]
          },
          {
           "mode": "lines+markers",
           "name": "user_10",
           "type": "scatter",
           "x": [
            0,
            1,
            2,
            3,
            4,
            5,
            6,
            7,
            8,
            9,
            10
           ],
           "y": [
            0,
            0,
            0,
            0,
            0,
            0,
            0,
            0,
            0,
            0,
            0
           ]
          },
          {
           "mode": "lines+markers",
           "name": "user_11",
           "type": "scatter",
           "x": [
            0,
            1,
            2,
            3,
            4,
            5,
            6,
            7,
            8,
            9,
            10
           ],
           "y": [
            0,
            0,
            0,
            0,
            0,
            0,
            1,
            1,
            1,
            1,
            1
           ]
          },
          {
           "mode": "lines+markers",
           "name": "user_12",
           "type": "scatter",
           "x": [
            0,
            1,
            2,
            3,
            4,
            5,
            6,
            7,
            8,
            9,
            10
           ],
           "y": [
            0,
            0,
            0,
            0,
            0,
            0,
            0,
            0,
            0,
            0,
            0
           ]
          },
          {
           "mode": "lines+markers",
           "name": "user_13",
           "type": "scatter",
           "x": [
            0,
            1,
            2,
            3,
            4,
            5,
            6,
            7,
            8,
            9,
            10
           ],
           "y": [
            0,
            0,
            0,
            0,
            0,
            0,
            0,
            0,
            0,
            0,
            0
           ]
          },
          {
           "mode": "lines+markers",
           "name": "user_14",
           "type": "scatter",
           "x": [
            0,
            1,
            2,
            3,
            4,
            5,
            6,
            7,
            8,
            9,
            10
           ],
           "y": [
            0,
            0,
            0,
            0,
            0,
            0,
            0,
            0,
            1,
            1,
            1
           ]
          },
          {
           "mode": "lines+markers",
           "name": "user_15",
           "type": "scatter",
           "x": [
            0,
            1,
            2,
            3,
            4,
            5,
            6,
            7,
            8,
            9,
            10
           ],
           "y": [
            0,
            0,
            0,
            0,
            0,
            0,
            0,
            0,
            0,
            0,
            0
           ]
          },
          {
           "mode": "lines+markers",
           "name": "user_16",
           "type": "scatter",
           "x": [
            0,
            1,
            2,
            3,
            4,
            5,
            6,
            7,
            8,
            9,
            10
           ],
           "y": [
            0,
            0,
            0,
            0,
            0,
            0,
            0,
            0,
            0,
            0,
            0
           ]
          },
          {
           "mode": "lines+markers",
           "name": "user_17",
           "type": "scatter",
           "x": [
            0,
            1,
            2,
            3,
            4,
            5,
            6,
            7,
            8,
            9,
            10
           ],
           "y": [
            0,
            1,
            1,
            1,
            1,
            1,
            1,
            1,
            1,
            1,
            1
           ]
          },
          {
           "mode": "lines+markers",
           "name": "user_18",
           "type": "scatter",
           "x": [
            0,
            1,
            2,
            3,
            4,
            5,
            6,
            7,
            8,
            9,
            10
           ],
           "y": [
            0,
            0,
            0,
            0,
            0,
            0,
            0,
            0,
            0,
            0,
            0
           ]
          },
          {
           "mode": "lines+markers",
           "name": "user_19",
           "type": "scatter",
           "x": [
            0,
            1,
            2,
            3,
            4,
            5,
            6,
            7,
            8,
            9,
            10
           ],
           "y": [
            0,
            0,
            0,
            0,
            0,
            0,
            0,
            0,
            0,
            0,
            0
           ]
          },
          {
           "mode": "lines+markers",
           "name": "user_2",
           "type": "scatter",
           "x": [
            0,
            1,
            2,
            3,
            4,
            5,
            6,
            7,
            8,
            9,
            10
           ],
           "y": [
            0,
            0,
            0,
            0,
            0,
            0,
            0,
            0,
            57,
            58,
            58
           ]
          },
          {
           "mode": "lines+markers",
           "name": "user_20",
           "type": "scatter",
           "x": [
            0,
            1,
            2,
            3,
            4,
            5,
            6,
            7,
            8,
            9,
            10
           ],
           "y": [
            0,
            0,
            0,
            0,
            0,
            0,
            0,
            0,
            0,
            0,
            0
           ]
          },
          {
           "mode": "lines+markers",
           "name": "user_21",
           "type": "scatter",
           "x": [
            0,
            1,
            2,
            3,
            4,
            5,
            6,
            7,
            8,
            9,
            10
           ],
           "y": [
            0,
            0,
            0,
            0,
            0,
            0,
            0,
            0,
            0,
            0,
            0
           ]
          },
          {
           "mode": "lines+markers",
           "name": "user_22",
           "type": "scatter",
           "x": [
            0,
            1,
            2,
            3,
            4,
            5,
            6,
            7,
            8,
            9,
            10
           ],
           "y": [
            0,
            0,
            0,
            0,
            0,
            0,
            1,
            1,
            1,
            1,
            1
           ]
          },
          {
           "mode": "lines+markers",
           "name": "user_24",
           "type": "scatter",
           "x": [
            0,
            1,
            2,
            3,
            4,
            5,
            6,
            7,
            8,
            9,
            10
           ],
           "y": [
            0,
            0,
            0,
            0,
            0,
            0,
            0,
            0,
            0,
            0,
            0
           ]
          },
          {
           "mode": "lines+markers",
           "name": "user_25",
           "type": "scatter",
           "x": [
            0,
            1,
            2,
            3,
            4,
            5,
            6,
            7,
            8,
            9,
            10
           ],
           "y": [
            0,
            0,
            0,
            0,
            0,
            0,
            0,
            0,
            0,
            0,
            0
           ]
          },
          {
           "mode": "lines+markers",
           "name": "user_26",
           "type": "scatter",
           "x": [
            0,
            1,
            2,
            3,
            4,
            5,
            6,
            7,
            8,
            9,
            10
           ],
           "y": [
            0,
            0,
            0,
            0,
            0,
            0,
            0,
            0,
            0,
            0,
            0
           ]
          },
          {
           "mode": "lines+markers",
           "name": "user_27",
           "type": "scatter",
           "x": [
            0,
            1,
            2,
            3,
            4,
            5,
            6,
            7,
            8,
            9,
            10
           ],
           "y": [
            0,
            0,
            0,
            0,
            0,
            0,
            0,
            0,
            0,
            0,
            0
           ]
          },
          {
           "mode": "lines+markers",
           "name": "user_28",
           "type": "scatter",
           "x": [
            0,
            1,
            2,
            3,
            4,
            5,
            6,
            7,
            8,
            9,
            10
           ],
           "y": [
            0,
            0,
            0,
            0,
            0,
            0,
            0,
            0,
            0,
            0,
            0
           ]
          },
          {
           "mode": "lines+markers",
           "name": "user_29",
           "type": "scatter",
           "x": [
            0,
            1,
            2,
            3,
            4,
            5,
            6,
            7,
            8,
            9,
            10
           ],
           "y": [
            0,
            0,
            0,
            0,
            0,
            0,
            0,
            0,
            0,
            0,
            0
           ]
          },
          {
           "mode": "lines+markers",
           "name": "user_3",
           "type": "scatter",
           "x": [
            0,
            1,
            2,
            3,
            4,
            5,
            6,
            7,
            8,
            9,
            10
           ],
           "y": [
            0,
            0,
            0,
            0,
            0,
            0,
            0,
            0,
            0,
            0,
            1
           ]
          },
          {
           "mode": "lines+markers",
           "name": "user_30",
           "type": "scatter",
           "x": [
            0,
            1,
            2,
            3,
            4,
            5,
            6,
            7,
            8,
            9,
            10
           ],
           "y": [
            0,
            0,
            0,
            1,
            2,
            2,
            4,
            5,
            5,
            5,
            12
           ]
          },
          {
           "mode": "lines+markers",
           "name": "user_31",
           "type": "scatter",
           "x": [
            0,
            1,
            2,
            3,
            4,
            5,
            6,
            7,
            8,
            9,
            10
           ],
           "y": [
            0,
            0,
            0,
            0,
            0,
            0,
            0,
            0,
            0,
            0,
            1
           ]
          },
          {
           "mode": "lines+markers",
           "name": "user_4",
           "type": "scatter",
           "x": [
            0,
            1,
            2,
            3,
            4,
            5,
            6,
            7,
            8,
            9,
            10
           ],
           "y": [
            7,
            7,
            11,
            11,
            20,
            27,
            35,
            48,
            53,
            53,
            71
           ]
          },
          {
           "mode": "lines+markers",
           "name": "user_6",
           "type": "scatter",
           "x": [
            0,
            1,
            2,
            3,
            4,
            5,
            6,
            7,
            8,
            9,
            10
           ],
           "y": [
            0,
            0,
            0,
            0,
            0,
            0,
            0,
            0,
            0,
            0,
            0
           ]
          },
          {
           "mode": "lines+markers",
           "name": "user_8",
           "type": "scatter",
           "x": [
            0,
            1,
            2,
            3,
            4,
            5,
            6,
            7,
            8,
            9,
            10
           ],
           "y": [
            0,
            0,
            0,
            0,
            0,
            0,
            0,
            0,
            0,
            0,
            0
           ]
          }
         ],
         "layout": {
          "title": {
           "text": "Dynamic of commits per user in project1"
          }
         }
        },
        {
         "data": [
          {
           "mode": "lines+markers",
           "name": "user_1",
           "type": "scatter",
           "x": [
            0,
            1,
            2,
            3,
            4,
            5,
            6,
            7,
            8,
            9,
            10,
            11
           ],
           "y": [
            0,
            0,
            0,
            0,
            0,
            0,
            0,
            0,
            0,
            0,
            0,
            0
           ]
          },
          {
           "mode": "lines+markers",
           "name": "user_10",
           "type": "scatter",
           "x": [
            0,
            1,
            2,
            3,
            4,
            5,
            6,
            7,
            8,
            9,
            10,
            11
           ],
           "y": [
            0,
            0,
            0,
            0,
            0,
            0,
            0,
            0,
            0,
            0,
            0,
            0
           ]
          },
          {
           "mode": "lines+markers",
           "name": "user_11",
           "type": "scatter",
           "x": [
            0,
            1,
            2,
            3,
            4,
            5,
            6,
            7,
            8,
            9,
            10,
            11
           ],
           "y": [
            0,
            0,
            0,
            0,
            0,
            0,
            1,
            1,
            1,
            1,
            1,
            1
           ]
          },
          {
           "mode": "lines+markers",
           "name": "user_12",
           "type": "scatter",
           "x": [
            0,
            1,
            2,
            3,
            4,
            5,
            6,
            7,
            8,
            9,
            10,
            11
           ],
           "y": [
            0,
            0,
            0,
            0,
            0,
            0,
            0,
            0,
            0,
            0,
            0,
            0
           ]
          },
          {
           "mode": "lines+markers",
           "name": "user_13",
           "type": "scatter",
           "x": [
            0,
            1,
            2,
            3,
            4,
            5,
            6,
            7,
            8,
            9,
            10,
            11
           ],
           "y": [
            0,
            0,
            0,
            0,
            0,
            0,
            0,
            0,
            0,
            0,
            0,
            0
           ]
          },
          {
           "mode": "lines+markers",
           "name": "user_14",
           "type": "scatter",
           "x": [
            0,
            1,
            2,
            3,
            4,
            5,
            6,
            7,
            8,
            9,
            10,
            11
           ],
           "y": [
            0,
            0,
            0,
            0,
            0,
            0,
            0,
            0,
            1,
            1,
            1,
            1
           ]
          },
          {
           "mode": "lines+markers",
           "name": "user_15",
           "type": "scatter",
           "x": [
            0,
            1,
            2,
            3,
            4,
            5,
            6,
            7,
            8,
            9,
            10,
            11
           ],
           "y": [
            0,
            0,
            0,
            0,
            0,
            0,
            0,
            0,
            0,
            0,
            0,
            0
           ]
          },
          {
           "mode": "lines+markers",
           "name": "user_16",
           "type": "scatter",
           "x": [
            0,
            1,
            2,
            3,
            4,
            5,
            6,
            7,
            8,
            9,
            10,
            11
           ],
           "y": [
            0,
            0,
            0,
            0,
            0,
            0,
            0,
            0,
            0,
            0,
            0,
            0
           ]
          },
          {
           "mode": "lines+markers",
           "name": "user_17",
           "type": "scatter",
           "x": [
            0,
            1,
            2,
            3,
            4,
            5,
            6,
            7,
            8,
            9,
            10,
            11
           ],
           "y": [
            0,
            1,
            1,
            1,
            1,
            1,
            1,
            1,
            1,
            1,
            1,
            1
           ]
          },
          {
           "mode": "lines+markers",
           "name": "user_18",
           "type": "scatter",
           "x": [
            0,
            1,
            2,
            3,
            4,
            5,
            6,
            7,
            8,
            9,
            10,
            11
           ],
           "y": [
            0,
            0,
            0,
            0,
            0,
            0,
            0,
            0,
            0,
            0,
            0,
            0
           ]
          },
          {
           "mode": "lines+markers",
           "name": "user_19",
           "type": "scatter",
           "x": [
            0,
            1,
            2,
            3,
            4,
            5,
            6,
            7,
            8,
            9,
            10,
            11
           ],
           "y": [
            0,
            0,
            0,
            0,
            0,
            0,
            0,
            0,
            0,
            0,
            0,
            0
           ]
          },
          {
           "mode": "lines+markers",
           "name": "user_2",
           "type": "scatter",
           "x": [
            0,
            1,
            2,
            3,
            4,
            5,
            6,
            7,
            8,
            9,
            10,
            11
           ],
           "y": [
            0,
            0,
            0,
            0,
            0,
            0,
            0,
            0,
            57,
            58,
            58,
            58
           ]
          },
          {
           "mode": "lines+markers",
           "name": "user_20",
           "type": "scatter",
           "x": [
            0,
            1,
            2,
            3,
            4,
            5,
            6,
            7,
            8,
            9,
            10,
            11
           ],
           "y": [
            0,
            0,
            0,
            0,
            0,
            0,
            0,
            0,
            0,
            0,
            0,
            0
           ]
          },
          {
           "mode": "lines+markers",
           "name": "user_21",
           "type": "scatter",
           "x": [
            0,
            1,
            2,
            3,
            4,
            5,
            6,
            7,
            8,
            9,
            10,
            11
           ],
           "y": [
            0,
            0,
            0,
            0,
            0,
            0,
            0,
            0,
            0,
            0,
            0,
            0
           ]
          },
          {
           "mode": "lines+markers",
           "name": "user_22",
           "type": "scatter",
           "x": [
            0,
            1,
            2,
            3,
            4,
            5,
            6,
            7,
            8,
            9,
            10,
            11
           ],
           "y": [
            0,
            0,
            0,
            0,
            0,
            0,
            1,
            1,
            1,
            1,
            1,
            1
           ]
          },
          {
           "mode": "lines+markers",
           "name": "user_24",
           "type": "scatter",
           "x": [
            0,
            1,
            2,
            3,
            4,
            5,
            6,
            7,
            8,
            9,
            10,
            11
           ],
           "y": [
            0,
            0,
            0,
            0,
            0,
            0,
            0,
            0,
            0,
            0,
            0,
            0
           ]
          },
          {
           "mode": "lines+markers",
           "name": "user_25",
           "type": "scatter",
           "x": [
            0,
            1,
            2,
            3,
            4,
            5,
            6,
            7,
            8,
            9,
            10,
            11
           ],
           "y": [
            0,
            0,
            0,
            0,
            0,
            0,
            0,
            0,
            0,
            0,
            0,
            5
           ]
          },
          {
           "mode": "lines+markers",
           "name": "user_26",
           "type": "scatter",
           "x": [
            0,
            1,
            2,
            3,
            4,
            5,
            6,
            7,
            8,
            9,
            10,
            11
           ],
           "y": [
            0,
            0,
            0,
            0,
            0,
            0,
            0,
            0,
            0,
            0,
            0,
            0
           ]
          },
          {
           "mode": "lines+markers",
           "name": "user_27",
           "type": "scatter",
           "x": [
            0,
            1,
            2,
            3,
            4,
            5,
            6,
            7,
            8,
            9,
            10,
            11
           ],
           "y": [
            0,
            0,
            0,
            0,
            0,
            0,
            0,
            0,
            0,
            0,
            0,
            0
           ]
          },
          {
           "mode": "lines+markers",
           "name": "user_28",
           "type": "scatter",
           "x": [
            0,
            1,
            2,
            3,
            4,
            5,
            6,
            7,
            8,
            9,
            10,
            11
           ],
           "y": [
            0,
            0,
            0,
            0,
            0,
            0,
            0,
            0,
            0,
            0,
            0,
            0
           ]
          },
          {
           "mode": "lines+markers",
           "name": "user_29",
           "type": "scatter",
           "x": [
            0,
            1,
            2,
            3,
            4,
            5,
            6,
            7,
            8,
            9,
            10,
            11
           ],
           "y": [
            0,
            0,
            0,
            0,
            0,
            0,
            0,
            0,
            0,
            0,
            0,
            0
           ]
          },
          {
           "mode": "lines+markers",
           "name": "user_3",
           "type": "scatter",
           "x": [
            0,
            1,
            2,
            3,
            4,
            5,
            6,
            7,
            8,
            9,
            10,
            11
           ],
           "y": [
            0,
            0,
            0,
            0,
            0,
            0,
            0,
            0,
            0,
            0,
            1,
            28
           ]
          },
          {
           "mode": "lines+markers",
           "name": "user_30",
           "type": "scatter",
           "x": [
            0,
            1,
            2,
            3,
            4,
            5,
            6,
            7,
            8,
            9,
            10,
            11
           ],
           "y": [
            0,
            0,
            0,
            1,
            2,
            2,
            4,
            5,
            5,
            5,
            12,
            12
           ]
          },
          {
           "mode": "lines+markers",
           "name": "user_31",
           "type": "scatter",
           "x": [
            0,
            1,
            2,
            3,
            4,
            5,
            6,
            7,
            8,
            9,
            10,
            11
           ],
           "y": [
            0,
            0,
            0,
            0,
            0,
            0,
            0,
            0,
            0,
            0,
            1,
            1
           ]
          },
          {
           "mode": "lines+markers",
           "name": "user_4",
           "type": "scatter",
           "x": [
            0,
            1,
            2,
            3,
            4,
            5,
            6,
            7,
            8,
            9,
            10,
            11
           ],
           "y": [
            7,
            7,
            11,
            11,
            20,
            27,
            35,
            48,
            53,
            53,
            71,
            83
           ]
          },
          {
           "mode": "lines+markers",
           "name": "user_6",
           "type": "scatter",
           "x": [
            0,
            1,
            2,
            3,
            4,
            5,
            6,
            7,
            8,
            9,
            10,
            11
           ],
           "y": [
            0,
            0,
            0,
            0,
            0,
            0,
            0,
            0,
            0,
            0,
            0,
            0
           ]
          },
          {
           "mode": "lines+markers",
           "name": "user_8",
           "type": "scatter",
           "x": [
            0,
            1,
            2,
            3,
            4,
            5,
            6,
            7,
            8,
            9,
            10,
            11
           ],
           "y": [
            0,
            0,
            0,
            0,
            0,
            0,
            0,
            0,
            0,
            0,
            0,
            0
           ]
          }
         ],
         "layout": {
          "title": {
           "text": "Dynamic of commits per user in project1"
          }
         }
        },
        {
         "data": [
          {
           "mode": "lines+markers",
           "name": "user_1",
           "type": "scatter",
           "x": [
            0,
            1,
            2,
            3,
            4,
            5,
            6,
            7,
            8,
            9,
            10,
            11,
            12
           ],
           "y": [
            0,
            0,
            0,
            0,
            0,
            0,
            0,
            0,
            0,
            0,
            0,
            0,
            0
           ]
          },
          {
           "mode": "lines+markers",
           "name": "user_10",
           "type": "scatter",
           "x": [
            0,
            1,
            2,
            3,
            4,
            5,
            6,
            7,
            8,
            9,
            10,
            11,
            12
           ],
           "y": [
            0,
            0,
            0,
            0,
            0,
            0,
            0,
            0,
            0,
            0,
            0,
            0,
            0
           ]
          },
          {
           "mode": "lines+markers",
           "name": "user_11",
           "type": "scatter",
           "x": [
            0,
            1,
            2,
            3,
            4,
            5,
            6,
            7,
            8,
            9,
            10,
            11,
            12
           ],
           "y": [
            0,
            0,
            0,
            0,
            0,
            0,
            1,
            1,
            1,
            1,
            1,
            1,
            1
           ]
          },
          {
           "mode": "lines+markers",
           "name": "user_12",
           "type": "scatter",
           "x": [
            0,
            1,
            2,
            3,
            4,
            5,
            6,
            7,
            8,
            9,
            10,
            11,
            12
           ],
           "y": [
            0,
            0,
            0,
            0,
            0,
            0,
            0,
            0,
            0,
            0,
            0,
            0,
            0
           ]
          },
          {
           "mode": "lines+markers",
           "name": "user_13",
           "type": "scatter",
           "x": [
            0,
            1,
            2,
            3,
            4,
            5,
            6,
            7,
            8,
            9,
            10,
            11,
            12
           ],
           "y": [
            0,
            0,
            0,
            0,
            0,
            0,
            0,
            0,
            0,
            0,
            0,
            0,
            0
           ]
          },
          {
           "mode": "lines+markers",
           "name": "user_14",
           "type": "scatter",
           "x": [
            0,
            1,
            2,
            3,
            4,
            5,
            6,
            7,
            8,
            9,
            10,
            11,
            12
           ],
           "y": [
            0,
            0,
            0,
            0,
            0,
            0,
            0,
            0,
            1,
            1,
            1,
            1,
            18
           ]
          },
          {
           "mode": "lines+markers",
           "name": "user_15",
           "type": "scatter",
           "x": [
            0,
            1,
            2,
            3,
            4,
            5,
            6,
            7,
            8,
            9,
            10,
            11,
            12
           ],
           "y": [
            0,
            0,
            0,
            0,
            0,
            0,
            0,
            0,
            0,
            0,
            0,
            0,
            0
           ]
          },
          {
           "mode": "lines+markers",
           "name": "user_16",
           "type": "scatter",
           "x": [
            0,
            1,
            2,
            3,
            4,
            5,
            6,
            7,
            8,
            9,
            10,
            11,
            12
           ],
           "y": [
            0,
            0,
            0,
            0,
            0,
            0,
            0,
            0,
            0,
            0,
            0,
            0,
            0
           ]
          },
          {
           "mode": "lines+markers",
           "name": "user_17",
           "type": "scatter",
           "x": [
            0,
            1,
            2,
            3,
            4,
            5,
            6,
            7,
            8,
            9,
            10,
            11,
            12
           ],
           "y": [
            0,
            1,
            1,
            1,
            1,
            1,
            1,
            1,
            1,
            1,
            1,
            1,
            1
           ]
          },
          {
           "mode": "lines+markers",
           "name": "user_18",
           "type": "scatter",
           "x": [
            0,
            1,
            2,
            3,
            4,
            5,
            6,
            7,
            8,
            9,
            10,
            11,
            12
           ],
           "y": [
            0,
            0,
            0,
            0,
            0,
            0,
            0,
            0,
            0,
            0,
            0,
            0,
            0
           ]
          },
          {
           "mode": "lines+markers",
           "name": "user_19",
           "type": "scatter",
           "x": [
            0,
            1,
            2,
            3,
            4,
            5,
            6,
            7,
            8,
            9,
            10,
            11,
            12
           ],
           "y": [
            0,
            0,
            0,
            0,
            0,
            0,
            0,
            0,
            0,
            0,
            0,
            0,
            0
           ]
          },
          {
           "mode": "lines+markers",
           "name": "user_2",
           "type": "scatter",
           "x": [
            0,
            1,
            2,
            3,
            4,
            5,
            6,
            7,
            8,
            9,
            10,
            11,
            12
           ],
           "y": [
            0,
            0,
            0,
            0,
            0,
            0,
            0,
            0,
            57,
            58,
            58,
            58,
            58
           ]
          },
          {
           "mode": "lines+markers",
           "name": "user_20",
           "type": "scatter",
           "x": [
            0,
            1,
            2,
            3,
            4,
            5,
            6,
            7,
            8,
            9,
            10,
            11,
            12
           ],
           "y": [
            0,
            0,
            0,
            0,
            0,
            0,
            0,
            0,
            0,
            0,
            0,
            0,
            0
           ]
          },
          {
           "mode": "lines+markers",
           "name": "user_21",
           "type": "scatter",
           "x": [
            0,
            1,
            2,
            3,
            4,
            5,
            6,
            7,
            8,
            9,
            10,
            11,
            12
           ],
           "y": [
            0,
            0,
            0,
            0,
            0,
            0,
            0,
            0,
            0,
            0,
            0,
            0,
            0
           ]
          },
          {
           "mode": "lines+markers",
           "name": "user_22",
           "type": "scatter",
           "x": [
            0,
            1,
            2,
            3,
            4,
            5,
            6,
            7,
            8,
            9,
            10,
            11,
            12
           ],
           "y": [
            0,
            0,
            0,
            0,
            0,
            0,
            1,
            1,
            1,
            1,
            1,
            1,
            1
           ]
          },
          {
           "mode": "lines+markers",
           "name": "user_24",
           "type": "scatter",
           "x": [
            0,
            1,
            2,
            3,
            4,
            5,
            6,
            7,
            8,
            9,
            10,
            11,
            12
           ],
           "y": [
            0,
            0,
            0,
            0,
            0,
            0,
            0,
            0,
            0,
            0,
            0,
            0,
            0
           ]
          },
          {
           "mode": "lines+markers",
           "name": "user_25",
           "type": "scatter",
           "x": [
            0,
            1,
            2,
            3,
            4,
            5,
            6,
            7,
            8,
            9,
            10,
            11,
            12
           ],
           "y": [
            0,
            0,
            0,
            0,
            0,
            0,
            0,
            0,
            0,
            0,
            0,
            5,
            27
           ]
          },
          {
           "mode": "lines+markers",
           "name": "user_26",
           "type": "scatter",
           "x": [
            0,
            1,
            2,
            3,
            4,
            5,
            6,
            7,
            8,
            9,
            10,
            11,
            12
           ],
           "y": [
            0,
            0,
            0,
            0,
            0,
            0,
            0,
            0,
            0,
            0,
            0,
            0,
            0
           ]
          },
          {
           "mode": "lines+markers",
           "name": "user_27",
           "type": "scatter",
           "x": [
            0,
            1,
            2,
            3,
            4,
            5,
            6,
            7,
            8,
            9,
            10,
            11,
            12
           ],
           "y": [
            0,
            0,
            0,
            0,
            0,
            0,
            0,
            0,
            0,
            0,
            0,
            0,
            0
           ]
          },
          {
           "mode": "lines+markers",
           "name": "user_28",
           "type": "scatter",
           "x": [
            0,
            1,
            2,
            3,
            4,
            5,
            6,
            7,
            8,
            9,
            10,
            11,
            12
           ],
           "y": [
            0,
            0,
            0,
            0,
            0,
            0,
            0,
            0,
            0,
            0,
            0,
            0,
            0
           ]
          },
          {
           "mode": "lines+markers",
           "name": "user_29",
           "type": "scatter",
           "x": [
            0,
            1,
            2,
            3,
            4,
            5,
            6,
            7,
            8,
            9,
            10,
            11,
            12
           ],
           "y": [
            0,
            0,
            0,
            0,
            0,
            0,
            0,
            0,
            0,
            0,
            0,
            0,
            0
           ]
          },
          {
           "mode": "lines+markers",
           "name": "user_3",
           "type": "scatter",
           "x": [
            0,
            1,
            2,
            3,
            4,
            5,
            6,
            7,
            8,
            9,
            10,
            11,
            12
           ],
           "y": [
            0,
            0,
            0,
            0,
            0,
            0,
            0,
            0,
            0,
            0,
            1,
            28,
            29
           ]
          },
          {
           "mode": "lines+markers",
           "name": "user_30",
           "type": "scatter",
           "x": [
            0,
            1,
            2,
            3,
            4,
            5,
            6,
            7,
            8,
            9,
            10,
            11,
            12
           ],
           "y": [
            0,
            0,
            0,
            1,
            2,
            2,
            4,
            5,
            5,
            5,
            12,
            12,
            12
           ]
          },
          {
           "mode": "lines+markers",
           "name": "user_31",
           "type": "scatter",
           "x": [
            0,
            1,
            2,
            3,
            4,
            5,
            6,
            7,
            8,
            9,
            10,
            11,
            12
           ],
           "y": [
            0,
            0,
            0,
            0,
            0,
            0,
            0,
            0,
            0,
            0,
            1,
            1,
            4
           ]
          },
          {
           "mode": "lines+markers",
           "name": "user_4",
           "type": "scatter",
           "x": [
            0,
            1,
            2,
            3,
            4,
            5,
            6,
            7,
            8,
            9,
            10,
            11,
            12
           ],
           "y": [
            7,
            7,
            11,
            11,
            20,
            27,
            35,
            48,
            53,
            53,
            71,
            83,
            83
           ]
          },
          {
           "mode": "lines+markers",
           "name": "user_6",
           "type": "scatter",
           "x": [
            0,
            1,
            2,
            3,
            4,
            5,
            6,
            7,
            8,
            9,
            10,
            11,
            12
           ],
           "y": [
            0,
            0,
            0,
            0,
            0,
            0,
            0,
            0,
            0,
            0,
            0,
            0,
            0
           ]
          },
          {
           "mode": "lines+markers",
           "name": "user_8",
           "type": "scatter",
           "x": [
            0,
            1,
            2,
            3,
            4,
            5,
            6,
            7,
            8,
            9,
            10,
            11,
            12
           ],
           "y": [
            0,
            0,
            0,
            0,
            0,
            0,
            0,
            0,
            0,
            0,
            0,
            0,
            0
           ]
          }
         ],
         "layout": {
          "title": {
           "text": "Dynamic of commits per user in project1"
          }
         }
        },
        {
         "data": [
          {
           "mode": "lines+markers",
           "name": "user_1",
           "type": "scatter",
           "x": [
            0,
            1,
            2,
            3,
            4,
            5,
            6,
            7,
            8,
            9,
            10,
            11,
            12,
            13
           ],
           "y": [
            0,
            0,
            0,
            0,
            0,
            0,
            0,
            0,
            0,
            0,
            0,
            0,
            0,
            0
           ]
          },
          {
           "mode": "lines+markers",
           "name": "user_10",
           "type": "scatter",
           "x": [
            0,
            1,
            2,
            3,
            4,
            5,
            6,
            7,
            8,
            9,
            10,
            11,
            12,
            13
           ],
           "y": [
            0,
            0,
            0,
            0,
            0,
            0,
            0,
            0,
            0,
            0,
            0,
            0,
            0,
            0
           ]
          },
          {
           "mode": "lines+markers",
           "name": "user_11",
           "type": "scatter",
           "x": [
            0,
            1,
            2,
            3,
            4,
            5,
            6,
            7,
            8,
            9,
            10,
            11,
            12,
            13
           ],
           "y": [
            0,
            0,
            0,
            0,
            0,
            0,
            1,
            1,
            1,
            1,
            1,
            1,
            1,
            1
           ]
          },
          {
           "mode": "lines+markers",
           "name": "user_12",
           "type": "scatter",
           "x": [
            0,
            1,
            2,
            3,
            4,
            5,
            6,
            7,
            8,
            9,
            10,
            11,
            12,
            13
           ],
           "y": [
            0,
            0,
            0,
            0,
            0,
            0,
            0,
            0,
            0,
            0,
            0,
            0,
            0,
            0
           ]
          },
          {
           "mode": "lines+markers",
           "name": "user_13",
           "type": "scatter",
           "x": [
            0,
            1,
            2,
            3,
            4,
            5,
            6,
            7,
            8,
            9,
            10,
            11,
            12,
            13
           ],
           "y": [
            0,
            0,
            0,
            0,
            0,
            0,
            0,
            0,
            0,
            0,
            0,
            0,
            0,
            0
           ]
          },
          {
           "mode": "lines+markers",
           "name": "user_14",
           "type": "scatter",
           "x": [
            0,
            1,
            2,
            3,
            4,
            5,
            6,
            7,
            8,
            9,
            10,
            11,
            12,
            13
           ],
           "y": [
            0,
            0,
            0,
            0,
            0,
            0,
            0,
            0,
            1,
            1,
            1,
            1,
            18,
            25
           ]
          },
          {
           "mode": "lines+markers",
           "name": "user_15",
           "type": "scatter",
           "x": [
            0,
            1,
            2,
            3,
            4,
            5,
            6,
            7,
            8,
            9,
            10,
            11,
            12,
            13
           ],
           "y": [
            0,
            0,
            0,
            0,
            0,
            0,
            0,
            0,
            0,
            0,
            0,
            0,
            0,
            0
           ]
          },
          {
           "mode": "lines+markers",
           "name": "user_16",
           "type": "scatter",
           "x": [
            0,
            1,
            2,
            3,
            4,
            5,
            6,
            7,
            8,
            9,
            10,
            11,
            12,
            13
           ],
           "y": [
            0,
            0,
            0,
            0,
            0,
            0,
            0,
            0,
            0,
            0,
            0,
            0,
            0,
            0
           ]
          },
          {
           "mode": "lines+markers",
           "name": "user_17",
           "type": "scatter",
           "x": [
            0,
            1,
            2,
            3,
            4,
            5,
            6,
            7,
            8,
            9,
            10,
            11,
            12,
            13
           ],
           "y": [
            0,
            1,
            1,
            1,
            1,
            1,
            1,
            1,
            1,
            1,
            1,
            1,
            1,
            1
           ]
          },
          {
           "mode": "lines+markers",
           "name": "user_18",
           "type": "scatter",
           "x": [
            0,
            1,
            2,
            3,
            4,
            5,
            6,
            7,
            8,
            9,
            10,
            11,
            12,
            13
           ],
           "y": [
            0,
            0,
            0,
            0,
            0,
            0,
            0,
            0,
            0,
            0,
            0,
            0,
            0,
            0
           ]
          },
          {
           "mode": "lines+markers",
           "name": "user_19",
           "type": "scatter",
           "x": [
            0,
            1,
            2,
            3,
            4,
            5,
            6,
            7,
            8,
            9,
            10,
            11,
            12,
            13
           ],
           "y": [
            0,
            0,
            0,
            0,
            0,
            0,
            0,
            0,
            0,
            0,
            0,
            0,
            0,
            0
           ]
          },
          {
           "mode": "lines+markers",
           "name": "user_2",
           "type": "scatter",
           "x": [
            0,
            1,
            2,
            3,
            4,
            5,
            6,
            7,
            8,
            9,
            10,
            11,
            12,
            13
           ],
           "y": [
            0,
            0,
            0,
            0,
            0,
            0,
            0,
            0,
            57,
            58,
            58,
            58,
            58,
            62
           ]
          },
          {
           "mode": "lines+markers",
           "name": "user_20",
           "type": "scatter",
           "x": [
            0,
            1,
            2,
            3,
            4,
            5,
            6,
            7,
            8,
            9,
            10,
            11,
            12,
            13
           ],
           "y": [
            0,
            0,
            0,
            0,
            0,
            0,
            0,
            0,
            0,
            0,
            0,
            0,
            0,
            0
           ]
          },
          {
           "mode": "lines+markers",
           "name": "user_21",
           "type": "scatter",
           "x": [
            0,
            1,
            2,
            3,
            4,
            5,
            6,
            7,
            8,
            9,
            10,
            11,
            12,
            13
           ],
           "y": [
            0,
            0,
            0,
            0,
            0,
            0,
            0,
            0,
            0,
            0,
            0,
            0,
            0,
            7
           ]
          },
          {
           "mode": "lines+markers",
           "name": "user_22",
           "type": "scatter",
           "x": [
            0,
            1,
            2,
            3,
            4,
            5,
            6,
            7,
            8,
            9,
            10,
            11,
            12,
            13
           ],
           "y": [
            0,
            0,
            0,
            0,
            0,
            0,
            1,
            1,
            1,
            1,
            1,
            1,
            1,
            1
           ]
          },
          {
           "mode": "lines+markers",
           "name": "user_24",
           "type": "scatter",
           "x": [
            0,
            1,
            2,
            3,
            4,
            5,
            6,
            7,
            8,
            9,
            10,
            11,
            12,
            13
           ],
           "y": [
            0,
            0,
            0,
            0,
            0,
            0,
            0,
            0,
            0,
            0,
            0,
            0,
            0,
            0
           ]
          },
          {
           "mode": "lines+markers",
           "name": "user_25",
           "type": "scatter",
           "x": [
            0,
            1,
            2,
            3,
            4,
            5,
            6,
            7,
            8,
            9,
            10,
            11,
            12,
            13
           ],
           "y": [
            0,
            0,
            0,
            0,
            0,
            0,
            0,
            0,
            0,
            0,
            0,
            5,
            27,
            29
           ]
          },
          {
           "mode": "lines+markers",
           "name": "user_26",
           "type": "scatter",
           "x": [
            0,
            1,
            2,
            3,
            4,
            5,
            6,
            7,
            8,
            9,
            10,
            11,
            12,
            13
           ],
           "y": [
            0,
            0,
            0,
            0,
            0,
            0,
            0,
            0,
            0,
            0,
            0,
            0,
            0,
            35
           ]
          },
          {
           "mode": "lines+markers",
           "name": "user_27",
           "type": "scatter",
           "x": [
            0,
            1,
            2,
            3,
            4,
            5,
            6,
            7,
            8,
            9,
            10,
            11,
            12,
            13
           ],
           "y": [
            0,
            0,
            0,
            0,
            0,
            0,
            0,
            0,
            0,
            0,
            0,
            0,
            0,
            0
           ]
          },
          {
           "mode": "lines+markers",
           "name": "user_28",
           "type": "scatter",
           "x": [
            0,
            1,
            2,
            3,
            4,
            5,
            6,
            7,
            8,
            9,
            10,
            11,
            12,
            13
           ],
           "y": [
            0,
            0,
            0,
            0,
            0,
            0,
            0,
            0,
            0,
            0,
            0,
            0,
            0,
            0
           ]
          },
          {
           "mode": "lines+markers",
           "name": "user_29",
           "type": "scatter",
           "x": [
            0,
            1,
            2,
            3,
            4,
            5,
            6,
            7,
            8,
            9,
            10,
            11,
            12,
            13
           ],
           "y": [
            0,
            0,
            0,
            0,
            0,
            0,
            0,
            0,
            0,
            0,
            0,
            0,
            0,
            0
           ]
          },
          {
           "mode": "lines+markers",
           "name": "user_3",
           "type": "scatter",
           "x": [
            0,
            1,
            2,
            3,
            4,
            5,
            6,
            7,
            8,
            9,
            10,
            11,
            12,
            13
           ],
           "y": [
            0,
            0,
            0,
            0,
            0,
            0,
            0,
            0,
            0,
            0,
            1,
            28,
            29,
            31
           ]
          },
          {
           "mode": "lines+markers",
           "name": "user_30",
           "type": "scatter",
           "x": [
            0,
            1,
            2,
            3,
            4,
            5,
            6,
            7,
            8,
            9,
            10,
            11,
            12,
            13
           ],
           "y": [
            0,
            0,
            0,
            1,
            2,
            2,
            4,
            5,
            5,
            5,
            12,
            12,
            12,
            17
           ]
          },
          {
           "mode": "lines+markers",
           "name": "user_31",
           "type": "scatter",
           "x": [
            0,
            1,
            2,
            3,
            4,
            5,
            6,
            7,
            8,
            9,
            10,
            11,
            12,
            13
           ],
           "y": [
            0,
            0,
            0,
            0,
            0,
            0,
            0,
            0,
            0,
            0,
            1,
            1,
            4,
            4
           ]
          },
          {
           "mode": "lines+markers",
           "name": "user_4",
           "type": "scatter",
           "x": [
            0,
            1,
            2,
            3,
            4,
            5,
            6,
            7,
            8,
            9,
            10,
            11,
            12,
            13
           ],
           "y": [
            7,
            7,
            11,
            11,
            20,
            27,
            35,
            48,
            53,
            53,
            71,
            83,
            83,
            83
           ]
          },
          {
           "mode": "lines+markers",
           "name": "user_6",
           "type": "scatter",
           "x": [
            0,
            1,
            2,
            3,
            4,
            5,
            6,
            7,
            8,
            9,
            10,
            11,
            12,
            13
           ],
           "y": [
            0,
            0,
            0,
            0,
            0,
            0,
            0,
            0,
            0,
            0,
            0,
            0,
            0,
            0
           ]
          },
          {
           "mode": "lines+markers",
           "name": "user_8",
           "type": "scatter",
           "x": [
            0,
            1,
            2,
            3,
            4,
            5,
            6,
            7,
            8,
            9,
            10,
            11,
            12,
            13
           ],
           "y": [
            0,
            0,
            0,
            0,
            0,
            0,
            0,
            0,
            0,
            0,
            0,
            0,
            0,
            0
           ]
          }
         ],
         "layout": {
          "title": {
           "text": "Dynamic of commits per user in project1"
          }
         }
        },
        {
         "data": [
          {
           "mode": "lines+markers",
           "name": "user_1",
           "type": "scatter",
           "x": [
            0,
            1,
            2,
            3,
            4,
            5,
            6,
            7,
            8,
            9,
            10,
            11,
            12,
            13,
            14
           ],
           "y": [
            0,
            0,
            0,
            0,
            0,
            0,
            0,
            0,
            0,
            0,
            0,
            0,
            0,
            0,
            0
           ]
          },
          {
           "mode": "lines+markers",
           "name": "user_10",
           "type": "scatter",
           "x": [
            0,
            1,
            2,
            3,
            4,
            5,
            6,
            7,
            8,
            9,
            10,
            11,
            12,
            13,
            14
           ],
           "y": [
            0,
            0,
            0,
            0,
            0,
            0,
            0,
            0,
            0,
            0,
            0,
            0,
            0,
            0,
            0
           ]
          },
          {
           "mode": "lines+markers",
           "name": "user_11",
           "type": "scatter",
           "x": [
            0,
            1,
            2,
            3,
            4,
            5,
            6,
            7,
            8,
            9,
            10,
            11,
            12,
            13,
            14
           ],
           "y": [
            0,
            0,
            0,
            0,
            0,
            0,
            1,
            1,
            1,
            1,
            1,
            1,
            1,
            1,
            1
           ]
          },
          {
           "mode": "lines+markers",
           "name": "user_12",
           "type": "scatter",
           "x": [
            0,
            1,
            2,
            3,
            4,
            5,
            6,
            7,
            8,
            9,
            10,
            11,
            12,
            13,
            14
           ],
           "y": [
            0,
            0,
            0,
            0,
            0,
            0,
            0,
            0,
            0,
            0,
            0,
            0,
            0,
            0,
            0
           ]
          },
          {
           "mode": "lines+markers",
           "name": "user_13",
           "type": "scatter",
           "x": [
            0,
            1,
            2,
            3,
            4,
            5,
            6,
            7,
            8,
            9,
            10,
            11,
            12,
            13,
            14
           ],
           "y": [
            0,
            0,
            0,
            0,
            0,
            0,
            0,
            0,
            0,
            0,
            0,
            0,
            0,
            0,
            2
           ]
          },
          {
           "mode": "lines+markers",
           "name": "user_14",
           "type": "scatter",
           "x": [
            0,
            1,
            2,
            3,
            4,
            5,
            6,
            7,
            8,
            9,
            10,
            11,
            12,
            13,
            14
           ],
           "y": [
            0,
            0,
            0,
            0,
            0,
            0,
            0,
            0,
            1,
            1,
            1,
            1,
            18,
            25,
            49
           ]
          },
          {
           "mode": "lines+markers",
           "name": "user_15",
           "type": "scatter",
           "x": [
            0,
            1,
            2,
            3,
            4,
            5,
            6,
            7,
            8,
            9,
            10,
            11,
            12,
            13,
            14
           ],
           "y": [
            0,
            0,
            0,
            0,
            0,
            0,
            0,
            0,
            0,
            0,
            0,
            0,
            0,
            0,
            0
           ]
          },
          {
           "mode": "lines+markers",
           "name": "user_16",
           "type": "scatter",
           "x": [
            0,
            1,
            2,
            3,
            4,
            5,
            6,
            7,
            8,
            9,
            10,
            11,
            12,
            13,
            14
           ],
           "y": [
            0,
            0,
            0,
            0,
            0,
            0,
            0,
            0,
            0,
            0,
            0,
            0,
            0,
            0,
            0
           ]
          },
          {
           "mode": "lines+markers",
           "name": "user_17",
           "type": "scatter",
           "x": [
            0,
            1,
            2,
            3,
            4,
            5,
            6,
            7,
            8,
            9,
            10,
            11,
            12,
            13,
            14
           ],
           "y": [
            0,
            1,
            1,
            1,
            1,
            1,
            1,
            1,
            1,
            1,
            1,
            1,
            1,
            1,
            1
           ]
          },
          {
           "mode": "lines+markers",
           "name": "user_18",
           "type": "scatter",
           "x": [
            0,
            1,
            2,
            3,
            4,
            5,
            6,
            7,
            8,
            9,
            10,
            11,
            12,
            13,
            14
           ],
           "y": [
            0,
            0,
            0,
            0,
            0,
            0,
            0,
            0,
            0,
            0,
            0,
            0,
            0,
            0,
            7
           ]
          },
          {
           "mode": "lines+markers",
           "name": "user_19",
           "type": "scatter",
           "x": [
            0,
            1,
            2,
            3,
            4,
            5,
            6,
            7,
            8,
            9,
            10,
            11,
            12,
            13,
            14
           ],
           "y": [
            0,
            0,
            0,
            0,
            0,
            0,
            0,
            0,
            0,
            0,
            0,
            0,
            0,
            0,
            0
           ]
          },
          {
           "mode": "lines+markers",
           "name": "user_2",
           "type": "scatter",
           "x": [
            0,
            1,
            2,
            3,
            4,
            5,
            6,
            7,
            8,
            9,
            10,
            11,
            12,
            13,
            14
           ],
           "y": [
            0,
            0,
            0,
            0,
            0,
            0,
            0,
            0,
            57,
            58,
            58,
            58,
            58,
            62,
            74
           ]
          },
          {
           "mode": "lines+markers",
           "name": "user_20",
           "type": "scatter",
           "x": [
            0,
            1,
            2,
            3,
            4,
            5,
            6,
            7,
            8,
            9,
            10,
            11,
            12,
            13,
            14
           ],
           "y": [
            0,
            0,
            0,
            0,
            0,
            0,
            0,
            0,
            0,
            0,
            0,
            0,
            0,
            0,
            11
           ]
          },
          {
           "mode": "lines+markers",
           "name": "user_21",
           "type": "scatter",
           "x": [
            0,
            1,
            2,
            3,
            4,
            5,
            6,
            7,
            8,
            9,
            10,
            11,
            12,
            13,
            14
           ],
           "y": [
            0,
            0,
            0,
            0,
            0,
            0,
            0,
            0,
            0,
            0,
            0,
            0,
            0,
            7,
            7
           ]
          },
          {
           "mode": "lines+markers",
           "name": "user_22",
           "type": "scatter",
           "x": [
            0,
            1,
            2,
            3,
            4,
            5,
            6,
            7,
            8,
            9,
            10,
            11,
            12,
            13,
            14
           ],
           "y": [
            0,
            0,
            0,
            0,
            0,
            0,
            1,
            1,
            1,
            1,
            1,
            1,
            1,
            1,
            1
           ]
          },
          {
           "mode": "lines+markers",
           "name": "user_24",
           "type": "scatter",
           "x": [
            0,
            1,
            2,
            3,
            4,
            5,
            6,
            7,
            8,
            9,
            10,
            11,
            12,
            13,
            14
           ],
           "y": [
            0,
            0,
            0,
            0,
            0,
            0,
            0,
            0,
            0,
            0,
            0,
            0,
            0,
            0,
            0
           ]
          },
          {
           "mode": "lines+markers",
           "name": "user_25",
           "type": "scatter",
           "x": [
            0,
            1,
            2,
            3,
            4,
            5,
            6,
            7,
            8,
            9,
            10,
            11,
            12,
            13,
            14
           ],
           "y": [
            0,
            0,
            0,
            0,
            0,
            0,
            0,
            0,
            0,
            0,
            0,
            5,
            27,
            29,
            33
           ]
          },
          {
           "mode": "lines+markers",
           "name": "user_26",
           "type": "scatter",
           "x": [
            0,
            1,
            2,
            3,
            4,
            5,
            6,
            7,
            8,
            9,
            10,
            11,
            12,
            13,
            14
           ],
           "y": [
            0,
            0,
            0,
            0,
            0,
            0,
            0,
            0,
            0,
            0,
            0,
            0,
            0,
            35,
            35
           ]
          },
          {
           "mode": "lines+markers",
           "name": "user_27",
           "type": "scatter",
           "x": [
            0,
            1,
            2,
            3,
            4,
            5,
            6,
            7,
            8,
            9,
            10,
            11,
            12,
            13,
            14
           ],
           "y": [
            0,
            0,
            0,
            0,
            0,
            0,
            0,
            0,
            0,
            0,
            0,
            0,
            0,
            0,
            0
           ]
          },
          {
           "mode": "lines+markers",
           "name": "user_28",
           "type": "scatter",
           "x": [
            0,
            1,
            2,
            3,
            4,
            5,
            6,
            7,
            8,
            9,
            10,
            11,
            12,
            13,
            14
           ],
           "y": [
            0,
            0,
            0,
            0,
            0,
            0,
            0,
            0,
            0,
            0,
            0,
            0,
            0,
            0,
            0
           ]
          },
          {
           "mode": "lines+markers",
           "name": "user_29",
           "type": "scatter",
           "x": [
            0,
            1,
            2,
            3,
            4,
            5,
            6,
            7,
            8,
            9,
            10,
            11,
            12,
            13,
            14
           ],
           "y": [
            0,
            0,
            0,
            0,
            0,
            0,
            0,
            0,
            0,
            0,
            0,
            0,
            0,
            0,
            5
           ]
          },
          {
           "mode": "lines+markers",
           "name": "user_3",
           "type": "scatter",
           "x": [
            0,
            1,
            2,
            3,
            4,
            5,
            6,
            7,
            8,
            9,
            10,
            11,
            12,
            13,
            14
           ],
           "y": [
            0,
            0,
            0,
            0,
            0,
            0,
            0,
            0,
            0,
            0,
            1,
            28,
            29,
            31,
            54
           ]
          },
          {
           "mode": "lines+markers",
           "name": "user_30",
           "type": "scatter",
           "x": [
            0,
            1,
            2,
            3,
            4,
            5,
            6,
            7,
            8,
            9,
            10,
            11,
            12,
            13,
            14
           ],
           "y": [
            0,
            0,
            0,
            1,
            2,
            2,
            4,
            5,
            5,
            5,
            12,
            12,
            12,
            17,
            17
           ]
          },
          {
           "mode": "lines+markers",
           "name": "user_31",
           "type": "scatter",
           "x": [
            0,
            1,
            2,
            3,
            4,
            5,
            6,
            7,
            8,
            9,
            10,
            11,
            12,
            13,
            14
           ],
           "y": [
            0,
            0,
            0,
            0,
            0,
            0,
            0,
            0,
            0,
            0,
            1,
            1,
            4,
            4,
            6
           ]
          },
          {
           "mode": "lines+markers",
           "name": "user_4",
           "type": "scatter",
           "x": [
            0,
            1,
            2,
            3,
            4,
            5,
            6,
            7,
            8,
            9,
            10,
            11,
            12,
            13,
            14
           ],
           "y": [
            7,
            7,
            11,
            11,
            20,
            27,
            35,
            48,
            53,
            53,
            71,
            83,
            83,
            83,
            87
           ]
          },
          {
           "mode": "lines+markers",
           "name": "user_6",
           "type": "scatter",
           "x": [
            0,
            1,
            2,
            3,
            4,
            5,
            6,
            7,
            8,
            9,
            10,
            11,
            12,
            13,
            14
           ],
           "y": [
            0,
            0,
            0,
            0,
            0,
            0,
            0,
            0,
            0,
            0,
            0,
            0,
            0,
            0,
            0
           ]
          },
          {
           "mode": "lines+markers",
           "name": "user_8",
           "type": "scatter",
           "x": [
            0,
            1,
            2,
            3,
            4,
            5,
            6,
            7,
            8,
            9,
            10,
            11,
            12,
            13,
            14
           ],
           "y": [
            0,
            0,
            0,
            0,
            0,
            0,
            0,
            0,
            0,
            0,
            0,
            0,
            0,
            0,
            0
           ]
          }
         ],
         "layout": {
          "title": {
           "text": "Dynamic of commits per user in project1"
          }
         }
        },
        {
         "data": [
          {
           "mode": "lines+markers",
           "name": "user_1",
           "type": "scatter",
           "x": [
            0,
            1,
            2,
            3,
            4,
            5,
            6,
            7,
            8,
            9,
            10,
            11,
            12,
            13,
            14,
            15
           ],
           "y": [
            0,
            0,
            0,
            0,
            0,
            0,
            0,
            0,
            0,
            0,
            0,
            0,
            0,
            0,
            0,
            0
           ]
          },
          {
           "mode": "lines+markers",
           "name": "user_10",
           "type": "scatter",
           "x": [
            0,
            1,
            2,
            3,
            4,
            5,
            6,
            7,
            8,
            9,
            10,
            11,
            12,
            13,
            14,
            15
           ],
           "y": [
            0,
            0,
            0,
            0,
            0,
            0,
            0,
            0,
            0,
            0,
            0,
            0,
            0,
            0,
            0,
            7
           ]
          },
          {
           "mode": "lines+markers",
           "name": "user_11",
           "type": "scatter",
           "x": [
            0,
            1,
            2,
            3,
            4,
            5,
            6,
            7,
            8,
            9,
            10,
            11,
            12,
            13,
            14,
            15
           ],
           "y": [
            0,
            0,
            0,
            0,
            0,
            0,
            1,
            1,
            1,
            1,
            1,
            1,
            1,
            1,
            1,
            1
           ]
          },
          {
           "mode": "lines+markers",
           "name": "user_12",
           "type": "scatter",
           "x": [
            0,
            1,
            2,
            3,
            4,
            5,
            6,
            7,
            8,
            9,
            10,
            11,
            12,
            13,
            14,
            15
           ],
           "y": [
            0,
            0,
            0,
            0,
            0,
            0,
            0,
            0,
            0,
            0,
            0,
            0,
            0,
            0,
            0,
            0
           ]
          },
          {
           "mode": "lines+markers",
           "name": "user_13",
           "type": "scatter",
           "x": [
            0,
            1,
            2,
            3,
            4,
            5,
            6,
            7,
            8,
            9,
            10,
            11,
            12,
            13,
            14,
            15
           ],
           "y": [
            0,
            0,
            0,
            0,
            0,
            0,
            0,
            0,
            0,
            0,
            0,
            0,
            0,
            0,
            2,
            30
           ]
          },
          {
           "mode": "lines+markers",
           "name": "user_14",
           "type": "scatter",
           "x": [
            0,
            1,
            2,
            3,
            4,
            5,
            6,
            7,
            8,
            9,
            10,
            11,
            12,
            13,
            14,
            15
           ],
           "y": [
            0,
            0,
            0,
            0,
            0,
            0,
            0,
            0,
            1,
            1,
            1,
            1,
            18,
            25,
            49,
            92
           ]
          },
          {
           "mode": "lines+markers",
           "name": "user_15",
           "type": "scatter",
           "x": [
            0,
            1,
            2,
            3,
            4,
            5,
            6,
            7,
            8,
            9,
            10,
            11,
            12,
            13,
            14,
            15
           ],
           "y": [
            0,
            0,
            0,
            0,
            0,
            0,
            0,
            0,
            0,
            0,
            0,
            0,
            0,
            0,
            0,
            0
           ]
          },
          {
           "mode": "lines+markers",
           "name": "user_16",
           "type": "scatter",
           "x": [
            0,
            1,
            2,
            3,
            4,
            5,
            6,
            7,
            8,
            9,
            10,
            11,
            12,
            13,
            14,
            15
           ],
           "y": [
            0,
            0,
            0,
            0,
            0,
            0,
            0,
            0,
            0,
            0,
            0,
            0,
            0,
            0,
            0,
            3
           ]
          },
          {
           "mode": "lines+markers",
           "name": "user_17",
           "type": "scatter",
           "x": [
            0,
            1,
            2,
            3,
            4,
            5,
            6,
            7,
            8,
            9,
            10,
            11,
            12,
            13,
            14,
            15
           ],
           "y": [
            0,
            1,
            1,
            1,
            1,
            1,
            1,
            1,
            1,
            1,
            1,
            1,
            1,
            1,
            1,
            3
           ]
          },
          {
           "mode": "lines+markers",
           "name": "user_18",
           "type": "scatter",
           "x": [
            0,
            1,
            2,
            3,
            4,
            5,
            6,
            7,
            8,
            9,
            10,
            11,
            12,
            13,
            14,
            15
           ],
           "y": [
            0,
            0,
            0,
            0,
            0,
            0,
            0,
            0,
            0,
            0,
            0,
            0,
            0,
            0,
            7,
            7
           ]
          },
          {
           "mode": "lines+markers",
           "name": "user_19",
           "type": "scatter",
           "x": [
            0,
            1,
            2,
            3,
            4,
            5,
            6,
            7,
            8,
            9,
            10,
            11,
            12,
            13,
            14,
            15
           ],
           "y": [
            0,
            0,
            0,
            0,
            0,
            0,
            0,
            0,
            0,
            0,
            0,
            0,
            0,
            0,
            0,
            0
           ]
          },
          {
           "mode": "lines+markers",
           "name": "user_2",
           "type": "scatter",
           "x": [
            0,
            1,
            2,
            3,
            4,
            5,
            6,
            7,
            8,
            9,
            10,
            11,
            12,
            13,
            14,
            15
           ],
           "y": [
            0,
            0,
            0,
            0,
            0,
            0,
            0,
            0,
            57,
            58,
            58,
            58,
            58,
            62,
            74,
            78
           ]
          },
          {
           "mode": "lines+markers",
           "name": "user_20",
           "type": "scatter",
           "x": [
            0,
            1,
            2,
            3,
            4,
            5,
            6,
            7,
            8,
            9,
            10,
            11,
            12,
            13,
            14,
            15
           ],
           "y": [
            0,
            0,
            0,
            0,
            0,
            0,
            0,
            0,
            0,
            0,
            0,
            0,
            0,
            0,
            11,
            11
           ]
          },
          {
           "mode": "lines+markers",
           "name": "user_21",
           "type": "scatter",
           "x": [
            0,
            1,
            2,
            3,
            4,
            5,
            6,
            7,
            8,
            9,
            10,
            11,
            12,
            13,
            14,
            15
           ],
           "y": [
            0,
            0,
            0,
            0,
            0,
            0,
            0,
            0,
            0,
            0,
            0,
            0,
            0,
            7,
            7,
            7
           ]
          },
          {
           "mode": "lines+markers",
           "name": "user_22",
           "type": "scatter",
           "x": [
            0,
            1,
            2,
            3,
            4,
            5,
            6,
            7,
            8,
            9,
            10,
            11,
            12,
            13,
            14,
            15
           ],
           "y": [
            0,
            0,
            0,
            0,
            0,
            0,
            1,
            1,
            1,
            1,
            1,
            1,
            1,
            1,
            1,
            1
           ]
          },
          {
           "mode": "lines+markers",
           "name": "user_24",
           "type": "scatter",
           "x": [
            0,
            1,
            2,
            3,
            4,
            5,
            6,
            7,
            8,
            9,
            10,
            11,
            12,
            13,
            14,
            15
           ],
           "y": [
            0,
            0,
            0,
            0,
            0,
            0,
            0,
            0,
            0,
            0,
            0,
            0,
            0,
            0,
            0,
            0
           ]
          },
          {
           "mode": "lines+markers",
           "name": "user_25",
           "type": "scatter",
           "x": [
            0,
            1,
            2,
            3,
            4,
            5,
            6,
            7,
            8,
            9,
            10,
            11,
            12,
            13,
            14,
            15
           ],
           "y": [
            0,
            0,
            0,
            0,
            0,
            0,
            0,
            0,
            0,
            0,
            0,
            5,
            27,
            29,
            33,
            54
           ]
          },
          {
           "mode": "lines+markers",
           "name": "user_26",
           "type": "scatter",
           "x": [
            0,
            1,
            2,
            3,
            4,
            5,
            6,
            7,
            8,
            9,
            10,
            11,
            12,
            13,
            14,
            15
           ],
           "y": [
            0,
            0,
            0,
            0,
            0,
            0,
            0,
            0,
            0,
            0,
            0,
            0,
            0,
            35,
            35,
            35
           ]
          },
          {
           "mode": "lines+markers",
           "name": "user_27",
           "type": "scatter",
           "x": [
            0,
            1,
            2,
            3,
            4,
            5,
            6,
            7,
            8,
            9,
            10,
            11,
            12,
            13,
            14,
            15
           ],
           "y": [
            0,
            0,
            0,
            0,
            0,
            0,
            0,
            0,
            0,
            0,
            0,
            0,
            0,
            0,
            0,
            0
           ]
          },
          {
           "mode": "lines+markers",
           "name": "user_28",
           "type": "scatter",
           "x": [
            0,
            1,
            2,
            3,
            4,
            5,
            6,
            7,
            8,
            9,
            10,
            11,
            12,
            13,
            14,
            15
           ],
           "y": [
            0,
            0,
            0,
            0,
            0,
            0,
            0,
            0,
            0,
            0,
            0,
            0,
            0,
            0,
            0,
            2
           ]
          },
          {
           "mode": "lines+markers",
           "name": "user_29",
           "type": "scatter",
           "x": [
            0,
            1,
            2,
            3,
            4,
            5,
            6,
            7,
            8,
            9,
            10,
            11,
            12,
            13,
            14,
            15
           ],
           "y": [
            0,
            0,
            0,
            0,
            0,
            0,
            0,
            0,
            0,
            0,
            0,
            0,
            0,
            0,
            5,
            18
           ]
          },
          {
           "mode": "lines+markers",
           "name": "user_3",
           "type": "scatter",
           "x": [
            0,
            1,
            2,
            3,
            4,
            5,
            6,
            7,
            8,
            9,
            10,
            11,
            12,
            13,
            14,
            15
           ],
           "y": [
            0,
            0,
            0,
            0,
            0,
            0,
            0,
            0,
            0,
            0,
            1,
            28,
            29,
            31,
            54,
            56
           ]
          },
          {
           "mode": "lines+markers",
           "name": "user_30",
           "type": "scatter",
           "x": [
            0,
            1,
            2,
            3,
            4,
            5,
            6,
            7,
            8,
            9,
            10,
            11,
            12,
            13,
            14,
            15
           ],
           "y": [
            0,
            0,
            0,
            1,
            2,
            2,
            4,
            5,
            5,
            5,
            12,
            12,
            12,
            17,
            17,
            17
           ]
          },
          {
           "mode": "lines+markers",
           "name": "user_31",
           "type": "scatter",
           "x": [
            0,
            1,
            2,
            3,
            4,
            5,
            6,
            7,
            8,
            9,
            10,
            11,
            12,
            13,
            14,
            15
           ],
           "y": [
            0,
            0,
            0,
            0,
            0,
            0,
            0,
            0,
            0,
            0,
            1,
            1,
            4,
            4,
            6,
            6
           ]
          },
          {
           "mode": "lines+markers",
           "name": "user_4",
           "type": "scatter",
           "x": [
            0,
            1,
            2,
            3,
            4,
            5,
            6,
            7,
            8,
            9,
            10,
            11,
            12,
            13,
            14,
            15
           ],
           "y": [
            7,
            7,
            11,
            11,
            20,
            27,
            35,
            48,
            53,
            53,
            71,
            83,
            83,
            83,
            87,
            125
           ]
          },
          {
           "mode": "lines+markers",
           "name": "user_6",
           "type": "scatter",
           "x": [
            0,
            1,
            2,
            3,
            4,
            5,
            6,
            7,
            8,
            9,
            10,
            11,
            12,
            13,
            14,
            15
           ],
           "y": [
            0,
            0,
            0,
            0,
            0,
            0,
            0,
            0,
            0,
            0,
            0,
            0,
            0,
            0,
            0,
            0
           ]
          },
          {
           "mode": "lines+markers",
           "name": "user_8",
           "type": "scatter",
           "x": [
            0,
            1,
            2,
            3,
            4,
            5,
            6,
            7,
            8,
            9,
            10,
            11,
            12,
            13,
            14,
            15
           ],
           "y": [
            0,
            0,
            0,
            0,
            0,
            0,
            0,
            0,
            0,
            0,
            0,
            0,
            0,
            0,
            0,
            0
           ]
          }
         ],
         "layout": {
          "title": {
           "text": "Dynamic of commits per user in project1"
          }
         }
        },
        {
         "data": [
          {
           "mode": "lines+markers",
           "name": "user_1",
           "type": "scatter",
           "x": [
            0,
            1,
            2,
            3,
            4,
            5,
            6,
            7,
            8,
            9,
            10,
            11,
            12,
            13,
            14,
            15,
            16
           ],
           "y": [
            0,
            0,
            0,
            0,
            0,
            0,
            0,
            0,
            0,
            0,
            0,
            0,
            0,
            0,
            0,
            0,
            0
           ]
          },
          {
           "mode": "lines+markers",
           "name": "user_10",
           "type": "scatter",
           "x": [
            0,
            1,
            2,
            3,
            4,
            5,
            6,
            7,
            8,
            9,
            10,
            11,
            12,
            13,
            14,
            15,
            16
           ],
           "y": [
            0,
            0,
            0,
            0,
            0,
            0,
            0,
            0,
            0,
            0,
            0,
            0,
            0,
            0,
            0,
            7,
            21
           ]
          },
          {
           "mode": "lines+markers",
           "name": "user_11",
           "type": "scatter",
           "x": [
            0,
            1,
            2,
            3,
            4,
            5,
            6,
            7,
            8,
            9,
            10,
            11,
            12,
            13,
            14,
            15,
            16
           ],
           "y": [
            0,
            0,
            0,
            0,
            0,
            0,
            1,
            1,
            1,
            1,
            1,
            1,
            1,
            1,
            1,
            1,
            1
           ]
          },
          {
           "mode": "lines+markers",
           "name": "user_12",
           "type": "scatter",
           "x": [
            0,
            1,
            2,
            3,
            4,
            5,
            6,
            7,
            8,
            9,
            10,
            11,
            12,
            13,
            14,
            15,
            16
           ],
           "y": [
            0,
            0,
            0,
            0,
            0,
            0,
            0,
            0,
            0,
            0,
            0,
            0,
            0,
            0,
            0,
            0,
            0
           ]
          },
          {
           "mode": "lines+markers",
           "name": "user_13",
           "type": "scatter",
           "x": [
            0,
            1,
            2,
            3,
            4,
            5,
            6,
            7,
            8,
            9,
            10,
            11,
            12,
            13,
            14,
            15,
            16
           ],
           "y": [
            0,
            0,
            0,
            0,
            0,
            0,
            0,
            0,
            0,
            0,
            0,
            0,
            0,
            0,
            2,
            30,
            30
           ]
          },
          {
           "mode": "lines+markers",
           "name": "user_14",
           "type": "scatter",
           "x": [
            0,
            1,
            2,
            3,
            4,
            5,
            6,
            7,
            8,
            9,
            10,
            11,
            12,
            13,
            14,
            15,
            16
           ],
           "y": [
            0,
            0,
            0,
            0,
            0,
            0,
            0,
            0,
            1,
            1,
            1,
            1,
            18,
            25,
            49,
            92,
            92
           ]
          },
          {
           "mode": "lines+markers",
           "name": "user_15",
           "type": "scatter",
           "x": [
            0,
            1,
            2,
            3,
            4,
            5,
            6,
            7,
            8,
            9,
            10,
            11,
            12,
            13,
            14,
            15,
            16
           ],
           "y": [
            0,
            0,
            0,
            0,
            0,
            0,
            0,
            0,
            0,
            0,
            0,
            0,
            0,
            0,
            0,
            0,
            0
           ]
          },
          {
           "mode": "lines+markers",
           "name": "user_16",
           "type": "scatter",
           "x": [
            0,
            1,
            2,
            3,
            4,
            5,
            6,
            7,
            8,
            9,
            10,
            11,
            12,
            13,
            14,
            15,
            16
           ],
           "y": [
            0,
            0,
            0,
            0,
            0,
            0,
            0,
            0,
            0,
            0,
            0,
            0,
            0,
            0,
            0,
            3,
            3
           ]
          },
          {
           "mode": "lines+markers",
           "name": "user_17",
           "type": "scatter",
           "x": [
            0,
            1,
            2,
            3,
            4,
            5,
            6,
            7,
            8,
            9,
            10,
            11,
            12,
            13,
            14,
            15,
            16
           ],
           "y": [
            0,
            1,
            1,
            1,
            1,
            1,
            1,
            1,
            1,
            1,
            1,
            1,
            1,
            1,
            1,
            3,
            3
           ]
          },
          {
           "mode": "lines+markers",
           "name": "user_18",
           "type": "scatter",
           "x": [
            0,
            1,
            2,
            3,
            4,
            5,
            6,
            7,
            8,
            9,
            10,
            11,
            12,
            13,
            14,
            15,
            16
           ],
           "y": [
            0,
            0,
            0,
            0,
            0,
            0,
            0,
            0,
            0,
            0,
            0,
            0,
            0,
            0,
            7,
            7,
            8
           ]
          },
          {
           "mode": "lines+markers",
           "name": "user_19",
           "type": "scatter",
           "x": [
            0,
            1,
            2,
            3,
            4,
            5,
            6,
            7,
            8,
            9,
            10,
            11,
            12,
            13,
            14,
            15,
            16
           ],
           "y": [
            0,
            0,
            0,
            0,
            0,
            0,
            0,
            0,
            0,
            0,
            0,
            0,
            0,
            0,
            0,
            0,
            0
           ]
          },
          {
           "mode": "lines+markers",
           "name": "user_2",
           "type": "scatter",
           "x": [
            0,
            1,
            2,
            3,
            4,
            5,
            6,
            7,
            8,
            9,
            10,
            11,
            12,
            13,
            14,
            15,
            16
           ],
           "y": [
            0,
            0,
            0,
            0,
            0,
            0,
            0,
            0,
            57,
            58,
            58,
            58,
            58,
            62,
            74,
            78,
            93
           ]
          },
          {
           "mode": "lines+markers",
           "name": "user_20",
           "type": "scatter",
           "x": [
            0,
            1,
            2,
            3,
            4,
            5,
            6,
            7,
            8,
            9,
            10,
            11,
            12,
            13,
            14,
            15,
            16
           ],
           "y": [
            0,
            0,
            0,
            0,
            0,
            0,
            0,
            0,
            0,
            0,
            0,
            0,
            0,
            0,
            11,
            11,
            11
           ]
          },
          {
           "mode": "lines+markers",
           "name": "user_21",
           "type": "scatter",
           "x": [
            0,
            1,
            2,
            3,
            4,
            5,
            6,
            7,
            8,
            9,
            10,
            11,
            12,
            13,
            14,
            15,
            16
           ],
           "y": [
            0,
            0,
            0,
            0,
            0,
            0,
            0,
            0,
            0,
            0,
            0,
            0,
            0,
            7,
            7,
            7,
            7
           ]
          },
          {
           "mode": "lines+markers",
           "name": "user_22",
           "type": "scatter",
           "x": [
            0,
            1,
            2,
            3,
            4,
            5,
            6,
            7,
            8,
            9,
            10,
            11,
            12,
            13,
            14,
            15,
            16
           ],
           "y": [
            0,
            0,
            0,
            0,
            0,
            0,
            1,
            1,
            1,
            1,
            1,
            1,
            1,
            1,
            1,
            1,
            1
           ]
          },
          {
           "mode": "lines+markers",
           "name": "user_24",
           "type": "scatter",
           "x": [
            0,
            1,
            2,
            3,
            4,
            5,
            6,
            7,
            8,
            9,
            10,
            11,
            12,
            13,
            14,
            15,
            16
           ],
           "y": [
            0,
            0,
            0,
            0,
            0,
            0,
            0,
            0,
            0,
            0,
            0,
            0,
            0,
            0,
            0,
            0,
            9
           ]
          },
          {
           "mode": "lines+markers",
           "name": "user_25",
           "type": "scatter",
           "x": [
            0,
            1,
            2,
            3,
            4,
            5,
            6,
            7,
            8,
            9,
            10,
            11,
            12,
            13,
            14,
            15,
            16
           ],
           "y": [
            0,
            0,
            0,
            0,
            0,
            0,
            0,
            0,
            0,
            0,
            0,
            5,
            27,
            29,
            33,
            54,
            57
           ]
          },
          {
           "mode": "lines+markers",
           "name": "user_26",
           "type": "scatter",
           "x": [
            0,
            1,
            2,
            3,
            4,
            5,
            6,
            7,
            8,
            9,
            10,
            11,
            12,
            13,
            14,
            15,
            16
           ],
           "y": [
            0,
            0,
            0,
            0,
            0,
            0,
            0,
            0,
            0,
            0,
            0,
            0,
            0,
            35,
            35,
            35,
            52
           ]
          },
          {
           "mode": "lines+markers",
           "name": "user_27",
           "type": "scatter",
           "x": [
            0,
            1,
            2,
            3,
            4,
            5,
            6,
            7,
            8,
            9,
            10,
            11,
            12,
            13,
            14,
            15,
            16
           ],
           "y": [
            0,
            0,
            0,
            0,
            0,
            0,
            0,
            0,
            0,
            0,
            0,
            0,
            0,
            0,
            0,
            0,
            0
           ]
          },
          {
           "mode": "lines+markers",
           "name": "user_28",
           "type": "scatter",
           "x": [
            0,
            1,
            2,
            3,
            4,
            5,
            6,
            7,
            8,
            9,
            10,
            11,
            12,
            13,
            14,
            15,
            16
           ],
           "y": [
            0,
            0,
            0,
            0,
            0,
            0,
            0,
            0,
            0,
            0,
            0,
            0,
            0,
            0,
            0,
            2,
            20
           ]
          },
          {
           "mode": "lines+markers",
           "name": "user_29",
           "type": "scatter",
           "x": [
            0,
            1,
            2,
            3,
            4,
            5,
            6,
            7,
            8,
            9,
            10,
            11,
            12,
            13,
            14,
            15,
            16
           ],
           "y": [
            0,
            0,
            0,
            0,
            0,
            0,
            0,
            0,
            0,
            0,
            0,
            0,
            0,
            0,
            5,
            18,
            34
           ]
          },
          {
           "mode": "lines+markers",
           "name": "user_3",
           "type": "scatter",
           "x": [
            0,
            1,
            2,
            3,
            4,
            5,
            6,
            7,
            8,
            9,
            10,
            11,
            12,
            13,
            14,
            15,
            16
           ],
           "y": [
            0,
            0,
            0,
            0,
            0,
            0,
            0,
            0,
            0,
            0,
            1,
            28,
            29,
            31,
            54,
            56,
            56
           ]
          },
          {
           "mode": "lines+markers",
           "name": "user_30",
           "type": "scatter",
           "x": [
            0,
            1,
            2,
            3,
            4,
            5,
            6,
            7,
            8,
            9,
            10,
            11,
            12,
            13,
            14,
            15,
            16
           ],
           "y": [
            0,
            0,
            0,
            1,
            2,
            2,
            4,
            5,
            5,
            5,
            12,
            12,
            12,
            17,
            17,
            17,
            17
           ]
          },
          {
           "mode": "lines+markers",
           "name": "user_31",
           "type": "scatter",
           "x": [
            0,
            1,
            2,
            3,
            4,
            5,
            6,
            7,
            8,
            9,
            10,
            11,
            12,
            13,
            14,
            15,
            16
           ],
           "y": [
            0,
            0,
            0,
            0,
            0,
            0,
            0,
            0,
            0,
            0,
            1,
            1,
            4,
            4,
            6,
            6,
            6
           ]
          },
          {
           "mode": "lines+markers",
           "name": "user_4",
           "type": "scatter",
           "x": [
            0,
            1,
            2,
            3,
            4,
            5,
            6,
            7,
            8,
            9,
            10,
            11,
            12,
            13,
            14,
            15,
            16
           ],
           "y": [
            7,
            7,
            11,
            11,
            20,
            27,
            35,
            48,
            53,
            53,
            71,
            83,
            83,
            83,
            87,
            125,
            137
           ]
          },
          {
           "mode": "lines+markers",
           "name": "user_6",
           "type": "scatter",
           "x": [
            0,
            1,
            2,
            3,
            4,
            5,
            6,
            7,
            8,
            9,
            10,
            11,
            12,
            13,
            14,
            15,
            16
           ],
           "y": [
            0,
            0,
            0,
            0,
            0,
            0,
            0,
            0,
            0,
            0,
            0,
            0,
            0,
            0,
            0,
            0,
            1
           ]
          },
          {
           "mode": "lines+markers",
           "name": "user_8",
           "type": "scatter",
           "x": [
            0,
            1,
            2,
            3,
            4,
            5,
            6,
            7,
            8,
            9,
            10,
            11,
            12,
            13,
            14,
            15,
            16
           ],
           "y": [
            0,
            0,
            0,
            0,
            0,
            0,
            0,
            0,
            0,
            0,
            0,
            0,
            0,
            0,
            0,
            0,
            0
           ]
          }
         ],
         "layout": {
          "title": {
           "text": "Dynamic of commits per user in project1"
          }
         }
        },
        {
         "data": [
          {
           "mode": "lines+markers",
           "name": "user_1",
           "type": "scatter",
           "x": [
            0,
            1,
            2,
            3,
            4,
            5,
            6,
            7,
            8,
            9,
            10,
            11,
            12,
            13,
            14,
            15,
            16,
            17
           ],
           "y": [
            0,
            0,
            0,
            0,
            0,
            0,
            0,
            0,
            0,
            0,
            0,
            0,
            0,
            0,
            0,
            0,
            0,
            11
           ]
          },
          {
           "mode": "lines+markers",
           "name": "user_10",
           "type": "scatter",
           "x": [
            0,
            1,
            2,
            3,
            4,
            5,
            6,
            7,
            8,
            9,
            10,
            11,
            12,
            13,
            14,
            15,
            16,
            17
           ],
           "y": [
            0,
            0,
            0,
            0,
            0,
            0,
            0,
            0,
            0,
            0,
            0,
            0,
            0,
            0,
            0,
            7,
            21,
            59
           ]
          },
          {
           "mode": "lines+markers",
           "name": "user_11",
           "type": "scatter",
           "x": [
            0,
            1,
            2,
            3,
            4,
            5,
            6,
            7,
            8,
            9,
            10,
            11,
            12,
            13,
            14,
            15,
            16,
            17
           ],
           "y": [
            0,
            0,
            0,
            0,
            0,
            0,
            1,
            1,
            1,
            1,
            1,
            1,
            1,
            1,
            1,
            1,
            1,
            1
           ]
          },
          {
           "mode": "lines+markers",
           "name": "user_12",
           "type": "scatter",
           "x": [
            0,
            1,
            2,
            3,
            4,
            5,
            6,
            7,
            8,
            9,
            10,
            11,
            12,
            13,
            14,
            15,
            16,
            17
           ],
           "y": [
            0,
            0,
            0,
            0,
            0,
            0,
            0,
            0,
            0,
            0,
            0,
            0,
            0,
            0,
            0,
            0,
            0,
            4
           ]
          },
          {
           "mode": "lines+markers",
           "name": "user_13",
           "type": "scatter",
           "x": [
            0,
            1,
            2,
            3,
            4,
            5,
            6,
            7,
            8,
            9,
            10,
            11,
            12,
            13,
            14,
            15,
            16,
            17
           ],
           "y": [
            0,
            0,
            0,
            0,
            0,
            0,
            0,
            0,
            0,
            0,
            0,
            0,
            0,
            0,
            2,
            30,
            30,
            32
           ]
          },
          {
           "mode": "lines+markers",
           "name": "user_14",
           "type": "scatter",
           "x": [
            0,
            1,
            2,
            3,
            4,
            5,
            6,
            7,
            8,
            9,
            10,
            11,
            12,
            13,
            14,
            15,
            16,
            17
           ],
           "y": [
            0,
            0,
            0,
            0,
            0,
            0,
            0,
            0,
            1,
            1,
            1,
            1,
            18,
            25,
            49,
            92,
            92,
            99
           ]
          },
          {
           "mode": "lines+markers",
           "name": "user_15",
           "type": "scatter",
           "x": [
            0,
            1,
            2,
            3,
            4,
            5,
            6,
            7,
            8,
            9,
            10,
            11,
            12,
            13,
            14,
            15,
            16,
            17
           ],
           "y": [
            0,
            0,
            0,
            0,
            0,
            0,
            0,
            0,
            0,
            0,
            0,
            0,
            0,
            0,
            0,
            0,
            0,
            3
           ]
          },
          {
           "mode": "lines+markers",
           "name": "user_16",
           "type": "scatter",
           "x": [
            0,
            1,
            2,
            3,
            4,
            5,
            6,
            7,
            8,
            9,
            10,
            11,
            12,
            13,
            14,
            15,
            16,
            17
           ],
           "y": [
            0,
            0,
            0,
            0,
            0,
            0,
            0,
            0,
            0,
            0,
            0,
            0,
            0,
            0,
            0,
            3,
            3,
            10
           ]
          },
          {
           "mode": "lines+markers",
           "name": "user_17",
           "type": "scatter",
           "x": [
            0,
            1,
            2,
            3,
            4,
            5,
            6,
            7,
            8,
            9,
            10,
            11,
            12,
            13,
            14,
            15,
            16,
            17
           ],
           "y": [
            0,
            1,
            1,
            1,
            1,
            1,
            1,
            1,
            1,
            1,
            1,
            1,
            1,
            1,
            1,
            3,
            3,
            6
           ]
          },
          {
           "mode": "lines+markers",
           "name": "user_18",
           "type": "scatter",
           "x": [
            0,
            1,
            2,
            3,
            4,
            5,
            6,
            7,
            8,
            9,
            10,
            11,
            12,
            13,
            14,
            15,
            16,
            17
           ],
           "y": [
            0,
            0,
            0,
            0,
            0,
            0,
            0,
            0,
            0,
            0,
            0,
            0,
            0,
            0,
            7,
            7,
            8,
            31
           ]
          },
          {
           "mode": "lines+markers",
           "name": "user_19",
           "type": "scatter",
           "x": [
            0,
            1,
            2,
            3,
            4,
            5,
            6,
            7,
            8,
            9,
            10,
            11,
            12,
            13,
            14,
            15,
            16,
            17
           ],
           "y": [
            0,
            0,
            0,
            0,
            0,
            0,
            0,
            0,
            0,
            0,
            0,
            0,
            0,
            0,
            0,
            0,
            0,
            25
           ]
          },
          {
           "mode": "lines+markers",
           "name": "user_2",
           "type": "scatter",
           "x": [
            0,
            1,
            2,
            3,
            4,
            5,
            6,
            7,
            8,
            9,
            10,
            11,
            12,
            13,
            14,
            15,
            16,
            17
           ],
           "y": [
            0,
            0,
            0,
            0,
            0,
            0,
            0,
            0,
            57,
            58,
            58,
            58,
            58,
            62,
            74,
            78,
            93,
            95
           ]
          },
          {
           "mode": "lines+markers",
           "name": "user_20",
           "type": "scatter",
           "x": [
            0,
            1,
            2,
            3,
            4,
            5,
            6,
            7,
            8,
            9,
            10,
            11,
            12,
            13,
            14,
            15,
            16,
            17
           ],
           "y": [
            0,
            0,
            0,
            0,
            0,
            0,
            0,
            0,
            0,
            0,
            0,
            0,
            0,
            0,
            11,
            11,
            11,
            54
           ]
          },
          {
           "mode": "lines+markers",
           "name": "user_21",
           "type": "scatter",
           "x": [
            0,
            1,
            2,
            3,
            4,
            5,
            6,
            7,
            8,
            9,
            10,
            11,
            12,
            13,
            14,
            15,
            16,
            17
           ],
           "y": [
            0,
            0,
            0,
            0,
            0,
            0,
            0,
            0,
            0,
            0,
            0,
            0,
            0,
            7,
            7,
            7,
            7,
            9
           ]
          },
          {
           "mode": "lines+markers",
           "name": "user_22",
           "type": "scatter",
           "x": [
            0,
            1,
            2,
            3,
            4,
            5,
            6,
            7,
            8,
            9,
            10,
            11,
            12,
            13,
            14,
            15,
            16,
            17
           ],
           "y": [
            0,
            0,
            0,
            0,
            0,
            0,
            1,
            1,
            1,
            1,
            1,
            1,
            1,
            1,
            1,
            1,
            1,
            2
           ]
          },
          {
           "mode": "lines+markers",
           "name": "user_24",
           "type": "scatter",
           "x": [
            0,
            1,
            2,
            3,
            4,
            5,
            6,
            7,
            8,
            9,
            10,
            11,
            12,
            13,
            14,
            15,
            16,
            17
           ],
           "y": [
            0,
            0,
            0,
            0,
            0,
            0,
            0,
            0,
            0,
            0,
            0,
            0,
            0,
            0,
            0,
            0,
            9,
            34
           ]
          },
          {
           "mode": "lines+markers",
           "name": "user_25",
           "type": "scatter",
           "x": [
            0,
            1,
            2,
            3,
            4,
            5,
            6,
            7,
            8,
            9,
            10,
            11,
            12,
            13,
            14,
            15,
            16,
            17
           ],
           "y": [
            0,
            0,
            0,
            0,
            0,
            0,
            0,
            0,
            0,
            0,
            0,
            5,
            27,
            29,
            33,
            54,
            57,
            77
           ]
          },
          {
           "mode": "lines+markers",
           "name": "user_26",
           "type": "scatter",
           "x": [
            0,
            1,
            2,
            3,
            4,
            5,
            6,
            7,
            8,
            9,
            10,
            11,
            12,
            13,
            14,
            15,
            16,
            17
           ],
           "y": [
            0,
            0,
            0,
            0,
            0,
            0,
            0,
            0,
            0,
            0,
            0,
            0,
            0,
            35,
            35,
            35,
            52,
            67
           ]
          },
          {
           "mode": "lines+markers",
           "name": "user_27",
           "type": "scatter",
           "x": [
            0,
            1,
            2,
            3,
            4,
            5,
            6,
            7,
            8,
            9,
            10,
            11,
            12,
            13,
            14,
            15,
            16,
            17
           ],
           "y": [
            0,
            0,
            0,
            0,
            0,
            0,
            0,
            0,
            0,
            0,
            0,
            0,
            0,
            0,
            0,
            0,
            0,
            8
           ]
          },
          {
           "mode": "lines+markers",
           "name": "user_28",
           "type": "scatter",
           "x": [
            0,
            1,
            2,
            3,
            4,
            5,
            6,
            7,
            8,
            9,
            10,
            11,
            12,
            13,
            14,
            15,
            16,
            17
           ],
           "y": [
            0,
            0,
            0,
            0,
            0,
            0,
            0,
            0,
            0,
            0,
            0,
            0,
            0,
            0,
            0,
            2,
            20,
            26
           ]
          },
          {
           "mode": "lines+markers",
           "name": "user_29",
           "type": "scatter",
           "x": [
            0,
            1,
            2,
            3,
            4,
            5,
            6,
            7,
            8,
            9,
            10,
            11,
            12,
            13,
            14,
            15,
            16,
            17
           ],
           "y": [
            0,
            0,
            0,
            0,
            0,
            0,
            0,
            0,
            0,
            0,
            0,
            0,
            0,
            0,
            5,
            18,
            34,
            35
           ]
          },
          {
           "mode": "lines+markers",
           "name": "user_3",
           "type": "scatter",
           "x": [
            0,
            1,
            2,
            3,
            4,
            5,
            6,
            7,
            8,
            9,
            10,
            11,
            12,
            13,
            14,
            15,
            16,
            17
           ],
           "y": [
            0,
            0,
            0,
            0,
            0,
            0,
            0,
            0,
            0,
            0,
            1,
            28,
            29,
            31,
            54,
            56,
            56,
            58
           ]
          },
          {
           "mode": "lines+markers",
           "name": "user_30",
           "type": "scatter",
           "x": [
            0,
            1,
            2,
            3,
            4,
            5,
            6,
            7,
            8,
            9,
            10,
            11,
            12,
            13,
            14,
            15,
            16,
            17
           ],
           "y": [
            0,
            0,
            0,
            1,
            2,
            2,
            4,
            5,
            5,
            5,
            12,
            12,
            12,
            17,
            17,
            17,
            17,
            19
           ]
          },
          {
           "mode": "lines+markers",
           "name": "user_31",
           "type": "scatter",
           "x": [
            0,
            1,
            2,
            3,
            4,
            5,
            6,
            7,
            8,
            9,
            10,
            11,
            12,
            13,
            14,
            15,
            16,
            17
           ],
           "y": [
            0,
            0,
            0,
            0,
            0,
            0,
            0,
            0,
            0,
            0,
            1,
            1,
            4,
            4,
            6,
            6,
            6,
            8
           ]
          },
          {
           "mode": "lines+markers",
           "name": "user_4",
           "type": "scatter",
           "x": [
            0,
            1,
            2,
            3,
            4,
            5,
            6,
            7,
            8,
            9,
            10,
            11,
            12,
            13,
            14,
            15,
            16,
            17
           ],
           "y": [
            7,
            7,
            11,
            11,
            20,
            27,
            35,
            48,
            53,
            53,
            71,
            83,
            83,
            83,
            87,
            125,
            137,
            164
           ]
          },
          {
           "mode": "lines+markers",
           "name": "user_6",
           "type": "scatter",
           "x": [
            0,
            1,
            2,
            3,
            4,
            5,
            6,
            7,
            8,
            9,
            10,
            11,
            12,
            13,
            14,
            15,
            16,
            17
           ],
           "y": [
            0,
            0,
            0,
            0,
            0,
            0,
            0,
            0,
            0,
            0,
            0,
            0,
            0,
            0,
            0,
            0,
            1,
            2
           ]
          },
          {
           "mode": "lines+markers",
           "name": "user_8",
           "type": "scatter",
           "x": [
            0,
            1,
            2,
            3,
            4,
            5,
            6,
            7,
            8,
            9,
            10,
            11,
            12,
            13,
            14,
            15,
            16,
            17
           ],
           "y": [
            0,
            0,
            0,
            0,
            0,
            0,
            0,
            0,
            0,
            0,
            0,
            0,
            0,
            0,
            0,
            0,
            0,
            8
           ]
          }
         ],
         "layout": {
          "title": {
           "text": "Dynamic of commits per user in project1"
          }
         }
        },
        {
         "data": [
          {
           "mode": "lines+markers",
           "name": "user_1",
           "type": "scatter",
           "x": [
            0,
            1,
            2,
            3,
            4,
            5,
            6,
            7,
            8,
            9,
            10,
            11,
            12,
            13,
            14,
            15,
            16,
            17,
            18
           ],
           "y": [
            0,
            0,
            0,
            0,
            0,
            0,
            0,
            0,
            0,
            0,
            0,
            0,
            0,
            0,
            0,
            0,
            0,
            11,
            11
           ]
          },
          {
           "mode": "lines+markers",
           "name": "user_10",
           "type": "scatter",
           "x": [
            0,
            1,
            2,
            3,
            4,
            5,
            6,
            7,
            8,
            9,
            10,
            11,
            12,
            13,
            14,
            15,
            16,
            17,
            18
           ],
           "y": [
            0,
            0,
            0,
            0,
            0,
            0,
            0,
            0,
            0,
            0,
            0,
            0,
            0,
            0,
            0,
            7,
            21,
            59,
            59
           ]
          },
          {
           "mode": "lines+markers",
           "name": "user_11",
           "type": "scatter",
           "x": [
            0,
            1,
            2,
            3,
            4,
            5,
            6,
            7,
            8,
            9,
            10,
            11,
            12,
            13,
            14,
            15,
            16,
            17,
            18
           ],
           "y": [
            0,
            0,
            0,
            0,
            0,
            0,
            1,
            1,
            1,
            1,
            1,
            1,
            1,
            1,
            1,
            1,
            1,
            1,
            1
           ]
          },
          {
           "mode": "lines+markers",
           "name": "user_12",
           "type": "scatter",
           "x": [
            0,
            1,
            2,
            3,
            4,
            5,
            6,
            7,
            8,
            9,
            10,
            11,
            12,
            13,
            14,
            15,
            16,
            17,
            18
           ],
           "y": [
            0,
            0,
            0,
            0,
            0,
            0,
            0,
            0,
            0,
            0,
            0,
            0,
            0,
            0,
            0,
            0,
            0,
            4,
            4
           ]
          },
          {
           "mode": "lines+markers",
           "name": "user_13",
           "type": "scatter",
           "x": [
            0,
            1,
            2,
            3,
            4,
            5,
            6,
            7,
            8,
            9,
            10,
            11,
            12,
            13,
            14,
            15,
            16,
            17,
            18
           ],
           "y": [
            0,
            0,
            0,
            0,
            0,
            0,
            0,
            0,
            0,
            0,
            0,
            0,
            0,
            0,
            2,
            30,
            30,
            32,
            32
           ]
          },
          {
           "mode": "lines+markers",
           "name": "user_14",
           "type": "scatter",
           "x": [
            0,
            1,
            2,
            3,
            4,
            5,
            6,
            7,
            8,
            9,
            10,
            11,
            12,
            13,
            14,
            15,
            16,
            17,
            18
           ],
           "y": [
            0,
            0,
            0,
            0,
            0,
            0,
            0,
            0,
            1,
            1,
            1,
            1,
            18,
            25,
            49,
            92,
            92,
            99,
            99
           ]
          },
          {
           "mode": "lines+markers",
           "name": "user_15",
           "type": "scatter",
           "x": [
            0,
            1,
            2,
            3,
            4,
            5,
            6,
            7,
            8,
            9,
            10,
            11,
            12,
            13,
            14,
            15,
            16,
            17,
            18
           ],
           "y": [
            0,
            0,
            0,
            0,
            0,
            0,
            0,
            0,
            0,
            0,
            0,
            0,
            0,
            0,
            0,
            0,
            0,
            3,
            3
           ]
          },
          {
           "mode": "lines+markers",
           "name": "user_16",
           "type": "scatter",
           "x": [
            0,
            1,
            2,
            3,
            4,
            5,
            6,
            7,
            8,
            9,
            10,
            11,
            12,
            13,
            14,
            15,
            16,
            17,
            18
           ],
           "y": [
            0,
            0,
            0,
            0,
            0,
            0,
            0,
            0,
            0,
            0,
            0,
            0,
            0,
            0,
            0,
            3,
            3,
            10,
            10
           ]
          },
          {
           "mode": "lines+markers",
           "name": "user_17",
           "type": "scatter",
           "x": [
            0,
            1,
            2,
            3,
            4,
            5,
            6,
            7,
            8,
            9,
            10,
            11,
            12,
            13,
            14,
            15,
            16,
            17,
            18
           ],
           "y": [
            0,
            1,
            1,
            1,
            1,
            1,
            1,
            1,
            1,
            1,
            1,
            1,
            1,
            1,
            1,
            3,
            3,
            6,
            6
           ]
          },
          {
           "mode": "lines+markers",
           "name": "user_18",
           "type": "scatter",
           "x": [
            0,
            1,
            2,
            3,
            4,
            5,
            6,
            7,
            8,
            9,
            10,
            11,
            12,
            13,
            14,
            15,
            16,
            17,
            18
           ],
           "y": [
            0,
            0,
            0,
            0,
            0,
            0,
            0,
            0,
            0,
            0,
            0,
            0,
            0,
            0,
            7,
            7,
            8,
            31,
            31
           ]
          },
          {
           "mode": "lines+markers",
           "name": "user_19",
           "type": "scatter",
           "x": [
            0,
            1,
            2,
            3,
            4,
            5,
            6,
            7,
            8,
            9,
            10,
            11,
            12,
            13,
            14,
            15,
            16,
            17,
            18
           ],
           "y": [
            0,
            0,
            0,
            0,
            0,
            0,
            0,
            0,
            0,
            0,
            0,
            0,
            0,
            0,
            0,
            0,
            0,
            25,
            29
           ]
          },
          {
           "mode": "lines+markers",
           "name": "user_2",
           "type": "scatter",
           "x": [
            0,
            1,
            2,
            3,
            4,
            5,
            6,
            7,
            8,
            9,
            10,
            11,
            12,
            13,
            14,
            15,
            16,
            17,
            18
           ],
           "y": [
            0,
            0,
            0,
            0,
            0,
            0,
            0,
            0,
            57,
            58,
            58,
            58,
            58,
            62,
            74,
            78,
            93,
            95,
            95
           ]
          },
          {
           "mode": "lines+markers",
           "name": "user_20",
           "type": "scatter",
           "x": [
            0,
            1,
            2,
            3,
            4,
            5,
            6,
            7,
            8,
            9,
            10,
            11,
            12,
            13,
            14,
            15,
            16,
            17,
            18
           ],
           "y": [
            0,
            0,
            0,
            0,
            0,
            0,
            0,
            0,
            0,
            0,
            0,
            0,
            0,
            0,
            11,
            11,
            11,
            54,
            54
           ]
          },
          {
           "mode": "lines+markers",
           "name": "user_21",
           "type": "scatter",
           "x": [
            0,
            1,
            2,
            3,
            4,
            5,
            6,
            7,
            8,
            9,
            10,
            11,
            12,
            13,
            14,
            15,
            16,
            17,
            18
           ],
           "y": [
            0,
            0,
            0,
            0,
            0,
            0,
            0,
            0,
            0,
            0,
            0,
            0,
            0,
            7,
            7,
            7,
            7,
            9,
            9
           ]
          },
          {
           "mode": "lines+markers",
           "name": "user_22",
           "type": "scatter",
           "x": [
            0,
            1,
            2,
            3,
            4,
            5,
            6,
            7,
            8,
            9,
            10,
            11,
            12,
            13,
            14,
            15,
            16,
            17,
            18
           ],
           "y": [
            0,
            0,
            0,
            0,
            0,
            0,
            1,
            1,
            1,
            1,
            1,
            1,
            1,
            1,
            1,
            1,
            1,
            2,
            2
           ]
          },
          {
           "mode": "lines+markers",
           "name": "user_24",
           "type": "scatter",
           "x": [
            0,
            1,
            2,
            3,
            4,
            5,
            6,
            7,
            8,
            9,
            10,
            11,
            12,
            13,
            14,
            15,
            16,
            17,
            18
           ],
           "y": [
            0,
            0,
            0,
            0,
            0,
            0,
            0,
            0,
            0,
            0,
            0,
            0,
            0,
            0,
            0,
            0,
            9,
            34,
            34
           ]
          },
          {
           "mode": "lines+markers",
           "name": "user_25",
           "type": "scatter",
           "x": [
            0,
            1,
            2,
            3,
            4,
            5,
            6,
            7,
            8,
            9,
            10,
            11,
            12,
            13,
            14,
            15,
            16,
            17,
            18
           ],
           "y": [
            0,
            0,
            0,
            0,
            0,
            0,
            0,
            0,
            0,
            0,
            0,
            5,
            27,
            29,
            33,
            54,
            57,
            77,
            77
           ]
          },
          {
           "mode": "lines+markers",
           "name": "user_26",
           "type": "scatter",
           "x": [
            0,
            1,
            2,
            3,
            4,
            5,
            6,
            7,
            8,
            9,
            10,
            11,
            12,
            13,
            14,
            15,
            16,
            17,
            18
           ],
           "y": [
            0,
            0,
            0,
            0,
            0,
            0,
            0,
            0,
            0,
            0,
            0,
            0,
            0,
            35,
            35,
            35,
            52,
            67,
            67
           ]
          },
          {
           "mode": "lines+markers",
           "name": "user_27",
           "type": "scatter",
           "x": [
            0,
            1,
            2,
            3,
            4,
            5,
            6,
            7,
            8,
            9,
            10,
            11,
            12,
            13,
            14,
            15,
            16,
            17,
            18
           ],
           "y": [
            0,
            0,
            0,
            0,
            0,
            0,
            0,
            0,
            0,
            0,
            0,
            0,
            0,
            0,
            0,
            0,
            0,
            8,
            8
           ]
          },
          {
           "mode": "lines+markers",
           "name": "user_28",
           "type": "scatter",
           "x": [
            0,
            1,
            2,
            3,
            4,
            5,
            6,
            7,
            8,
            9,
            10,
            11,
            12,
            13,
            14,
            15,
            16,
            17,
            18
           ],
           "y": [
            0,
            0,
            0,
            0,
            0,
            0,
            0,
            0,
            0,
            0,
            0,
            0,
            0,
            0,
            0,
            2,
            20,
            26,
            27
           ]
          },
          {
           "mode": "lines+markers",
           "name": "user_29",
           "type": "scatter",
           "x": [
            0,
            1,
            2,
            3,
            4,
            5,
            6,
            7,
            8,
            9,
            10,
            11,
            12,
            13,
            14,
            15,
            16,
            17,
            18
           ],
           "y": [
            0,
            0,
            0,
            0,
            0,
            0,
            0,
            0,
            0,
            0,
            0,
            0,
            0,
            0,
            5,
            18,
            34,
            35,
            35
           ]
          },
          {
           "mode": "lines+markers",
           "name": "user_3",
           "type": "scatter",
           "x": [
            0,
            1,
            2,
            3,
            4,
            5,
            6,
            7,
            8,
            9,
            10,
            11,
            12,
            13,
            14,
            15,
            16,
            17,
            18
           ],
           "y": [
            0,
            0,
            0,
            0,
            0,
            0,
            0,
            0,
            0,
            0,
            1,
            28,
            29,
            31,
            54,
            56,
            56,
            58,
            58
           ]
          },
          {
           "mode": "lines+markers",
           "name": "user_30",
           "type": "scatter",
           "x": [
            0,
            1,
            2,
            3,
            4,
            5,
            6,
            7,
            8,
            9,
            10,
            11,
            12,
            13,
            14,
            15,
            16,
            17,
            18
           ],
           "y": [
            0,
            0,
            0,
            1,
            2,
            2,
            4,
            5,
            5,
            5,
            12,
            12,
            12,
            17,
            17,
            17,
            17,
            19,
            19
           ]
          },
          {
           "mode": "lines+markers",
           "name": "user_31",
           "type": "scatter",
           "x": [
            0,
            1,
            2,
            3,
            4,
            5,
            6,
            7,
            8,
            9,
            10,
            11,
            12,
            13,
            14,
            15,
            16,
            17,
            18
           ],
           "y": [
            0,
            0,
            0,
            0,
            0,
            0,
            0,
            0,
            0,
            0,
            1,
            1,
            4,
            4,
            6,
            6,
            6,
            8,
            8
           ]
          },
          {
           "mode": "lines+markers",
           "name": "user_4",
           "type": "scatter",
           "x": [
            0,
            1,
            2,
            3,
            4,
            5,
            6,
            7,
            8,
            9,
            10,
            11,
            12,
            13,
            14,
            15,
            16,
            17,
            18
           ],
           "y": [
            7,
            7,
            11,
            11,
            20,
            27,
            35,
            48,
            53,
            53,
            71,
            83,
            83,
            83,
            87,
            125,
            137,
            164,
            164
           ]
          },
          {
           "mode": "lines+markers",
           "name": "user_6",
           "type": "scatter",
           "x": [
            0,
            1,
            2,
            3,
            4,
            5,
            6,
            7,
            8,
            9,
            10,
            11,
            12,
            13,
            14,
            15,
            16,
            17,
            18
           ],
           "y": [
            0,
            0,
            0,
            0,
            0,
            0,
            0,
            0,
            0,
            0,
            0,
            0,
            0,
            0,
            0,
            0,
            1,
            2,
            2
           ]
          },
          {
           "mode": "lines+markers",
           "name": "user_8",
           "type": "scatter",
           "x": [
            0,
            1,
            2,
            3,
            4,
            5,
            6,
            7,
            8,
            9,
            10,
            11,
            12,
            13,
            14,
            15,
            16,
            17,
            18
           ],
           "y": [
            0,
            0,
            0,
            0,
            0,
            0,
            0,
            0,
            0,
            0,
            0,
            0,
            0,
            0,
            0,
            0,
            0,
            8,
            8
           ]
          }
         ],
         "layout": {
          "title": {
           "text": "Dynamic of commits per user in project1"
          }
         }
        }
       ],
       "layout": {
        "height": 600,
        "template": {
         "data": {
          "bar": [
           {
            "error_x": {
             "color": "#2a3f5f"
            },
            "error_y": {
             "color": "#2a3f5f"
            },
            "marker": {
             "line": {
              "color": "#E5ECF6",
              "width": 0.5
             },
             "pattern": {
              "fillmode": "overlay",
              "size": 10,
              "solidity": 0.2
             }
            },
            "type": "bar"
           }
          ],
          "barpolar": [
           {
            "marker": {
             "line": {
              "color": "#E5ECF6",
              "width": 0.5
             },
             "pattern": {
              "fillmode": "overlay",
              "size": 10,
              "solidity": 0.2
             }
            },
            "type": "barpolar"
           }
          ],
          "carpet": [
           {
            "aaxis": {
             "endlinecolor": "#2a3f5f",
             "gridcolor": "white",
             "linecolor": "white",
             "minorgridcolor": "white",
             "startlinecolor": "#2a3f5f"
            },
            "baxis": {
             "endlinecolor": "#2a3f5f",
             "gridcolor": "white",
             "linecolor": "white",
             "minorgridcolor": "white",
             "startlinecolor": "#2a3f5f"
            },
            "type": "carpet"
           }
          ],
          "choropleth": [
           {
            "colorbar": {
             "outlinewidth": 0,
             "ticks": ""
            },
            "type": "choropleth"
           }
          ],
          "contour": [
           {
            "colorbar": {
             "outlinewidth": 0,
             "ticks": ""
            },
            "colorscale": [
             [
              0,
              "#0d0887"
             ],
             [
              0.1111111111111111,
              "#46039f"
             ],
             [
              0.2222222222222222,
              "#7201a8"
             ],
             [
              0.3333333333333333,
              "#9c179e"
             ],
             [
              0.4444444444444444,
              "#bd3786"
             ],
             [
              0.5555555555555556,
              "#d8576b"
             ],
             [
              0.6666666666666666,
              "#ed7953"
             ],
             [
              0.7777777777777778,
              "#fb9f3a"
             ],
             [
              0.8888888888888888,
              "#fdca26"
             ],
             [
              1,
              "#f0f921"
             ]
            ],
            "type": "contour"
           }
          ],
          "contourcarpet": [
           {
            "colorbar": {
             "outlinewidth": 0,
             "ticks": ""
            },
            "type": "contourcarpet"
           }
          ],
          "heatmap": [
           {
            "colorbar": {
             "outlinewidth": 0,
             "ticks": ""
            },
            "colorscale": [
             [
              0,
              "#0d0887"
             ],
             [
              0.1111111111111111,
              "#46039f"
             ],
             [
              0.2222222222222222,
              "#7201a8"
             ],
             [
              0.3333333333333333,
              "#9c179e"
             ],
             [
              0.4444444444444444,
              "#bd3786"
             ],
             [
              0.5555555555555556,
              "#d8576b"
             ],
             [
              0.6666666666666666,
              "#ed7953"
             ],
             [
              0.7777777777777778,
              "#fb9f3a"
             ],
             [
              0.8888888888888888,
              "#fdca26"
             ],
             [
              1,
              "#f0f921"
             ]
            ],
            "type": "heatmap"
           }
          ],
          "heatmapgl": [
           {
            "colorbar": {
             "outlinewidth": 0,
             "ticks": ""
            },
            "colorscale": [
             [
              0,
              "#0d0887"
             ],
             [
              0.1111111111111111,
              "#46039f"
             ],
             [
              0.2222222222222222,
              "#7201a8"
             ],
             [
              0.3333333333333333,
              "#9c179e"
             ],
             [
              0.4444444444444444,
              "#bd3786"
             ],
             [
              0.5555555555555556,
              "#d8576b"
             ],
             [
              0.6666666666666666,
              "#ed7953"
             ],
             [
              0.7777777777777778,
              "#fb9f3a"
             ],
             [
              0.8888888888888888,
              "#fdca26"
             ],
             [
              1,
              "#f0f921"
             ]
            ],
            "type": "heatmapgl"
           }
          ],
          "histogram": [
           {
            "marker": {
             "pattern": {
              "fillmode": "overlay",
              "size": 10,
              "solidity": 0.2
             }
            },
            "type": "histogram"
           }
          ],
          "histogram2d": [
           {
            "colorbar": {
             "outlinewidth": 0,
             "ticks": ""
            },
            "colorscale": [
             [
              0,
              "#0d0887"
             ],
             [
              0.1111111111111111,
              "#46039f"
             ],
             [
              0.2222222222222222,
              "#7201a8"
             ],
             [
              0.3333333333333333,
              "#9c179e"
             ],
             [
              0.4444444444444444,
              "#bd3786"
             ],
             [
              0.5555555555555556,
              "#d8576b"
             ],
             [
              0.6666666666666666,
              "#ed7953"
             ],
             [
              0.7777777777777778,
              "#fb9f3a"
             ],
             [
              0.8888888888888888,
              "#fdca26"
             ],
             [
              1,
              "#f0f921"
             ]
            ],
            "type": "histogram2d"
           }
          ],
          "histogram2dcontour": [
           {
            "colorbar": {
             "outlinewidth": 0,
             "ticks": ""
            },
            "colorscale": [
             [
              0,
              "#0d0887"
             ],
             [
              0.1111111111111111,
              "#46039f"
             ],
             [
              0.2222222222222222,
              "#7201a8"
             ],
             [
              0.3333333333333333,
              "#9c179e"
             ],
             [
              0.4444444444444444,
              "#bd3786"
             ],
             [
              0.5555555555555556,
              "#d8576b"
             ],
             [
              0.6666666666666666,
              "#ed7953"
             ],
             [
              0.7777777777777778,
              "#fb9f3a"
             ],
             [
              0.8888888888888888,
              "#fdca26"
             ],
             [
              1,
              "#f0f921"
             ]
            ],
            "type": "histogram2dcontour"
           }
          ],
          "mesh3d": [
           {
            "colorbar": {
             "outlinewidth": 0,
             "ticks": ""
            },
            "type": "mesh3d"
           }
          ],
          "parcoords": [
           {
            "line": {
             "colorbar": {
              "outlinewidth": 0,
              "ticks": ""
             }
            },
            "type": "parcoords"
           }
          ],
          "pie": [
           {
            "automargin": true,
            "type": "pie"
           }
          ],
          "scatter": [
           {
            "fillpattern": {
             "fillmode": "overlay",
             "size": 10,
             "solidity": 0.2
            },
            "type": "scatter"
           }
          ],
          "scatter3d": [
           {
            "line": {
             "colorbar": {
              "outlinewidth": 0,
              "ticks": ""
             }
            },
            "marker": {
             "colorbar": {
              "outlinewidth": 0,
              "ticks": ""
             }
            },
            "type": "scatter3d"
           }
          ],
          "scattercarpet": [
           {
            "marker": {
             "colorbar": {
              "outlinewidth": 0,
              "ticks": ""
             }
            },
            "type": "scattercarpet"
           }
          ],
          "scattergeo": [
           {
            "marker": {
             "colorbar": {
              "outlinewidth": 0,
              "ticks": ""
             }
            },
            "type": "scattergeo"
           }
          ],
          "scattergl": [
           {
            "marker": {
             "colorbar": {
              "outlinewidth": 0,
              "ticks": ""
             }
            },
            "type": "scattergl"
           }
          ],
          "scattermapbox": [
           {
            "marker": {
             "colorbar": {
              "outlinewidth": 0,
              "ticks": ""
             }
            },
            "type": "scattermapbox"
           }
          ],
          "scatterpolar": [
           {
            "marker": {
             "colorbar": {
              "outlinewidth": 0,
              "ticks": ""
             }
            },
            "type": "scatterpolar"
           }
          ],
          "scatterpolargl": [
           {
            "marker": {
             "colorbar": {
              "outlinewidth": 0,
              "ticks": ""
             }
            },
            "type": "scatterpolargl"
           }
          ],
          "scatterternary": [
           {
            "marker": {
             "colorbar": {
              "outlinewidth": 0,
              "ticks": ""
             }
            },
            "type": "scatterternary"
           }
          ],
          "surface": [
           {
            "colorbar": {
             "outlinewidth": 0,
             "ticks": ""
            },
            "colorscale": [
             [
              0,
              "#0d0887"
             ],
             [
              0.1111111111111111,
              "#46039f"
             ],
             [
              0.2222222222222222,
              "#7201a8"
             ],
             [
              0.3333333333333333,
              "#9c179e"
             ],
             [
              0.4444444444444444,
              "#bd3786"
             ],
             [
              0.5555555555555556,
              "#d8576b"
             ],
             [
              0.6666666666666666,
              "#ed7953"
             ],
             [
              0.7777777777777778,
              "#fb9f3a"
             ],
             [
              0.8888888888888888,
              "#fdca26"
             ],
             [
              1,
              "#f0f921"
             ]
            ],
            "type": "surface"
           }
          ],
          "table": [
           {
            "cells": {
             "fill": {
              "color": "#EBF0F8"
             },
             "line": {
              "color": "white"
             }
            },
            "header": {
             "fill": {
              "color": "#C8D4E3"
             },
             "line": {
              "color": "white"
             }
            },
            "type": "table"
           }
          ]
         },
         "layout": {
          "annotationdefaults": {
           "arrowcolor": "#2a3f5f",
           "arrowhead": 0,
           "arrowwidth": 1
          },
          "autotypenumbers": "strict",
          "coloraxis": {
           "colorbar": {
            "outlinewidth": 0,
            "ticks": ""
           }
          },
          "colorscale": {
           "diverging": [
            [
             0,
             "#8e0152"
            ],
            [
             0.1,
             "#c51b7d"
            ],
            [
             0.2,
             "#de77ae"
            ],
            [
             0.3,
             "#f1b6da"
            ],
            [
             0.4,
             "#fde0ef"
            ],
            [
             0.5,
             "#f7f7f7"
            ],
            [
             0.6,
             "#e6f5d0"
            ],
            [
             0.7,
             "#b8e186"
            ],
            [
             0.8,
             "#7fbc41"
            ],
            [
             0.9,
             "#4d9221"
            ],
            [
             1,
             "#276419"
            ]
           ],
           "sequential": [
            [
             0,
             "#0d0887"
            ],
            [
             0.1111111111111111,
             "#46039f"
            ],
            [
             0.2222222222222222,
             "#7201a8"
            ],
            [
             0.3333333333333333,
             "#9c179e"
            ],
            [
             0.4444444444444444,
             "#bd3786"
            ],
            [
             0.5555555555555556,
             "#d8576b"
            ],
            [
             0.6666666666666666,
             "#ed7953"
            ],
            [
             0.7777777777777778,
             "#fb9f3a"
            ],
            [
             0.8888888888888888,
             "#fdca26"
            ],
            [
             1,
             "#f0f921"
            ]
           ],
           "sequentialminus": [
            [
             0,
             "#0d0887"
            ],
            [
             0.1111111111111111,
             "#46039f"
            ],
            [
             0.2222222222222222,
             "#7201a8"
            ],
            [
             0.3333333333333333,
             "#9c179e"
            ],
            [
             0.4444444444444444,
             "#bd3786"
            ],
            [
             0.5555555555555556,
             "#d8576b"
            ],
            [
             0.6666666666666666,
             "#ed7953"
            ],
            [
             0.7777777777777778,
             "#fb9f3a"
            ],
            [
             0.8888888888888888,
             "#fdca26"
            ],
            [
             1,
             "#f0f921"
            ]
           ]
          },
          "colorway": [
           "#636efa",
           "#EF553B",
           "#00cc96",
           "#ab63fa",
           "#FFA15A",
           "#19d3f3",
           "#FF6692",
           "#B6E880",
           "#FF97FF",
           "#FECB52"
          ],
          "font": {
           "color": "#2a3f5f"
          },
          "geo": {
           "bgcolor": "white",
           "lakecolor": "white",
           "landcolor": "#E5ECF6",
           "showlakes": true,
           "showland": true,
           "subunitcolor": "white"
          },
          "hoverlabel": {
           "align": "left"
          },
          "hovermode": "closest",
          "mapbox": {
           "style": "light"
          },
          "paper_bgcolor": "white",
          "plot_bgcolor": "#E5ECF6",
          "polar": {
           "angularaxis": {
            "gridcolor": "white",
            "linecolor": "white",
            "ticks": ""
           },
           "bgcolor": "#E5ECF6",
           "radialaxis": {
            "gridcolor": "white",
            "linecolor": "white",
            "ticks": ""
           }
          },
          "scene": {
           "xaxis": {
            "backgroundcolor": "#E5ECF6",
            "gridcolor": "white",
            "gridwidth": 2,
            "linecolor": "white",
            "showbackground": true,
            "ticks": "",
            "zerolinecolor": "white"
           },
           "yaxis": {
            "backgroundcolor": "#E5ECF6",
            "gridcolor": "white",
            "gridwidth": 2,
            "linecolor": "white",
            "showbackground": true,
            "ticks": "",
            "zerolinecolor": "white"
           },
           "zaxis": {
            "backgroundcolor": "#E5ECF6",
            "gridcolor": "white",
            "gridwidth": 2,
            "linecolor": "white",
            "showbackground": true,
            "ticks": "",
            "zerolinecolor": "white"
           }
          },
          "shapedefaults": {
           "line": {
            "color": "#2a3f5f"
           }
          },
          "ternary": {
           "aaxis": {
            "gridcolor": "white",
            "linecolor": "white",
            "ticks": ""
           },
           "baxis": {
            "gridcolor": "white",
            "linecolor": "white",
            "ticks": ""
           },
           "bgcolor": "#E5ECF6",
           "caxis": {
            "gridcolor": "white",
            "linecolor": "white",
            "ticks": ""
           }
          },
          "title": {
           "x": 0.05
          },
          "xaxis": {
           "automargin": true,
           "gridcolor": "white",
           "linecolor": "white",
           "ticks": "",
           "title": {
            "standoff": 15
           },
           "zerolinecolor": "white",
           "zerolinewidth": 2
          },
          "yaxis": {
           "automargin": true,
           "gridcolor": "white",
           "linecolor": "white",
           "ticks": "",
           "title": {
            "standoff": 15
           },
           "zerolinecolor": "white",
           "zerolinewidth": 2
          }
         }
        },
        "title": {
         "text": "'Dynamic of commits per user in project1'"
        },
        "updatemenus": [
         {
          "buttons": [
           {
            "args": [
             null
            ],
            "label": "play",
            "method": "animate"
           }
          ],
          "type": "buttons"
         }
        ],
        "width": 1200,
        "xaxis": {
         "range": [
          0,
          20
         ]
        },
        "yaxis": {
         "range": [
          0,
          166
         ]
        }
       }
      }
     },
     "metadata": {},
     "output_type": "display_data"
    }
   ],
   "source": [
    "\n",
    "figure = go.Figure(\n",
    "    data = initial_data,\n",
    "    layout = {\n",
    "        \"title\":\"'Dynamic of commits per user in project1'\",\n",
    "        'width': 1200,\n",
    "        'height': 600,\n",
    "        \"xaxis\":{\"range\":xaxis_range},\n",
    "        \"yaxis\":{\"range\":yaxis_range},\n",
    "        \"updatemenus\":[{\"type\":\"buttons\",\"buttons\":[{\"method\":\"animate\",\"label\":\"play\", \"args\":[None]}]}]\n",
    "        },\n",
    "    frames = frames\n",
    "    )\n",
    "figure.show()"
   ]
  },
  {
   "cell_type": "code",
   "execution_count": 10,
   "metadata": {},
   "outputs": [],
   "source": [
    "db.close()"
   ]
  }
 ],
 "metadata": {
  "kernelspec": {
   "display_name": "base",
   "language": "python",
   "name": "python3"
  },
  "language_info": {
   "codemirror_mode": {
    "name": "ipython",
    "version": 3
   },
   "file_extension": ".py",
   "mimetype": "text/x-python",
   "name": "python",
   "nbconvert_exporter": "python",
   "pygments_lexer": "ipython3",
   "version": "3.12.7"
  }
 },
 "nbformat": 4,
 "nbformat_minor": 2
}
