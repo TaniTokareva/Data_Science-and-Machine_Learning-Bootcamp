{
 "cells": [
  {
   "cell_type": "code",
   "execution_count": 1,
   "metadata": {},
   "outputs": [],
   "source": [
    "import pandas as pd\n",
    "import sqlite3"
   ]
  },
  {
   "cell_type": "markdown",
   "metadata": {},
   "source": [
    "создаем подключение к базе данных с помощью библиотеки sqlite3"
   ]
  },
  {
   "cell_type": "code",
   "execution_count": 2,
   "metadata": {},
   "outputs": [],
   "source": [
    "db = sqlite3.connect('../data/checking-logs.sqlite')"
   ]
  },
  {
   "cell_type": "markdown",
   "metadata": {},
   "source": [
    "## используя только один запрос для каждой из групп, создайте два фрейма данных: test_results и control_results со столбцами time и avg_diff и только двумя строками"
   ]
  },
  {
   "cell_type": "markdown",
   "metadata": {},
   "source": [
    "1. время должно иметь значения: после и до\n",
    "2. avg_diff содержит среднюю дельту среди всех пользователей за период времени до того, как каждый из них совершил свой первый визит на страницу, и после этого\n",
    "3. учитывать только тех пользователей, у которых есть наблюдения до и после"
   ]
  },
  {
   "cell_type": "code",
   "execution_count": 4,
   "metadata": {},
   "outputs": [
    {
     "data": {
      "text/html": [
       "<div>\n",
       "<style scoped>\n",
       "    .dataframe tbody tr th:only-of-type {\n",
       "        vertical-align: middle;\n",
       "    }\n",
       "\n",
       "    .dataframe tbody tr th {\n",
       "        vertical-align: top;\n",
       "    }\n",
       "\n",
       "    .dataframe thead th {\n",
       "        text-align: right;\n",
       "    }\n",
       "</style>\n",
       "<table border=\"1\" class=\"dataframe\">\n",
       "  <thead>\n",
       "    <tr style=\"text-align: right;\">\n",
       "      <th></th>\n",
       "      <th>time</th>\n",
       "      <th>avg_diff</th>\n",
       "    </tr>\n",
       "  </thead>\n",
       "  <tbody>\n",
       "    <tr>\n",
       "      <th>0</th>\n",
       "      <td>before</td>\n",
       "      <td>60.56250</td>\n",
       "    </tr>\n",
       "    <tr>\n",
       "      <th>1</th>\n",
       "      <td>after</td>\n",
       "      <td>103.40625</td>\n",
       "    </tr>\n",
       "  </tbody>\n",
       "</table>\n",
       "</div>"
      ],
      "text/plain": [
       "     time   avg_diff\n",
       "0  before   60.56250\n",
       "1   after  103.40625"
      ]
     },
     "execution_count": 4,
     "metadata": {},
     "output_type": "execute_result"
    }
   ],
   "source": [
    "test_results_query = \"\"\"\n",
    "SELECT\n",
    "    'before' AS time,\n",
    "    AVG(CAST((JULIANDAY(datetime(deadlines.deadlines, 'unixepoch')) - JULIANDAY(test.first_commit_ts)) * 24 AS integer)) AS avg_diff\n",
    "FROM\n",
    "    test\n",
    "JOIN\n",
    "    deadlines\n",
    "ON\n",
    "    test.labname = deadlines.labs\n",
    "WHERE\n",
    "    test.labname != 'project1' AND test.first_commit_ts < test.first_view_ts\n",
    "UNION ALL\n",
    "SELECT\n",
    "    'after' AS time,\n",
    "    AVG(CAST((JULIANDAY(datetime(deadlines.deadlines, 'unixepoch')) - JULIANDAY(test.first_commit_ts)) * 24 AS integer)) AS avg_diff\n",
    "FROM\n",
    "    test\n",
    "JOIN\n",
    "    deadlines\n",
    "ON\n",
    "    test.labname = deadlines.labs\n",
    "WHERE\n",
    "    test.labname != 'project1' AND test.first_commit_ts >= test.first_view_ts;\n",
    "\"\"\"\n",
    "test_results = pd.io.sql.read_sql(test_results_query, db)\n",
    "test_results"
   ]
  },
  {
   "cell_type": "code",
   "execution_count": 5,
   "metadata": {},
   "outputs": [
    {
     "data": {
      "text/html": [
       "<div>\n",
       "<style scoped>\n",
       "    .dataframe tbody tr th:only-of-type {\n",
       "        vertical-align: middle;\n",
       "    }\n",
       "\n",
       "    .dataframe tbody tr th {\n",
       "        vertical-align: top;\n",
       "    }\n",
       "\n",
       "    .dataframe thead th {\n",
       "        text-align: right;\n",
       "    }\n",
       "</style>\n",
       "<table border=\"1\" class=\"dataframe\">\n",
       "  <thead>\n",
       "    <tr style=\"text-align: right;\">\n",
       "      <th></th>\n",
       "      <th>time</th>\n",
       "      <th>avg_diff</th>\n",
       "    </tr>\n",
       "  </thead>\n",
       "  <tbody>\n",
       "    <tr>\n",
       "      <th>0</th>\n",
       "      <td>before</td>\n",
       "      <td>99.464286</td>\n",
       "    </tr>\n",
       "    <tr>\n",
       "      <th>1</th>\n",
       "      <td>after</td>\n",
       "      <td>112.710526</td>\n",
       "    </tr>\n",
       "  </tbody>\n",
       "</table>\n",
       "</div>"
      ],
      "text/plain": [
       "     time    avg_diff\n",
       "0  before   99.464286\n",
       "1   after  112.710526"
      ]
     },
     "execution_count": 5,
     "metadata": {},
     "output_type": "execute_result"
    }
   ],
   "source": [
    "control_results_query = \"\"\"\n",
    "SELECT\n",
    "    'before' AS time,\n",
    "    AVG(CAST((JULIANDAY(datetime(deadlines.deadlines, 'unixepoch')) - JULIANDAY(control.first_commit_ts)) * 24 AS integer)) AS avg_diff\n",
    "FROM\n",
    "    control\n",
    "JOIN\n",
    "    deadlines\n",
    "ON\n",
    "    control.labname = deadlines.labs\n",
    "WHERE\n",
    "    control.labname != 'project1' AND control.first_commit_ts < control.first_view_ts\n",
    "UNION ALL\n",
    "SELECT \n",
    "    'after' AS time,\n",
    "    AVG(CAST((JULIANDAY(datetime(deadlines.deadlines, 'unixepoch')) - JULIANDAY(control.first_commit_ts)) * 24 AS integer)) AS avg_diff\n",
    "FROM \n",
    "    control\n",
    "JOIN \n",
    "    deadlines\n",
    "ON\n",
    "    control.labname = deadlines.labs\n",
    "WHERE \n",
    "    control.labname != 'project1' AND control.first_commit_ts >= control.first_view_ts;\n",
    "\"\"\"\n",
    "control_result = pd.io.sql.read_sql(control_results_query, db)\n",
    "control_result"
   ]
  },
  {
   "cell_type": "code",
   "execution_count": 6,
   "metadata": {},
   "outputs": [],
   "source": [
    "db.close()"
   ]
  }
 ],
 "metadata": {
  "kernelspec": {
   "display_name": "base",
   "language": "python",
   "name": "python3"
  },
  "language_info": {
   "codemirror_mode": {
    "name": "ipython",
    "version": 3
   },
   "file_extension": ".py",
   "mimetype": "text/x-python",
   "name": "python",
   "nbconvert_exporter": "python",
   "pygments_lexer": "ipython3",
   "version": "3.12.7"
  }
 },
 "nbformat": 4,
 "nbformat_minor": 2
}
