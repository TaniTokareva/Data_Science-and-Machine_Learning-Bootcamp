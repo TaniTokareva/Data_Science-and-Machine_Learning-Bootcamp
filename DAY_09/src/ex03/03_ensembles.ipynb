{
 "cells": [
  {
   "cell_type": "markdown",
   "metadata": {},
   "source": [
    "# Day 09. Exercise 03\n",
    "# Ensembles"
   ]
  },
  {
   "cell_type": "markdown",
   "metadata": {},
   "source": [
    "## 0. Imports"
   ]
  },
  {
   "cell_type": "code",
   "execution_count": 90,
   "metadata": {},
   "outputs": [],
   "source": [
    "import pandas as pd\n",
    "import numpy as np\n",
    "import joblib\n",
    "\n",
    "from sklearn.model_selection import train_test_split\n",
    "from sklearn.svm import SVC\n",
    "from sklearn.tree import DecisionTreeClassifier\n",
    "from sklearn.ensemble import RandomForestClassifier\n",
    "\n",
    "from sklearn.metrics import accuracy_score, precision_score, recall_score\n",
    "\n",
    "from sklearn.ensemble import VotingClassifier, BaggingClassifier, StackingClassifier\n",
    "from sklearn.model_selection import StratifiedKFold\n",
    "from sklearn.linear_model import LogisticRegression\n",
    "from sklearn.metrics import ConfusionMatrixDisplay\n"
   ]
  },
  {
   "cell_type": "markdown",
   "metadata": {},
   "source": [
    "## 1. Preprocessing"
   ]
  },
  {
   "cell_type": "markdown",
   "metadata": {},
   "source": [
    "1. Create the same dataframe as in the previous exercise.\n",
    "2. Using `train_test_split` with parameters `test_size=0.2`, `random_state=21` get `X_train`, `y_train`, `X_test`, `y_test` and then get `X_train`, `y_train`, `X_valid`, `y_valid` from the previous `X_train`, `y_train`. Use the additional parameter `stratify`."
   ]
  },
  {
   "cell_type": "code",
   "execution_count": 73,
   "metadata": {},
   "outputs": [
    {
     "data": {
      "text/html": [
       "<div>\n",
       "<style scoped>\n",
       "    .dataframe tbody tr th:only-of-type {\n",
       "        vertical-align: middle;\n",
       "    }\n",
       "\n",
       "    .dataframe tbody tr th {\n",
       "        vertical-align: top;\n",
       "    }\n",
       "\n",
       "    .dataframe thead th {\n",
       "        text-align: right;\n",
       "    }\n",
       "</style>\n",
       "<table border=\"1\" class=\"dataframe\">\n",
       "  <thead>\n",
       "    <tr style=\"text-align: right;\">\n",
       "      <th></th>\n",
       "      <th>numTrials</th>\n",
       "      <th>hour</th>\n",
       "      <th>uid_user_0</th>\n",
       "      <th>uid_user_1</th>\n",
       "      <th>uid_user_10</th>\n",
       "      <th>uid_user_11</th>\n",
       "      <th>uid_user_12</th>\n",
       "      <th>uid_user_13</th>\n",
       "      <th>uid_user_14</th>\n",
       "      <th>uid_user_15</th>\n",
       "      <th>...</th>\n",
       "      <th>labname_lab03</th>\n",
       "      <th>labname_lab03s</th>\n",
       "      <th>labname_lab05s</th>\n",
       "      <th>labname_laba04</th>\n",
       "      <th>labname_laba04s</th>\n",
       "      <th>labname_laba05</th>\n",
       "      <th>labname_laba06</th>\n",
       "      <th>labname_laba06s</th>\n",
       "      <th>labname_project1</th>\n",
       "      <th>dayofweek</th>\n",
       "    </tr>\n",
       "  </thead>\n",
       "  <tbody>\n",
       "    <tr>\n",
       "      <th>0</th>\n",
       "      <td>1</td>\n",
       "      <td>5</td>\n",
       "      <td>0.0</td>\n",
       "      <td>0.0</td>\n",
       "      <td>0.0</td>\n",
       "      <td>0.0</td>\n",
       "      <td>0.0</td>\n",
       "      <td>0.0</td>\n",
       "      <td>0.0</td>\n",
       "      <td>0.0</td>\n",
       "      <td>...</td>\n",
       "      <td>0.0</td>\n",
       "      <td>0.0</td>\n",
       "      <td>0.0</td>\n",
       "      <td>0.0</td>\n",
       "      <td>0.0</td>\n",
       "      <td>0.0</td>\n",
       "      <td>0.0</td>\n",
       "      <td>0.0</td>\n",
       "      <td>1.0</td>\n",
       "      <td>3</td>\n",
       "    </tr>\n",
       "    <tr>\n",
       "      <th>1</th>\n",
       "      <td>2</td>\n",
       "      <td>5</td>\n",
       "      <td>0.0</td>\n",
       "      <td>0.0</td>\n",
       "      <td>0.0</td>\n",
       "      <td>0.0</td>\n",
       "      <td>0.0</td>\n",
       "      <td>0.0</td>\n",
       "      <td>0.0</td>\n",
       "      <td>0.0</td>\n",
       "      <td>...</td>\n",
       "      <td>0.0</td>\n",
       "      <td>0.0</td>\n",
       "      <td>0.0</td>\n",
       "      <td>0.0</td>\n",
       "      <td>0.0</td>\n",
       "      <td>0.0</td>\n",
       "      <td>0.0</td>\n",
       "      <td>0.0</td>\n",
       "      <td>1.0</td>\n",
       "      <td>2</td>\n",
       "    </tr>\n",
       "    <tr>\n",
       "      <th>2</th>\n",
       "      <td>3</td>\n",
       "      <td>5</td>\n",
       "      <td>0.0</td>\n",
       "      <td>0.0</td>\n",
       "      <td>0.0</td>\n",
       "      <td>0.0</td>\n",
       "      <td>0.0</td>\n",
       "      <td>0.0</td>\n",
       "      <td>0.0</td>\n",
       "      <td>0.0</td>\n",
       "      <td>...</td>\n",
       "      <td>0.0</td>\n",
       "      <td>0.0</td>\n",
       "      <td>0.0</td>\n",
       "      <td>0.0</td>\n",
       "      <td>0.0</td>\n",
       "      <td>0.0</td>\n",
       "      <td>0.0</td>\n",
       "      <td>0.0</td>\n",
       "      <td>1.0</td>\n",
       "      <td>6</td>\n",
       "    </tr>\n",
       "    <tr>\n",
       "      <th>3</th>\n",
       "      <td>4</td>\n",
       "      <td>5</td>\n",
       "      <td>0.0</td>\n",
       "      <td>0.0</td>\n",
       "      <td>0.0</td>\n",
       "      <td>0.0</td>\n",
       "      <td>0.0</td>\n",
       "      <td>0.0</td>\n",
       "      <td>0.0</td>\n",
       "      <td>0.0</td>\n",
       "      <td>...</td>\n",
       "      <td>0.0</td>\n",
       "      <td>0.0</td>\n",
       "      <td>0.0</td>\n",
       "      <td>0.0</td>\n",
       "      <td>0.0</td>\n",
       "      <td>0.0</td>\n",
       "      <td>0.0</td>\n",
       "      <td>0.0</td>\n",
       "      <td>1.0</td>\n",
       "      <td>2</td>\n",
       "    </tr>\n",
       "    <tr>\n",
       "      <th>4</th>\n",
       "      <td>5</td>\n",
       "      <td>5</td>\n",
       "      <td>0.0</td>\n",
       "      <td>0.0</td>\n",
       "      <td>0.0</td>\n",
       "      <td>0.0</td>\n",
       "      <td>0.0</td>\n",
       "      <td>0.0</td>\n",
       "      <td>0.0</td>\n",
       "      <td>0.0</td>\n",
       "      <td>...</td>\n",
       "      <td>0.0</td>\n",
       "      <td>0.0</td>\n",
       "      <td>0.0</td>\n",
       "      <td>0.0</td>\n",
       "      <td>0.0</td>\n",
       "      <td>0.0</td>\n",
       "      <td>0.0</td>\n",
       "      <td>0.0</td>\n",
       "      <td>1.0</td>\n",
       "      <td>2</td>\n",
       "    </tr>\n",
       "    <tr>\n",
       "      <th>...</th>\n",
       "      <td>...</td>\n",
       "      <td>...</td>\n",
       "      <td>...</td>\n",
       "      <td>...</td>\n",
       "      <td>...</td>\n",
       "      <td>...</td>\n",
       "      <td>...</td>\n",
       "      <td>...</td>\n",
       "      <td>...</td>\n",
       "      <td>...</td>\n",
       "      <td>...</td>\n",
       "      <td>...</td>\n",
       "      <td>...</td>\n",
       "      <td>...</td>\n",
       "      <td>...</td>\n",
       "      <td>...</td>\n",
       "      <td>...</td>\n",
       "      <td>...</td>\n",
       "      <td>...</td>\n",
       "      <td>...</td>\n",
       "      <td>...</td>\n",
       "    </tr>\n",
       "    <tr>\n",
       "      <th>1681</th>\n",
       "      <td>9</td>\n",
       "      <td>20</td>\n",
       "      <td>0.0</td>\n",
       "      <td>0.0</td>\n",
       "      <td>0.0</td>\n",
       "      <td>0.0</td>\n",
       "      <td>0.0</td>\n",
       "      <td>0.0</td>\n",
       "      <td>0.0</td>\n",
       "      <td>0.0</td>\n",
       "      <td>...</td>\n",
       "      <td>0.0</td>\n",
       "      <td>0.0</td>\n",
       "      <td>0.0</td>\n",
       "      <td>0.0</td>\n",
       "      <td>0.0</td>\n",
       "      <td>0.0</td>\n",
       "      <td>0.0</td>\n",
       "      <td>1.0</td>\n",
       "      <td>0.0</td>\n",
       "      <td>5</td>\n",
       "    </tr>\n",
       "    <tr>\n",
       "      <th>1682</th>\n",
       "      <td>6</td>\n",
       "      <td>20</td>\n",
       "      <td>0.0</td>\n",
       "      <td>1.0</td>\n",
       "      <td>0.0</td>\n",
       "      <td>0.0</td>\n",
       "      <td>0.0</td>\n",
       "      <td>0.0</td>\n",
       "      <td>0.0</td>\n",
       "      <td>0.0</td>\n",
       "      <td>...</td>\n",
       "      <td>0.0</td>\n",
       "      <td>0.0</td>\n",
       "      <td>0.0</td>\n",
       "      <td>0.0</td>\n",
       "      <td>0.0</td>\n",
       "      <td>0.0</td>\n",
       "      <td>0.0</td>\n",
       "      <td>1.0</td>\n",
       "      <td>0.0</td>\n",
       "      <td>5</td>\n",
       "    </tr>\n",
       "    <tr>\n",
       "      <th>1683</th>\n",
       "      <td>7</td>\n",
       "      <td>20</td>\n",
       "      <td>0.0</td>\n",
       "      <td>1.0</td>\n",
       "      <td>0.0</td>\n",
       "      <td>0.0</td>\n",
       "      <td>0.0</td>\n",
       "      <td>0.0</td>\n",
       "      <td>0.0</td>\n",
       "      <td>0.0</td>\n",
       "      <td>...</td>\n",
       "      <td>0.0</td>\n",
       "      <td>0.0</td>\n",
       "      <td>0.0</td>\n",
       "      <td>0.0</td>\n",
       "      <td>0.0</td>\n",
       "      <td>0.0</td>\n",
       "      <td>0.0</td>\n",
       "      <td>1.0</td>\n",
       "      <td>0.0</td>\n",
       "      <td>0</td>\n",
       "    </tr>\n",
       "    <tr>\n",
       "      <th>1684</th>\n",
       "      <td>8</td>\n",
       "      <td>20</td>\n",
       "      <td>0.0</td>\n",
       "      <td>1.0</td>\n",
       "      <td>0.0</td>\n",
       "      <td>0.0</td>\n",
       "      <td>0.0</td>\n",
       "      <td>0.0</td>\n",
       "      <td>0.0</td>\n",
       "      <td>0.0</td>\n",
       "      <td>...</td>\n",
       "      <td>0.0</td>\n",
       "      <td>0.0</td>\n",
       "      <td>0.0</td>\n",
       "      <td>0.0</td>\n",
       "      <td>0.0</td>\n",
       "      <td>0.0</td>\n",
       "      <td>0.0</td>\n",
       "      <td>1.0</td>\n",
       "      <td>0.0</td>\n",
       "      <td>6</td>\n",
       "    </tr>\n",
       "    <tr>\n",
       "      <th>1685</th>\n",
       "      <td>9</td>\n",
       "      <td>20</td>\n",
       "      <td>0.0</td>\n",
       "      <td>1.0</td>\n",
       "      <td>0.0</td>\n",
       "      <td>0.0</td>\n",
       "      <td>0.0</td>\n",
       "      <td>0.0</td>\n",
       "      <td>0.0</td>\n",
       "      <td>0.0</td>\n",
       "      <td>...</td>\n",
       "      <td>0.0</td>\n",
       "      <td>0.0</td>\n",
       "      <td>0.0</td>\n",
       "      <td>0.0</td>\n",
       "      <td>0.0</td>\n",
       "      <td>0.0</td>\n",
       "      <td>0.0</td>\n",
       "      <td>1.0</td>\n",
       "      <td>0.0</td>\n",
       "      <td>0</td>\n",
       "    </tr>\n",
       "  </tbody>\n",
       "</table>\n",
       "<p>1686 rows × 44 columns</p>\n",
       "</div>"
      ],
      "text/plain": [
       "      numTrials  hour  uid_user_0  uid_user_1  uid_user_10  uid_user_11  \\\n",
       "0             1     5         0.0         0.0          0.0          0.0   \n",
       "1             2     5         0.0         0.0          0.0          0.0   \n",
       "2             3     5         0.0         0.0          0.0          0.0   \n",
       "3             4     5         0.0         0.0          0.0          0.0   \n",
       "4             5     5         0.0         0.0          0.0          0.0   \n",
       "...         ...   ...         ...         ...          ...          ...   \n",
       "1681          9    20         0.0         0.0          0.0          0.0   \n",
       "1682          6    20         0.0         1.0          0.0          0.0   \n",
       "1683          7    20         0.0         1.0          0.0          0.0   \n",
       "1684          8    20         0.0         1.0          0.0          0.0   \n",
       "1685          9    20         0.0         1.0          0.0          0.0   \n",
       "\n",
       "      uid_user_12  uid_user_13  uid_user_14  uid_user_15  ...  labname_lab03  \\\n",
       "0             0.0          0.0          0.0          0.0  ...            0.0   \n",
       "1             0.0          0.0          0.0          0.0  ...            0.0   \n",
       "2             0.0          0.0          0.0          0.0  ...            0.0   \n",
       "3             0.0          0.0          0.0          0.0  ...            0.0   \n",
       "4             0.0          0.0          0.0          0.0  ...            0.0   \n",
       "...           ...          ...          ...          ...  ...            ...   \n",
       "1681          0.0          0.0          0.0          0.0  ...            0.0   \n",
       "1682          0.0          0.0          0.0          0.0  ...            0.0   \n",
       "1683          0.0          0.0          0.0          0.0  ...            0.0   \n",
       "1684          0.0          0.0          0.0          0.0  ...            0.0   \n",
       "1685          0.0          0.0          0.0          0.0  ...            0.0   \n",
       "\n",
       "      labname_lab03s  labname_lab05s  labname_laba04  labname_laba04s  \\\n",
       "0                0.0             0.0             0.0              0.0   \n",
       "1                0.0             0.0             0.0              0.0   \n",
       "2                0.0             0.0             0.0              0.0   \n",
       "3                0.0             0.0             0.0              0.0   \n",
       "4                0.0             0.0             0.0              0.0   \n",
       "...              ...             ...             ...              ...   \n",
       "1681             0.0             0.0             0.0              0.0   \n",
       "1682             0.0             0.0             0.0              0.0   \n",
       "1683             0.0             0.0             0.0              0.0   \n",
       "1684             0.0             0.0             0.0              0.0   \n",
       "1685             0.0             0.0             0.0              0.0   \n",
       "\n",
       "      labname_laba05  labname_laba06  labname_laba06s  labname_project1  \\\n",
       "0                0.0             0.0              0.0               1.0   \n",
       "1                0.0             0.0              0.0               1.0   \n",
       "2                0.0             0.0              0.0               1.0   \n",
       "3                0.0             0.0              0.0               1.0   \n",
       "4                0.0             0.0              0.0               1.0   \n",
       "...              ...             ...              ...               ...   \n",
       "1681             0.0             0.0              1.0               0.0   \n",
       "1682             0.0             0.0              1.0               0.0   \n",
       "1683             0.0             0.0              1.0               0.0   \n",
       "1684             0.0             0.0              1.0               0.0   \n",
       "1685             0.0             0.0              1.0               0.0   \n",
       "\n",
       "      dayofweek  \n",
       "0             3  \n",
       "1             2  \n",
       "2             6  \n",
       "3             2  \n",
       "4             2  \n",
       "...         ...  \n",
       "1681          5  \n",
       "1682          5  \n",
       "1683          0  \n",
       "1684          6  \n",
       "1685          0  \n",
       "\n",
       "[1686 rows x 44 columns]"
      ]
     },
     "execution_count": 73,
     "metadata": {},
     "output_type": "execute_result"
    }
   ],
   "source": [
    "df = pd.read_csv('../data/day-of-week-not-scaled.csv')\n",
    "df['dayofweek'] = np.random.choice(np.arange(7), size=1686, replace=True)\n",
    "df"
   ]
  },
  {
   "cell_type": "code",
   "execution_count": 74,
   "metadata": {},
   "outputs": [],
   "source": [
    "X = df.drop('dayofweek', axis=1)\n",
    "y = df['dayofweek']\n",
    "X_train, X_test, y_train, y_test = train_test_split(X, y, test_size=0.2, random_state=21, stratify=y)\n"
   ]
  },
  {
   "cell_type": "code",
   "execution_count": 75,
   "metadata": {},
   "outputs": [],
   "source": [
    "XX = X_train.copy()\n",
    "yy = y_train.copy()"
   ]
  },
  {
   "cell_type": "code",
   "execution_count": 76,
   "metadata": {},
   "outputs": [],
   "source": [
    "X_train, X_valid, y_train, y_valid = train_test_split(XX, yy, test_size=0.2, random_state=21, stratify=yy)"
   ]
  },
  {
   "cell_type": "markdown",
   "metadata": {},
   "source": [
    "## 2. Individual classifiers"
   ]
  },
  {
   "cell_type": "markdown",
   "metadata": {},
   "source": [
    "1. Train SVM, decision tree and random forest again with the best parameters that you got from the 01 exercise with `random_state=21` for all of them.\n",
    "2. Evaluate `accuracy`, `precision`, and `recall` for them on the validation set.\n",
    "3. The result of each cell of the section should look like this:\n",
    "\n",
    "```\n",
    "accuracy is 0.87778\n",
    "precision is 0.88162\n",
    "recall is 0.87778\n",
    "```"
   ]
  },
  {
   "cell_type": "markdown",
   "metadata": {},
   "source": [
    "Лучшие параметры: {'C': 1, 'class_weight': None, 'gamma': 'auto', 'kernel': 'rbf'}\n",
    "Лучшая точность: 0.16470053696819495\n"
   ]
  },
  {
   "cell_type": "code",
   "execution_count": 77,
   "metadata": {},
   "outputs": [
    {
     "name": "stdout",
     "output_type": "stream",
     "text": [
      "Accuracy is 0.16296\n",
      "Precision is 0.11192\n",
      "recall is 0.16296\n"
     ]
    },
    {
     "name": "stderr",
     "output_type": "stream",
     "text": [
      "/home/tanya/anaconda3/lib/python3.12/site-packages/sklearn/metrics/_classification.py:1531: UndefinedMetricWarning: Precision is ill-defined and being set to 0.0 in labels with no predicted samples. Use `zero_division` parameter to control this behavior.\n",
      "  _warn_prf(average, modifier, f\"{metric.capitalize()} is\", len(result))\n"
     ]
    }
   ],
   "source": [
    "svc = SVC(random_state=21, C=1, kernel = 'rbf', probability=True)\n",
    "svc.fit(X_train, y_train)\n",
    "y_pred = svc.predict(X_valid)\n",
    "\n",
    "print(f'Accuracy is {accuracy_score(y_valid, y_pred):.5f}')\n",
    "print(f'Precision is {precision_score(y_valid, y_pred, average='weighted'):.5f}')\n",
    "print(f\"recall is {recall_score(y_valid, y_pred, average='weighted'):.5f}\")\n"
   ]
  },
  {
   "cell_type": "code",
   "execution_count": 78,
   "metadata": {},
   "outputs": [
    {
     "name": "stdout",
     "output_type": "stream",
     "text": [
      "Accuracy is 0.12963\n",
      "Precision is 0.09414\n",
      "recall is 0.12963\n"
     ]
    }
   ],
   "source": [
    "model_tree = DecisionTreeClassifier(max_depth=14, class_weight='balanced', criterion='gini')\n",
    "model_tree.fit(X_train, y_train)\n",
    "y_pred = model_tree.predict(X_valid)\n",
    "print(f'Accuracy is {accuracy_score(y_valid, y_pred):.5f}')\n",
    "print(f'Precision is {precision_score(y_valid, y_pred, average='weighted'):.5f}')\n",
    "print(f\"recall is {recall_score(y_valid, y_pred, average='weighted'):.5f}\")\n"
   ]
  },
  {
   "cell_type": "code",
   "execution_count": 79,
   "metadata": {},
   "outputs": [
    {
     "name": "stdout",
     "output_type": "stream",
     "text": [
      "Accuracy is 0.15926\n",
      "Precision is 0.16801\n",
      "recall is 0.15926\n"
     ]
    }
   ],
   "source": [
    "model_forest = RandomForestClassifier(max_depth=6, n_estimators=5, class_weight='balanced', criterion='gini')\n",
    "model_forest.fit(X_train, y_train)\n",
    "y_pred = model_forest.predict(X_valid)\n",
    "\n",
    "print(f'Accuracy is {accuracy_score(y_valid, y_pred):.5f}')\n",
    "print(f'Precision is {precision_score(y_valid, y_pred, average='weighted'):.5f}')\n",
    "print(f\"recall is {recall_score(y_valid, y_pred, average='weighted'):.5f}\")"
   ]
  },
  {
   "cell_type": "markdown",
   "metadata": {},
   "source": [
    "## 3. Voting classifiers"
   ]
  },
  {
   "cell_type": "markdown",
   "metadata": {},
   "source": [
    "1. Using `VotingClassifier` and the three models that you have just trained, calculate the `accuracy`, `precision`, and `recall` on the validation set.\n",
    "2. Play with the other parameteres.\n",
    "3. Calculate the `accuracy`, `precision` and `recall` on the test set for the model with the best weights in terms of accuracy (if there are several of them with equal values, choose the one with the higher precision)."
   ]
  },
  {
   "cell_type": "markdown",
   "metadata": {},
   "source": [
    "Voting Classifier — это метод ансамблевого обучения, который комбинирует предсказания нескольких моделей для улучшения общей производительности. Вместо того, чтобы полагаться на один отдельный классификатор, мы объединяем результаты нескольких классификаторов и делаем итоговое предсказание на основе их голосов."
   ]
  },
  {
   "cell_type": "code",
   "execution_count": 80,
   "metadata": {},
   "outputs": [
    {
     "name": "stdout",
     "output_type": "stream",
     "text": [
      "Voting Accuracy: 0.15556\n",
      "Voting Precision: 0.15509\n",
      "Voting Recall: 0.15556\n"
     ]
    }
   ],
   "source": [
    "voting_clf = VotingClassifier(estimators=[\n",
    "    ('svc', svc),    \n",
    "    ('tree', model_tree), \n",
    "    ('forest', model_forest)  \n",
    "], voting='soft')  # Используем мягкое голосование\n",
    "\n",
    "voting_clf.fit(X_train, y_train)\n",
    "y_pred_voting = voting_clf.predict(X_valid)\n",
    "\n",
    "print(f'Voting Accuracy: {accuracy_score(y_valid, y_pred_voting):.5f}')\n",
    "print(f'Voting Precision: {precision_score(y_valid, y_pred_voting, average=\"weighted\"):.5f}')\n",
    "print(f'Voting Recall: {recall_score(y_valid, y_pred_voting, average=\"weighted\"):.5f}')\n"
   ]
  },
  {
   "cell_type": "markdown",
   "metadata": {},
   "source": [
    "## 4. Bagging classifiers"
   ]
  },
  {
   "cell_type": "markdown",
   "metadata": {},
   "source": [
    "1. Using `BaggingClassifier` and `SVM` with the best parameters create an ensemble, try different values of the `n_estimators`, use `random_state=21`.\n",
    "2. Play with the other parameters.\n",
    "3. Calculate the `accuracy`, `precision`, and `recall` for the model with the best parameters (in terms of accuracy) on the test set (if there are several of them with equal values, choose the one with the higher precision)"
   ]
  },
  {
   "cell_type": "markdown",
   "metadata": {},
   "source": [
    "**Bagging (Bootstrap Aggregating)** — это метод ансамблевого обучения, который используется для улучшения точности модели. Основная идея bagging заключается в том, чтобы обучить несколько экземпляров одного и того же классификатора (или регрессора) на различных подмножествах исходных данных, а затем объединить их результаты."
   ]
  },
  {
   "cell_type": "markdown",
   "metadata": {},
   "source": [
    "**Как работает Bagging?**\n",
    "- *Создание нескольких подмножеств данных:* Из исходного набора данных случайным образом извлекаются несколько подмножеств (каждое подмножество формируется с помощью метода bootstrap — случайного отбора с возвращением). Это значит, что одни и те же данные могут быть выбраны несколько раз, а другие — не быть выбраны вовсе. Таким образом, каждый классификатор обучается на уникальной выборке данных, но все классификаторы работают с примерно одинаковым объемом данных.\n",
    "\n",
    "- *Обучение нескольких классификаторов:* Каждый классификатор обучается на своем подмножестве данных. Это может быть тот же классификатор, что и у нас был до этого, например, SVM или решающее дерево. Главное, что обучается не одна модель, а несколько.\n",
    "\n",
    "- *Комбинирование результатов:* После того как все классификаторы обучены, их предсказания комбинируются для получения итогового результата:\n",
    "\n",
    "Для классификации обычно используется голосование (например, hard voting или soft voting).\n",
    "Для регрессии обычно усредняются предсказания."
   ]
  },
  {
   "cell_type": "code",
   "execution_count": 81,
   "metadata": {},
   "outputs": [
    {
     "name": "stdout",
     "output_type": "stream",
     "text": [
      "Bagging SVM Accuracy: 0.12593\n",
      "Bagging SVM Precision: 0.13168\n",
      "Bagging SVM Recall: 0.12593\n"
     ]
    }
   ],
   "source": [
    "svc = SVC(random_state=21, C=1, kernel='rbf', gamma='auto')\n",
    "bagging_svc = BaggingClassifier(estimator=svc, n_estimators=10, random_state=21)\n",
    "bagging_svc.fit(X_train, y_train)\n",
    "y_pred_bagging_svc = bagging_svc.predict(X_valid)\n",
    "\n",
    "print(f'Bagging SVM Accuracy: {accuracy_score(y_valid, y_pred_bagging_svc):.5f}')\n",
    "print(f'Bagging SVM Precision: {precision_score(y_valid, y_pred_bagging_svc, average=\"weighted\"):.5f}')\n",
    "print(f'Bagging SVM Recall: {recall_score(y_valid, y_pred_bagging_svc, average=\"weighted\"):.5f}')"
   ]
  },
  {
   "cell_type": "code",
   "execution_count": null,
   "metadata": {},
   "outputs": [],
   "source": []
  },
  {
   "cell_type": "markdown",
   "metadata": {},
   "source": [
    "## 5. Stacking classifiers"
   ]
  },
  {
   "cell_type": "markdown",
   "metadata": {},
   "source": [
    "1. To achieve reproducibility in this case you will have to create an object of cross-validation generator: `StratifiedKFold(n_splits=n, shuffle=True, random_state=21)`, where `n` you will try to optimize (the details are below).\n",
    "2. Using `StackingClassifier` and the three models that you have recently trained, calculate the `accuracy`, `precision` and `recall` on the validation set, try different values of `n_splits` `[2, 3, 4, 5, 6, 7]` in the cross-validation generator and parameter `passthrough` in the classifier itself,\n",
    "3. Calculate the `accuracy`, `precision`, and `recall` for the model with the best parameters (in terms of accuracy) on the test set (if there are several of them with equal values, choose the one with the higher precision). Use `final_estimator=LogisticRegression(solver='liblinear')`."
   ]
  },
  {
   "cell_type": "markdown",
   "metadata": {},
   "source": [
    "Стекинг (Stacking) — это метод ансамблевого обучения, который объединяет результаты нескольких моделей (базовых классификаторов) с помощью мета-модели. В отличие от методов, таких как Bagging и Voting, которые комбинируют предсказания одинаковым образом, Stacking учится объединять предсказания, используя другую модель (мета-модель), чтобы улучшить производительность.\n",
    "\n",
    "**Как работает Stacking?**\n",
    "\n",
    "*1. Базовые модели (base models):*\n",
    "\n",
    "Несколько моделей обучаются на исходных данных (например, SVM, Decision Tree, Random Forest).\n",
    "Эти модели могут быть как одинаковыми, так и разными.\n",
    "Их цель — сделать предсказания для всех данных.\n",
    "\n",
    "*2. Мета-модель:*\n",
    "\n",
    "После того как базовые модели сделали свои предсказания, эти предсказания используются как входные данные для мета-модели (например, логистической регрессии или другой модели).\n",
    "Мета-модель обучается на этих предсказаниях, чтобы лучше комбинировать их и улучшить итоговую точность.\n",
    "\n",
    "*3. Кросс-валидация для создания надежных данных:*\n",
    "\n",
    "Чтобы избежать утечки данных, предсказания базовых моделей создаются с использованием кросс-валидации (например, с StratifiedKFold)"
   ]
  },
  {
   "cell_type": "code",
   "execution_count": 87,
   "metadata": {},
   "outputs": [
    {
     "name": "stdout",
     "output_type": "stream",
     "text": [
      "n_splits=2, passthrough=True\n",
      "Accuracy: 0.13704, Precision: 0.13441, Recall: 0.13704\n",
      "n_splits=2, passthrough=False\n",
      "Accuracy: 0.14815, Precision: 0.14983, Recall: 0.14815\n",
      "n_splits=3, passthrough=True\n",
      "Accuracy: 0.11481, Precision: 0.10814, Recall: 0.11481\n",
      "n_splits=3, passthrough=False\n",
      "Accuracy: 0.10000, Precision: 0.08910, Recall: 0.10000\n",
      "n_splits=4, passthrough=True\n",
      "Accuracy: 0.12593, Precision: 0.12200, Recall: 0.12593\n",
      "n_splits=4, passthrough=False\n",
      "Accuracy: 0.10370, Precision: 0.12043, Recall: 0.10370\n",
      "n_splits=5, passthrough=True\n",
      "Accuracy: 0.12593, Precision: 0.12451, Recall: 0.12593\n",
      "n_splits=5, passthrough=False\n",
      "Accuracy: 0.11481, Precision: 0.11082, Recall: 0.11481\n",
      "n_splits=6, passthrough=True\n",
      "Accuracy: 0.11111, Precision: 0.11074, Recall: 0.11111\n",
      "n_splits=6, passthrough=False\n",
      "Accuracy: 0.13704, Precision: 0.12564, Recall: 0.13704\n",
      "n_splits=7, passthrough=True\n",
      "Accuracy: 0.11111, Precision: 0.10841, Recall: 0.11111\n",
      "n_splits=7, passthrough=False\n",
      "Accuracy: 0.08519, Precision: 0.08549, Recall: 0.08519\n",
      "Лучший результат: Accuracy=0.14815, n_splits=2, passthrough=False\n"
     ]
    }
   ],
   "source": [
    "# Создаем объект StratifiedKFold для кросс-валидации\n",
    "n_splits_list = [2, 3, 4, 5, 6, 7]\n",
    "best_accuracy = 0\n",
    "best_model = None\n",
    "best_n_splits = 0\n",
    "best_passthrough = False #Параметр passthrough в StackingClassifier определяет, будет ли мета-модель (финальный классификатор) использовать исходные признаки вместе с предсказаниями базовых моделей.\n",
    "\n",
    "for n_splits in n_splits_list:\n",
    "    for passthrough in [True, False]:\n",
    "        cv = StratifiedKFold(n_splits=n_splits, shuffle=True, random_state=21)\n",
    "        \n",
    "        # Определяем стекинг-классификатор\n",
    "        stacking_clf = StackingClassifier(\n",
    "            estimators=[\n",
    "                ('svc', svc),\n",
    "                ('tree', model_tree),\n",
    "                ('forest', model_forest)\n",
    "            ],\n",
    "            final_estimator=LogisticRegression(solver='liblinear', random_state=21),\n",
    "            cv=cv,\n",
    "            passthrough=passthrough\n",
    "        )\n",
    "        \n",
    "        # Обучаем классификатор\n",
    "        stacking_clf.fit(X_train, y_train)\n",
    "        \n",
    "        # Оцениваем на валидационной выборке\n",
    "        y_pred_stacking = stacking_clf.predict(X_valid)\n",
    "        \n",
    "        accuracy = accuracy_score(y_valid, y_pred_stacking)\n",
    "        precision = precision_score(y_valid, y_pred_stacking, average='weighted')\n",
    "        recall = recall_score(y_valid, y_pred_stacking, average='weighted')\n",
    "        \n",
    "        print(f'n_splits={n_splits}, passthrough={passthrough}')\n",
    "        print(f'Accuracy: {accuracy:.5f}, Precision: {precision:.5f}, Recall: {recall:.5f}')\n",
    "        \n",
    "        # Сохраняем лучшую модель\n",
    "        if accuracy > best_accuracy or (accuracy == best_accuracy and precision > best_precision):\n",
    "            best_accuracy = accuracy\n",
    "            best_precision = precision\n",
    "            best_model = stacking_clf\n",
    "            best_n_splits = n_splits\n",
    "            best_passthrough = passthrough\n",
    "\n",
    "print(f'Лучший результат: Accuracy={best_accuracy:.5f}, n_splits={best_n_splits}, passthrough={best_passthrough}')\n"
   ]
  },
  {
   "cell_type": "markdown",
   "metadata": {},
   "source": [
    "## 6. Predictions"
   ]
  },
  {
   "cell_type": "markdown",
   "metadata": {},
   "source": [
    "1. Choose the best model in terms of accuracy (if there are several of them with equal values, choose the one with the higher precision).\n",
    "2. Analyze: for which weekday your model makes the most errors (in % of the total number of samples of that class in your full dataset), for which labname and for which users.\n",
    "3. Save the model."
   ]
  },
  {
   "cell_type": "code",
   "execution_count": 91,
   "metadata": {},
   "outputs": [
    {
     "data": {
      "text/plain": [
       "['best_meta_model.pkl']"
      ]
     },
     "execution_count": 91,
     "metadata": {},
     "output_type": "execute_result"
    }
   ],
   "source": [
    "y_pred_meta = best_model.predict(X)\n",
    "\n",
    "joblib.dump(best_model, 'best_meta_model.pkl')"
   ]
  },
  {
   "cell_type": "code",
   "execution_count": 92,
   "metadata": {},
   "outputs": [
    {
     "data": {
      "text/plain": [
       "<sklearn.metrics._plot.confusion_matrix.ConfusionMatrixDisplay at 0x716902b83b00>"
      ]
     },
     "execution_count": 92,
     "metadata": {},
     "output_type": "execute_result"
    },
    {
     "data": {
      "image/png": "[encoded data removed]",
      "text/plain": [
       "<Figure size 640x480 with 2 Axes>"
      ]
     },
     "metadata": {},
     "output_type": "display_data"
    }
   ],
   "source": [
    "ConfusionMatrixDisplay.from_estimator(model_forest, X_test, y_test)"
   ]
  }
 ],
 "metadata": {
  "kernelspec": {
   "display_name": "base",
   "language": "python",
   "name": "python3"
  },
  "language_info": {
   "codemirror_mode": {
    "name": "ipython",
    "version": 3
   },
   "file_extension": ".py",
   "mimetype": "text/x-python",
   "name": "python",
   "nbconvert_exporter": "python",
   "pygments_lexer": "ipython3",
   "version": "3.12.7"
  }
 },
 "nbformat": 4,
 "nbformat_minor": 4
}
