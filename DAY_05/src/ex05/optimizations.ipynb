{
 "cells": [
  {
   "cell_type": "code",
   "execution_count": 38,
   "metadata": {},
   "outputs": [],
   "source": [
    "import pandas as pd\n",
    "import gc"
   ]
  },
  {
   "cell_type": "markdown",
   "metadata": {},
   "source": [
    "## Чтение файла fines.csv"
   ]
  },
  {
   "cell_type": "code",
   "execution_count": 39,
   "metadata": {},
   "outputs": [
    {
     "data": {
      "text/html": [
       "<div>\n",
       "<style scoped>\n",
       "    .dataframe tbody tr th:only-of-type {\n",
       "        vertical-align: middle;\n",
       "    }\n",
       "\n",
       "    .dataframe tbody tr th {\n",
       "        vertical-align: top;\n",
       "    }\n",
       "\n",
       "    .dataframe thead th {\n",
       "        text-align: right;\n",
       "    }\n",
       "</style>\n",
       "<table border=\"1\" class=\"dataframe\">\n",
       "  <thead>\n",
       "    <tr style=\"text-align: right;\">\n",
       "      <th></th>\n",
       "      <th>CarNumber</th>\n",
       "      <th>Refund</th>\n",
       "      <th>Fines</th>\n",
       "      <th>Make</th>\n",
       "      <th>Model</th>\n",
       "      <th>Year</th>\n",
       "    </tr>\n",
       "  </thead>\n",
       "  <tbody>\n",
       "    <tr>\n",
       "      <th>0</th>\n",
       "      <td>Y163O8161RUS</td>\n",
       "      <td>2.0</td>\n",
       "      <td>3200.0</td>\n",
       "      <td>Ford</td>\n",
       "      <td>Focus</td>\n",
       "      <td>1985</td>\n",
       "    </tr>\n",
       "    <tr>\n",
       "      <th>1</th>\n",
       "      <td>E432XX77RUS</td>\n",
       "      <td>1.0</td>\n",
       "      <td>6500.0</td>\n",
       "      <td>Toyota</td>\n",
       "      <td>Camry</td>\n",
       "      <td>1985</td>\n",
       "    </tr>\n",
       "    <tr>\n",
       "      <th>2</th>\n",
       "      <td>7184TT36RUS</td>\n",
       "      <td>1.0</td>\n",
       "      <td>2100.0</td>\n",
       "      <td>Ford</td>\n",
       "      <td>Focus</td>\n",
       "      <td>1987</td>\n",
       "    </tr>\n",
       "    <tr>\n",
       "      <th>3</th>\n",
       "      <td>X582HE161RUS</td>\n",
       "      <td>2.0</td>\n",
       "      <td>2000.0</td>\n",
       "      <td>Ford</td>\n",
       "      <td>Focus</td>\n",
       "      <td>1981</td>\n",
       "    </tr>\n",
       "    <tr>\n",
       "      <th>4</th>\n",
       "      <td>92918M178RUS</td>\n",
       "      <td>1.0</td>\n",
       "      <td>5700.0</td>\n",
       "      <td>Ford</td>\n",
       "      <td>Focus</td>\n",
       "      <td>2007</td>\n",
       "    </tr>\n",
       "    <tr>\n",
       "      <th>...</th>\n",
       "      <td>...</td>\n",
       "      <td>...</td>\n",
       "      <td>...</td>\n",
       "      <td>...</td>\n",
       "      <td>...</td>\n",
       "      <td>...</td>\n",
       "    </tr>\n",
       "    <tr>\n",
       "      <th>925</th>\n",
       "      <td>NEW1</td>\n",
       "      <td>0.0</td>\n",
       "      <td>500.0</td>\n",
       "      <td>Lada</td>\n",
       "      <td>Granta</td>\n",
       "      <td>2018</td>\n",
       "    </tr>\n",
       "    <tr>\n",
       "      <th>926</th>\n",
       "      <td>NEW2</td>\n",
       "      <td>0.0</td>\n",
       "      <td>1000.0</td>\n",
       "      <td>Toyota</td>\n",
       "      <td>Camry</td>\n",
       "      <td>2019</td>\n",
       "    </tr>\n",
       "    <tr>\n",
       "      <th>927</th>\n",
       "      <td>NEW3</td>\n",
       "      <td>1.0</td>\n",
       "      <td>750.0</td>\n",
       "      <td>Chevrolet</td>\n",
       "      <td>Aveo</td>\n",
       "      <td>2020</td>\n",
       "    </tr>\n",
       "    <tr>\n",
       "      <th>928</th>\n",
       "      <td>NEW4</td>\n",
       "      <td>1.0</td>\n",
       "      <td>1200.0</td>\n",
       "      <td>Audi</td>\n",
       "      <td>A4</td>\n",
       "      <td>2017</td>\n",
       "    </tr>\n",
       "    <tr>\n",
       "      <th>929</th>\n",
       "      <td>NEW5</td>\n",
       "      <td>2.0</td>\n",
       "      <td>3000.0</td>\n",
       "      <td>Tesla</td>\n",
       "      <td>Model S</td>\n",
       "      <td>2016</td>\n",
       "    </tr>\n",
       "  </tbody>\n",
       "</table>\n",
       "<p>930 rows × 6 columns</p>\n",
       "</div>"
      ],
      "text/plain": [
       "        CarNumber  Refund   Fines       Make    Model  Year\n",
       "0    Y163O8161RUS     2.0  3200.0       Ford    Focus  1985\n",
       "1     E432XX77RUS     1.0  6500.0     Toyota    Camry  1985\n",
       "2     7184TT36RUS     1.0  2100.0       Ford    Focus  1987\n",
       "3    X582HE161RUS     2.0  2000.0       Ford    Focus  1981\n",
       "4    92918M178RUS     1.0  5700.0       Ford    Focus  2007\n",
       "..            ...     ...     ...        ...      ...   ...\n",
       "925          NEW1     0.0   500.0       Lada   Granta  2018\n",
       "926          NEW2     0.0  1000.0     Toyota    Camry  2019\n",
       "927          NEW3     1.0   750.0  Chevrolet     Aveo  2020\n",
       "928          NEW4     1.0  1200.0       Audi       A4  2017\n",
       "929          NEW5     2.0  3000.0      Tesla  Model S  2016\n",
       "\n",
       "[930 rows x 6 columns]"
      ]
     },
     "execution_count": 39,
     "metadata": {},
     "output_type": "execute_result"
    }
   ],
   "source": [
    "df = pd.read_csv('../data/fines.csv')\n",
    "df"
   ]
  },
  {
   "cell_type": "markdown",
   "metadata": {},
   "source": [
    "Замена ячеек, где Refund = 0 на очень маленькое число (для дальнецших вычислений)"
   ]
  },
  {
   "cell_type": "code",
   "execution_count": 40,
   "metadata": {},
   "outputs": [],
   "source": [
    "df[\"Refund\"] = df[\"Refund\"].replace(0, 1e-10) "
   ]
  },
  {
   "cell_type": "markdown",
   "metadata": {},
   "source": [
    "## Итерации: во всех следующих подзадачах необходимо рассчитать штрафы/возврат*год для каждой строки и создать новый столбец с рассчитанными данными и измерить время с помощью магической команды %%timeit в ячейке"
   ]
  },
  {
   "cell_type": "markdown",
   "metadata": {},
   "source": [
    "1. цикл: написать функцию, которая проходит по фрейму данных, используя for i in range(0, len(df)), iloc и append() к списку, присвоить результат функции новому столбцу в фрейме данных"
   ]
  },
  {
   "cell_type": "code",
   "execution_count": 41,
   "metadata": {},
   "outputs": [],
   "source": [
    "def loop(df):\n",
    "    res = []\n",
    "    for i in range(0, len(df)):\n",
    "        res.append(df.iloc[i][\"Fines\"] / (df.iloc[i][\"Refund\"]) * df.iloc[i][\"Year\"])\n",
    "    df[\"Calculation_loop\"] = res"
   ]
  },
  {
   "cell_type": "code",
   "execution_count": 42,
   "metadata": {},
   "outputs": [
    {
     "name": "stdout",
     "output_type": "stream",
     "text": [
      "130 ms ± 12.6 ms per loop (mean ± std. dev. of 7 runs, 10 loops each)\n"
     ]
    }
   ],
   "source": [
    "%%timeit\n",
    "loop(df)\n",
    "df"
   ]
  },
  {
   "cell_type": "markdown",
   "metadata": {},
   "source": [
    "2. с помощью iterrows()\n"
   ]
  },
  {
   "cell_type": "code",
   "execution_count": 43,
   "metadata": {},
   "outputs": [],
   "source": [
    "def iterrows(df):\n",
    "    res = []\n",
    "    for i, row in df.iterrows():\n",
    "        res.append(row[\"Fines\"] / (row[\"Refund\"]) * row[\"Year\"])\n",
    "    df[\"Calculation_iterrows\"] = res"
   ]
  },
  {
   "cell_type": "code",
   "execution_count": 44,
   "metadata": {},
   "outputs": [
    {
     "name": "stdout",
     "output_type": "stream",
     "text": [
      "45.5 ms ± 2.43 ms per loop (mean ± std. dev. of 7 runs, 10 loops each)\n"
     ]
    }
   ],
   "source": [
    "%%timeit\n",
    "iterrows(df)\n",
    "df"
   ]
  },
  {
   "cell_type": "markdown",
   "metadata": {},
   "source": [
    "3. с помощью apply() и лямбда-функции"
   ]
  },
  {
   "cell_type": "code",
   "execution_count": 45,
   "metadata": {},
   "outputs": [],
   "source": [
    "def apply_and_lambda(df):\n",
    "    df[\"Calculation_apply\"] = df.apply(lambda x: x[\"Fines\"] / (x[\"Refund\"]) * x[\"Year\"], axis=1)\n"
   ]
  },
  {
   "cell_type": "code",
   "execution_count": 46,
   "metadata": {},
   "outputs": [
    {
     "name": "stdout",
     "output_type": "stream",
     "text": [
      "9.31 ms ± 781 μs per loop (mean ± std. dev. of 7 runs, 100 loops each)\n"
     ]
    }
   ],
   "source": [
    "%%timeit\n",
    "apply_and_lambda(df)\n",
    "df"
   ]
  },
  {
   "cell_type": "markdown",
   "metadata": {},
   "source": [
    "4. с помощью объектов Series из фрейма данных"
   ]
  },
  {
   "cell_type": "code",
   "execution_count": 47,
   "metadata": {},
   "outputs": [
    {
     "name": "stdout",
     "output_type": "stream",
     "text": [
      "242 μs ± 9.25 μs per loop (mean ± std. dev. of 7 runs, 1,000 loops each)\n"
     ]
    }
   ],
   "source": [
    "%%timeit\n",
    "df[\"Calculation_series\"] = df[\"Fines\"] / (df[\"Refund\"]) * df[\"Year\"]\n",
    "df"
   ]
  },
  {
   "cell_type": "markdown",
   "metadata": {},
   "source": [
    "5. с методом .values"
   ]
  },
  {
   "cell_type": "code",
   "execution_count": 48,
   "metadata": {},
   "outputs": [
    {
     "name": "stdout",
     "output_type": "stream",
     "text": [
      "124 μs ± 3.67 μs per loop (mean ± std. dev. of 7 runs, 10,000 loops each)\n"
     ]
    }
   ],
   "source": [
    "%%timeit\n",
    "df[\"Calculation_values\"] = df[\"Fines\"].values / (df[\"Refund\"].values) * df[\"Year\"].values\n",
    "df"
   ]
  },
  {
   "cell_type": "markdown",
   "metadata": {},
   "source": [
    "## индексация: измерьте время с помощью магической команды %%timeit в ячейке"
   ]
  },
  {
   "cell_type": "markdown",
   "metadata": {},
   "source": [
    "получить строку для определенного номера автомобиля, например, «O136HO197RUS»"
   ]
  },
  {
   "cell_type": "code",
   "execution_count": 49,
   "metadata": {},
   "outputs": [
    {
     "name": "stdout",
     "output_type": "stream",
     "text": [
      "480 μs ± 15.9 μs per loop (mean ± std. dev. of 7 runs, 1,000 loops each)\n"
     ]
    }
   ],
   "source": [
    "%%timeit\n",
    "df[df[\"CarNumber\"] == 'O136HO197RUS']"
   ]
  },
  {
   "cell_type": "markdown",
   "metadata": {},
   "source": [
    "установите индекс в вашем фрейме данных с помощью CarNumber"
   ]
  },
  {
   "cell_type": "code",
   "execution_count": 50,
   "metadata": {},
   "outputs": [],
   "source": [
    "\n",
    "df.set_index('CarNumber', inplace=True)\n"
   ]
  },
  {
   "cell_type": "code",
   "execution_count": 51,
   "metadata": {},
   "outputs": [
    {
     "name": "stdout",
     "output_type": "stream",
     "text": [
      "311 μs ± 10.7 μs per loop (mean ± std. dev. of 7 runs, 1,000 loops each)\n"
     ]
    }
   ],
   "source": [
    "%%timeit\n",
    "df.loc[df.index == 'O136HO197RUS']"
   ]
  },
  {
   "cell_type": "markdown",
   "metadata": {},
   "source": [
    "запустите df.info(memory_usage='deep'), обратите внимание на Dtype и использование памяти"
   ]
  },
  {
   "cell_type": "code",
   "execution_count": 52,
   "metadata": {},
   "outputs": [
    {
     "name": "stdout",
     "output_type": "stream",
     "text": [
      "<class 'pandas.core.frame.DataFrame'>\n",
      "Index: 930 entries, Y163O8161RUS to NEW5\n",
      "Data columns (total 10 columns):\n",
      " #   Column                Non-Null Count  Dtype  \n",
      "---  ------                --------------  -----  \n",
      " 0   Refund                914 non-null    float64\n",
      " 1   Fines                 930 non-null    float64\n",
      " 2   Make                  930 non-null    object \n",
      " 3   Model                 919 non-null    object \n",
      " 4   Year                  930 non-null    int64  \n",
      " 5   Calculation_loop      914 non-null    float64\n",
      " 6   Calculation_iterrows  914 non-null    float64\n",
      " 7   Calculation_apply     914 non-null    float64\n",
      " 8   Calculation_series    914 non-null    float64\n",
      " 9   Calculation_values    914 non-null    float64\n",
      "dtypes: float64(7), int64(1), object(2)\n",
      "memory usage: 211.0 KB\n"
     ]
    }
   ],
   "source": [
    "df.info(memory_usage='deep')"
   ]
  },
  {
   "cell_type": "markdown",
   "metadata": {},
   "source": [
    "сделайте копию() вашего исходного фрейма данных в другой оптимизированный фрейм данных"
   ]
  },
  {
   "cell_type": "code",
   "execution_count": 53,
   "metadata": {},
   "outputs": [
    {
     "data": {
      "text/html": [
       "<div>\n",
       "<style scoped>\n",
       "    .dataframe tbody tr th:only-of-type {\n",
       "        vertical-align: middle;\n",
       "    }\n",
       "\n",
       "    .dataframe tbody tr th {\n",
       "        vertical-align: top;\n",
       "    }\n",
       "\n",
       "    .dataframe thead th {\n",
       "        text-align: right;\n",
       "    }\n",
       "</style>\n",
       "<table border=\"1\" class=\"dataframe\">\n",
       "  <thead>\n",
       "    <tr style=\"text-align: right;\">\n",
       "      <th></th>\n",
       "      <th>Refund</th>\n",
       "      <th>Fines</th>\n",
       "      <th>Make</th>\n",
       "      <th>Model</th>\n",
       "      <th>Year</th>\n",
       "      <th>Calculation_loop</th>\n",
       "      <th>Calculation_iterrows</th>\n",
       "      <th>Calculation_apply</th>\n",
       "      <th>Calculation_series</th>\n",
       "      <th>Calculation_values</th>\n",
       "    </tr>\n",
       "    <tr>\n",
       "      <th>CarNumber</th>\n",
       "      <th></th>\n",
       "      <th></th>\n",
       "      <th></th>\n",
       "      <th></th>\n",
       "      <th></th>\n",
       "      <th></th>\n",
       "      <th></th>\n",
       "      <th></th>\n",
       "      <th></th>\n",
       "      <th></th>\n",
       "    </tr>\n",
       "  </thead>\n",
       "  <tbody>\n",
       "    <tr>\n",
       "      <th>Y163O8161RUS</th>\n",
       "      <td>2.000000e+00</td>\n",
       "      <td>3200.0</td>\n",
       "      <td>Ford</td>\n",
       "      <td>Focus</td>\n",
       "      <td>1985</td>\n",
       "      <td>3.176000e+06</td>\n",
       "      <td>3.176000e+06</td>\n",
       "      <td>3.176000e+06</td>\n",
       "      <td>3.176000e+06</td>\n",
       "      <td>3.176000e+06</td>\n",
       "    </tr>\n",
       "    <tr>\n",
       "      <th>E432XX77RUS</th>\n",
       "      <td>1.000000e+00</td>\n",
       "      <td>6500.0</td>\n",
       "      <td>Toyota</td>\n",
       "      <td>Camry</td>\n",
       "      <td>1985</td>\n",
       "      <td>1.290250e+07</td>\n",
       "      <td>1.290250e+07</td>\n",
       "      <td>1.290250e+07</td>\n",
       "      <td>1.290250e+07</td>\n",
       "      <td>1.290250e+07</td>\n",
       "    </tr>\n",
       "    <tr>\n",
       "      <th>7184TT36RUS</th>\n",
       "      <td>1.000000e+00</td>\n",
       "      <td>2100.0</td>\n",
       "      <td>Ford</td>\n",
       "      <td>Focus</td>\n",
       "      <td>1987</td>\n",
       "      <td>4.172700e+06</td>\n",
       "      <td>4.172700e+06</td>\n",
       "      <td>4.172700e+06</td>\n",
       "      <td>4.172700e+06</td>\n",
       "      <td>4.172700e+06</td>\n",
       "    </tr>\n",
       "    <tr>\n",
       "      <th>X582HE161RUS</th>\n",
       "      <td>2.000000e+00</td>\n",
       "      <td>2000.0</td>\n",
       "      <td>Ford</td>\n",
       "      <td>Focus</td>\n",
       "      <td>1981</td>\n",
       "      <td>1.981000e+06</td>\n",
       "      <td>1.981000e+06</td>\n",
       "      <td>1.981000e+06</td>\n",
       "      <td>1.981000e+06</td>\n",
       "      <td>1.981000e+06</td>\n",
       "    </tr>\n",
       "    <tr>\n",
       "      <th>92918M178RUS</th>\n",
       "      <td>1.000000e+00</td>\n",
       "      <td>5700.0</td>\n",
       "      <td>Ford</td>\n",
       "      <td>Focus</td>\n",
       "      <td>2007</td>\n",
       "      <td>1.143990e+07</td>\n",
       "      <td>1.143990e+07</td>\n",
       "      <td>1.143990e+07</td>\n",
       "      <td>1.143990e+07</td>\n",
       "      <td>1.143990e+07</td>\n",
       "    </tr>\n",
       "    <tr>\n",
       "      <th>...</th>\n",
       "      <td>...</td>\n",
       "      <td>...</td>\n",
       "      <td>...</td>\n",
       "      <td>...</td>\n",
       "      <td>...</td>\n",
       "      <td>...</td>\n",
       "      <td>...</td>\n",
       "      <td>...</td>\n",
       "      <td>...</td>\n",
       "      <td>...</td>\n",
       "    </tr>\n",
       "    <tr>\n",
       "      <th>NEW1</th>\n",
       "      <td>1.000000e-10</td>\n",
       "      <td>500.0</td>\n",
       "      <td>Lada</td>\n",
       "      <td>Granta</td>\n",
       "      <td>2018</td>\n",
       "      <td>1.009000e+16</td>\n",
       "      <td>1.009000e+16</td>\n",
       "      <td>1.009000e+16</td>\n",
       "      <td>1.009000e+16</td>\n",
       "      <td>1.009000e+16</td>\n",
       "    </tr>\n",
       "    <tr>\n",
       "      <th>NEW2</th>\n",
       "      <td>1.000000e-10</td>\n",
       "      <td>1000.0</td>\n",
       "      <td>Toyota</td>\n",
       "      <td>Camry</td>\n",
       "      <td>2019</td>\n",
       "      <td>2.019000e+16</td>\n",
       "      <td>2.019000e+16</td>\n",
       "      <td>2.019000e+16</td>\n",
       "      <td>2.019000e+16</td>\n",
       "      <td>2.019000e+16</td>\n",
       "    </tr>\n",
       "    <tr>\n",
       "      <th>NEW3</th>\n",
       "      <td>1.000000e+00</td>\n",
       "      <td>750.0</td>\n",
       "      <td>Chevrolet</td>\n",
       "      <td>Aveo</td>\n",
       "      <td>2020</td>\n",
       "      <td>1.515000e+06</td>\n",
       "      <td>1.515000e+06</td>\n",
       "      <td>1.515000e+06</td>\n",
       "      <td>1.515000e+06</td>\n",
       "      <td>1.515000e+06</td>\n",
       "    </tr>\n",
       "    <tr>\n",
       "      <th>NEW4</th>\n",
       "      <td>1.000000e+00</td>\n",
       "      <td>1200.0</td>\n",
       "      <td>Audi</td>\n",
       "      <td>A4</td>\n",
       "      <td>2017</td>\n",
       "      <td>2.420400e+06</td>\n",
       "      <td>2.420400e+06</td>\n",
       "      <td>2.420400e+06</td>\n",
       "      <td>2.420400e+06</td>\n",
       "      <td>2.420400e+06</td>\n",
       "    </tr>\n",
       "    <tr>\n",
       "      <th>NEW5</th>\n",
       "      <td>2.000000e+00</td>\n",
       "      <td>3000.0</td>\n",
       "      <td>Tesla</td>\n",
       "      <td>Model S</td>\n",
       "      <td>2016</td>\n",
       "      <td>3.024000e+06</td>\n",
       "      <td>3.024000e+06</td>\n",
       "      <td>3.024000e+06</td>\n",
       "      <td>3.024000e+06</td>\n",
       "      <td>3.024000e+06</td>\n",
       "    </tr>\n",
       "  </tbody>\n",
       "</table>\n",
       "<p>930 rows × 10 columns</p>\n",
       "</div>"
      ],
      "text/plain": [
       "                    Refund   Fines       Make    Model  Year  \\\n",
       "CarNumber                                                      \n",
       "Y163O8161RUS  2.000000e+00  3200.0       Ford    Focus  1985   \n",
       "E432XX77RUS   1.000000e+00  6500.0     Toyota    Camry  1985   \n",
       "7184TT36RUS   1.000000e+00  2100.0       Ford    Focus  1987   \n",
       "X582HE161RUS  2.000000e+00  2000.0       Ford    Focus  1981   \n",
       "92918M178RUS  1.000000e+00  5700.0       Ford    Focus  2007   \n",
       "...                    ...     ...        ...      ...   ...   \n",
       "NEW1          1.000000e-10   500.0       Lada   Granta  2018   \n",
       "NEW2          1.000000e-10  1000.0     Toyota    Camry  2019   \n",
       "NEW3          1.000000e+00   750.0  Chevrolet     Aveo  2020   \n",
       "NEW4          1.000000e+00  1200.0       Audi       A4  2017   \n",
       "NEW5          2.000000e+00  3000.0      Tesla  Model S  2016   \n",
       "\n",
       "              Calculation_loop  Calculation_iterrows  Calculation_apply  \\\n",
       "CarNumber                                                                 \n",
       "Y163O8161RUS      3.176000e+06          3.176000e+06       3.176000e+06   \n",
       "E432XX77RUS       1.290250e+07          1.290250e+07       1.290250e+07   \n",
       "7184TT36RUS       4.172700e+06          4.172700e+06       4.172700e+06   \n",
       "X582HE161RUS      1.981000e+06          1.981000e+06       1.981000e+06   \n",
       "92918M178RUS      1.143990e+07          1.143990e+07       1.143990e+07   \n",
       "...                        ...                   ...                ...   \n",
       "NEW1              1.009000e+16          1.009000e+16       1.009000e+16   \n",
       "NEW2              2.019000e+16          2.019000e+16       2.019000e+16   \n",
       "NEW3              1.515000e+06          1.515000e+06       1.515000e+06   \n",
       "NEW4              2.420400e+06          2.420400e+06       2.420400e+06   \n",
       "NEW5              3.024000e+06          3.024000e+06       3.024000e+06   \n",
       "\n",
       "              Calculation_series  Calculation_values  \n",
       "CarNumber                                             \n",
       "Y163O8161RUS        3.176000e+06        3.176000e+06  \n",
       "E432XX77RUS         1.290250e+07        1.290250e+07  \n",
       "7184TT36RUS         4.172700e+06        4.172700e+06  \n",
       "X582HE161RUS        1.981000e+06        1.981000e+06  \n",
       "92918M178RUS        1.143990e+07        1.143990e+07  \n",
       "...                          ...                 ...  \n",
       "NEW1                1.009000e+16        1.009000e+16  \n",
       "NEW2                2.019000e+16        2.019000e+16  \n",
       "NEW3                1.515000e+06        1.515000e+06  \n",
       "NEW4                2.420400e+06        2.420400e+06  \n",
       "NEW5                3.024000e+06        3.024000e+06  \n",
       "\n",
       "[930 rows x 10 columns]"
      ]
     },
     "execution_count": 53,
     "metadata": {},
     "output_type": "execute_result"
    }
   ],
   "source": [
    "optim = df.copy()\n",
    "optim\n"
   ]
  },
  {
   "cell_type": "code",
   "execution_count": null,
   "metadata": {},
   "outputs": [
    {
     "name": "stdout",
     "output_type": "stream",
     "text": [
      "<class 'pandas.core.frame.DataFrame'>\n",
      "Index: 930 entries, Y163O8161RUS to NEW5\n",
      "Data columns (total 10 columns):\n",
      " #   Column                Non-Null Count  Dtype   \n",
      "---  ------                --------------  -----   \n",
      " 0   Refund                914 non-null    float64 \n",
      " 1   Fines                 930 non-null    float32 \n",
      " 2   Make                  930 non-null    category\n",
      " 3   Model                 919 non-null    category\n",
      " 4   Year                  930 non-null    uint16  \n",
      " 5   Calculation_loop      914 non-null    float64 \n",
      " 6   Calculation_iterrows  914 non-null    float64 \n",
      " 7   Calculation_apply     914 non-null    float64 \n",
      " 8   Calculation_series    914 non-null    float64 \n",
      " 9   Calculation_values    914 non-null    float64 \n",
      "dtypes: category(2), float32(1), float64(6), uint16(1)\n",
      "memory usage: 108.1 KB\n"
     ]
    }
   ],
   "source": [
    "optim['Refund'] = pd.to_numeric(optim['Refund'], downcast='unsigned')\n",
    "optim['Year'] = pd.to_numeric(optim['Year'], downcast='unsigned') \n",
    "optim['Fines'] = pd.to_numeric(optim['Fines'], downcast='float')  \n",
    "optim['Calculation_loop'] = pd.to_numeric(optim['Calculation_loop'], downcast='float') \n",
    "optim['Calculation_iterrows'] = pd.to_numeric(optim['Calculation_iterrows'], downcast='float') \n",
    "optim['Calculation_apply'] = pd.to_numeric(optim['Calculation_apply'], downcast='float') \n",
    "optim['Calculation_values'] = pd.to_numeric(optim['Calculation_values'], downcast='float')\n",
    "optim['Calculation_series'] = pd.to_numeric(optim['Calculation_series'], downcast='float') \n",
    "optim['Make'] = optim['Make'].astype('category')        \n",
    "optim['Model'] = optim['Model'].astype('category')    \n",
    "optim.info(memory_usage='deep')"
   ]
  },
  {
   "cell_type": "code",
   "execution_count": 55,
   "metadata": {},
   "outputs": [
    {
     "data": {
      "text/plain": [
       "3"
      ]
     },
     "execution_count": 55,
     "metadata": {},
     "output_type": "execute_result"
    }
   ],
   "source": [
    "gc.collect()"
   ]
  }
 ],
 "metadata": {
  "kernelspec": {
   "display_name": "deberasu",
   "language": "python",
   "name": "python3"
  },
  "language_info": {
   "codemirror_mode": {
    "name": "ipython",
    "version": 3
   },
   "file_extension": ".py",
   "mimetype": "text/x-python",
   "name": "python",
   "nbconvert_exporter": "python",
   "pygments_lexer": "ipython3",
   "version": "3.12.3"
  }
 },
 "nbformat": 4,
 "nbformat_minor": 2
}
